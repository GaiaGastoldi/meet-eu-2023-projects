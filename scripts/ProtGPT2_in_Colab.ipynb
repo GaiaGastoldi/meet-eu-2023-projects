{
  "cells": [
    {
      "cell_type": "markdown",
      "metadata": {
        "id": "OPz40oQsJaLA"
      },
      "source": [
        "# ProtGPT2 in Colab\n",
        "\n"
      ]
    },
    {
      "cell_type": "code",
      "execution_count": null,
      "metadata": {
        "cellView": "form",
        "colab": {
          "base_uri": "https://localhost:8080/",
          "height": 732,
          "referenced_widgets": [
            "48744597d9ab46919eb4dcb07e87220d",
            "27cc51404929439bb86fb8515b77dc9a",
            "74dcf0c20bb148b399a422fcf7c1df0e",
            "27c0ce5f9b5f4d18823dad81e7be742d",
            "39ca4aa61a344670954dbe9c8ae31176",
            "64bd1a4e0627491d9803fb822ef04204",
            "2f29b3c2beed4c339a3e83d1ecb9f065",
            "054274cb76ac461cac61522705204728",
            "9f8931438a974801a80f1f7a6c0924e6",
            "b5b36eecd2e34dcc934f492efea70b21",
            "5444467a50ca4b39ad48cb16fdc2b458",
            "8210b254d6414005b90448a137b508b0",
            "1abf6e9db1c54408be085d254b5a24e3",
            "ab65e3c1db974830a7ec2e5f3429aa20",
            "882fb8f338bc45a398ba2edc6ca36b13",
            "a0adf8d7d45247f993eb167ccb595126",
            "a423a6fab7d541cd9cd7b654ecda7ee9",
            "5820a425b1a14d9b90a3d7a895ee4744",
            "294266ba292f466ab3b362977426eacc",
            "19c126eef07942e995e2c23d11e3cbc2",
            "0f02912f0d2440848bc19c7c1c368ec8",
            "b6a971f0bd5e47669cba7d06cb94799d",
            "5a63cb46b12f445d8cc166f7366bd9a2",
            "ce4f2ec3e5354c8bb7af63a8efc29429",
            "f63b6e8618b34ae7bd9cc5aaff9a834b",
            "3e38e1286ca74052866dcd9163c4bf5d",
            "d7af5783fee247a68bb828073be4a944",
            "4459de47c7354b34be684b866d030d69",
            "11036dfa0d8f41b2a140c5e1284d20c9",
            "1b1ff77b05a3400680ef0b78b1101189",
            "1a5073d4297645f2be80da6bd8bd5c67",
            "058908761fa246dea61ba456d906f2b7",
            "2cef4d52fd3f495ebe3ec35d3567645a",
            "ee23483cd09846c0aa8c296fd919f2a9",
            "8a67ef9d8d2c4a73b0190cfe4e18bde9",
            "bac9daa7d3b14641b4052b047c122a88",
            "b6cf75c375e243e3a05f09d4fa1b9ee3",
            "e4e7aabdb44343e0b5a6bf32fb15d829",
            "58f4adbc450244dba12046c39d8df9a9",
            "cd044f97b01a4e129444daeee8da8038",
            "750d74e621574f1ba572587ff0143804",
            "a8216b88b0af4975b4e1e090a26e2b94",
            "eba3de2fa75743ddb806bc51c996e63b",
            "182d27b4b9f54f5faa339edd4bdb84c3",
            "8fdcee832cd94527a8ea685cfb8833f3",
            "59938e9e235e41c9b930a757d12eece7",
            "e4baa69e1aa94d959ac7d976763d3396",
            "9668c224ff4f48cb875673d792c0f085",
            "254886ccc2ae40d1b942e09dc97d676f",
            "3fadcd0b6c0e46a2a85365e23147cc0d",
            "e4a896f8a1d84627a00197081b91f5bb",
            "ca844b74a02d466bb0af70bcf624f7cb",
            "873f8920b7ba4b269404fa49ef006287",
            "20030598aa014bb7ad9a4b030c1435df",
            "a758fcf9ba444c6aba2d763fa1a65307",
            "e1aa59f8ddb549dfafb0863fcbc43c7a",
            "ca52ee5750874674bd5ebebe005feace",
            "bc33c68f2a31431883d17e798e88a41d",
            "f6a5e01ff92c4582b2f2535655ea51bf",
            "3755fbc3a531466aa5ae2a09a13d0143",
            "80daedebe4254b3da0c615c1cd9a36c4",
            "f1dfd1e5175242a2afc9adcc05263d77",
            "fab415d4a3574062bb4b21d13961d970",
            "9090769a979f49a48c89daa395f6343f",
            "8d9827651158432f9b722ef5e45c6ce5",
            "e7db157030f44835a78fb5212c79c9a8"
          ]
        },
        "id": "ix0Kz4KEGoLL",
        "outputId": "3c7485cc-2fe5-48e6-e9bb-1436076bf529"
      },
      "outputs": [
        {
          "name": "stdout",
          "output_type": "stream",
          "text": [
            "Requirement already satisfied: transformers in /usr/local/lib/python3.10/dist-packages (4.35.2)\n",
            "Requirement already satisfied: filelock in /usr/local/lib/python3.10/dist-packages (from transformers) (3.13.1)\n",
            "Requirement already satisfied: huggingface-hub<1.0,>=0.16.4 in /usr/local/lib/python3.10/dist-packages (from transformers) (0.20.2)\n",
            "Requirement already satisfied: numpy>=1.17 in /usr/local/lib/python3.10/dist-packages (from transformers) (1.23.5)\n",
            "Requirement already satisfied: packaging>=20.0 in /usr/local/lib/python3.10/dist-packages (from transformers) (23.2)\n",
            "Requirement already satisfied: pyyaml>=5.1 in /usr/local/lib/python3.10/dist-packages (from transformers) (6.0.1)\n",
            "Requirement already satisfied: regex!=2019.12.17 in /usr/local/lib/python3.10/dist-packages (from transformers) (2023.6.3)\n",
            "Requirement already satisfied: requests in /usr/local/lib/python3.10/dist-packages (from transformers) (2.31.0)\n",
            "Requirement already satisfied: tokenizers<0.19,>=0.14 in /usr/local/lib/python3.10/dist-packages (from transformers) (0.15.0)\n",
            "Requirement already satisfied: safetensors>=0.3.1 in /usr/local/lib/python3.10/dist-packages (from transformers) (0.4.1)\n",
            "Requirement already satisfied: tqdm>=4.27 in /usr/local/lib/python3.10/dist-packages (from transformers) (4.66.1)\n",
            "Requirement already satisfied: fsspec>=2023.5.0 in /usr/local/lib/python3.10/dist-packages (from huggingface-hub<1.0,>=0.16.4->transformers) (2023.6.0)\n",
            "Requirement already satisfied: typing-extensions>=3.7.4.3 in /usr/local/lib/python3.10/dist-packages (from huggingface-hub<1.0,>=0.16.4->transformers) (4.5.0)\n",
            "Requirement already satisfied: charset-normalizer<4,>=2 in /usr/local/lib/python3.10/dist-packages (from requests->transformers) (3.3.2)\n",
            "Requirement already satisfied: idna<4,>=2.5 in /usr/local/lib/python3.10/dist-packages (from requests->transformers) (3.6)\n",
            "Requirement already satisfied: urllib3<3,>=1.21.1 in /usr/local/lib/python3.10/dist-packages (from requests->transformers) (2.0.7)\n",
            "Requirement already satisfied: certifi>=2017.4.17 in /usr/local/lib/python3.10/dist-packages (from requests->transformers) (2023.11.17)\n",
            "Collecting biopython\n",
            "  Downloading biopython-1.83-cp310-cp310-manylinux_2_17_x86_64.manylinux2014_x86_64.whl (3.1 MB)\n",
            "\u001b[2K     \u001b[90m━━━━━━━━━━━━━━━━━━━━━━━━━━━━━━━━━━━━━━━━\u001b[0m \u001b[32m3.1/3.1 MB\u001b[0m \u001b[31m10.2 MB/s\u001b[0m eta \u001b[36m0:00:00\u001b[0m\n",
            "\u001b[?25hRequirement already satisfied: numpy in /usr/local/lib/python3.10/dist-packages (from biopython) (1.23.5)\n",
            "Installing collected packages: biopython\n",
            "Successfully installed biopython-1.83\n"
          ]
        },
        {
          "name": "stderr",
          "output_type": "stream",
          "text": [
            "/usr/local/lib/python3.10/dist-packages/huggingface_hub/utils/_token.py:88: UserWarning: \n",
            "The secret `HF_TOKEN` does not exist in your Colab secrets.\n",
            "To authenticate with the Hugging Face Hub, create a token in your settings tab (https://huggingface.co/settings/tokens), set it as secret in your Google Colab and restart your session.\n",
            "You will be able to reuse this secret in all of your notebooks.\n",
            "Please note that authentication is recommended but still optional to access public models or datasets.\n",
            "  warnings.warn(\n"
          ]
        },
        {
          "data": {
            "application/vnd.jupyter.widget-view+json": {
              "model_id": "48744597d9ab46919eb4dcb07e87220d",
              "version_major": 2,
              "version_minor": 0
            },
            "text/plain": [
              "config.json:   0%|          | 0.00/850 [00:00<?, ?B/s]"
            ]
          },
          "metadata": {},
          "output_type": "display_data"
        },
        {
          "data": {
            "application/vnd.jupyter.widget-view+json": {
              "model_id": "8210b254d6414005b90448a137b508b0",
              "version_major": 2,
              "version_minor": 0
            },
            "text/plain": [
              "pytorch_model.bin:   0%|          | 0.00/3.13G [00:00<?, ?B/s]"
            ]
          },
          "metadata": {},
          "output_type": "display_data"
        },
        {
          "data": {
            "application/vnd.jupyter.widget-view+json": {
              "model_id": "5a63cb46b12f445d8cc166f7366bd9a2",
              "version_major": 2,
              "version_minor": 0
            },
            "text/plain": [
              "vocab.json:   0%|          | 0.00/655k [00:00<?, ?B/s]"
            ]
          },
          "metadata": {},
          "output_type": "display_data"
        },
        {
          "data": {
            "application/vnd.jupyter.widget-view+json": {
              "model_id": "ee23483cd09846c0aa8c296fd919f2a9",
              "version_major": 2,
              "version_minor": 0
            },
            "text/plain": [
              "merges.txt:   0%|          | 0.00/314k [00:00<?, ?B/s]"
            ]
          },
          "metadata": {},
          "output_type": "display_data"
        },
        {
          "data": {
            "application/vnd.jupyter.widget-view+json": {
              "model_id": "8fdcee832cd94527a8ea685cfb8833f3",
              "version_major": 2,
              "version_minor": 0
            },
            "text/plain": [
              "tokenizer.json:   0%|          | 0.00/1.07M [00:00<?, ?B/s]"
            ]
          },
          "metadata": {},
          "output_type": "display_data"
        },
        {
          "data": {
            "application/vnd.jupyter.widget-view+json": {
              "model_id": "e1aa59f8ddb549dfafb0863fcbc43c7a",
              "version_major": 2,
              "version_minor": 0
            },
            "text/plain": [
              "special_tokens_map.json:   0%|          | 0.00/357 [00:00<?, ?B/s]"
            ]
          },
          "metadata": {},
          "output_type": "display_data"
        }
      ],
      "source": [
        "#@title Run to install dependencies\n",
        "!pip install transformers\n",
        "!pip install biopython\n",
        "from transformers import pipeline\n",
        "\n",
        "protgpt2 = pipeline('text-generation', model=\"nferruz/ProtGPT2\")\n",
        "\n",
        "import torch\n",
        "import math\n",
        "from transformers import GPT2LMHeadModel, GPT2Tokenizer\n",
        "import numpy as np\n",
        "import random\n",
        "\n",
        "# Seed for reproducibility\n",
        "seed_value = 42\n",
        "\n",
        "random.seed(seed_value)\n",
        "np.random.seed(seed_value)\n",
        "torch.manual_seed(seed_value)\n",
        "torch.use_deterministic_algorithms(True)\n",
        "\n",
        "# Define the model and tokenizer\n",
        "model = GPT2LMHeadModel.from_pretrained('nferruz/ProtGPT2')\n",
        "tokenizer = GPT2Tokenizer.from_pretrained('nferruz/ProtGPT2')\n",
        "\n",
        "# Define the function to calculate perplexity\n",
        "def calculatePerplexity(sequence, model, tokenizer):\n",
        "    # Tokenize the protein sequence\n",
        "    input_ids = torch.tensor(tokenizer.encode(sequence)).unsqueeze(0)\n",
        "    input_ids = input_ids.to(model.device)\n",
        "\n",
        "    # Generate model predictions and calculate loss\n",
        "    with torch.no_grad():\n",
        "        outputs = model(input_ids, labels=input_ids)\n",
        "    loss, logits = outputs[:2]\n",
        "\n",
        "    # Calculate perplexity\n",
        "    return math.exp(loss)\n",
        "\n",
        "# Functions for different peptide analyses from Bio.SeqUtils.ProtParam.ProteinAnalysis\n",
        "# https://biopython.org/docs/1.75/api/Bio.SeqUtils.ProtParam.html\n",
        "from Bio.SeqUtils.ProtParam import ProteinAnalysis\n",
        "\n",
        "def amino_acid_composition(protein_sequence):\n",
        "    analysis = ProteinAnalysis(protein_sequence)\n",
        "    return analysis.count_amino_acids()\n",
        "\n",
        "def molecular_weight(protein_sequence):\n",
        "    analysis = ProteinAnalysis(protein_sequence)\n",
        "    return analysis.molecular_weight()\n",
        "\n",
        "def instability_index(protein_sequence):\n",
        "    analysis = ProteinAnalysis(protein_sequence)\n",
        "    return analysis.instability_index()\n",
        "\n",
        "def isoelectric_point(protein_sequence):\n",
        "    analysis = ProteinAnalysis(protein_sequence)\n",
        "    return analysis.isoelectric_point()\n",
        "\n",
        "def gravy(protein_sequence):\n",
        "    analysis = ProteinAnalysis(protein_sequence)\n",
        "    return analysis.gravy()\n",
        "\n",
        "def helix_percentage(protein_sequence):\n",
        "    analysis = ProteinAnalysis(protein_sequence)\n",
        "    return analysis.secondary_structure_fraction()[0]  # [helix, turn, sheet]\n",
        "\n",
        "# Might come in handy\n",
        "from Bio.Blast import NCBIWWW, NCBIXML\n",
        "\n",
        "def run_blast(protein_sequence, database='swissprot', max_results=10):\n",
        "    result_handle = NCBIWWW.qblast('blastp', database, protein_sequence)\n",
        "    blast_records = NCBIXML.parse(result_handle)\n",
        "\n",
        "    for record in blast_records:\n",
        "        for idx, alignment in enumerate(record.alignments[:max_results]):\n",
        "            print(f\"****Alignment {idx + 1}****\")\n",
        "            print(f\"Sequence ID: {alignment.accession}\")\n",
        "            print(f\"Length: {alignment.length}\")\n",
        "            for hsp in alignment.hsps:\n",
        "                print(f\"E-value: {hsp.expect}\")\n",
        "                print(\"Query:\")\n",
        "                print(hsp.query[0:75] + \"...\")\n",
        "                print(\"Match:\")\n",
        "                print(hsp.match[0:75] + \"...\")\n",
        "                print(\"Subject:\")\n",
        "                print(hsp.sbjct[0:75] + \"...\")\n",
        "            print(\"-\" * 40)\n",
        "\n",
        "from Bio import SeqIO\n",
        "import pandas as pd"
      ]
    },
    {
      "cell_type": "code",
      "execution_count": null,
      "metadata": {
        "cellView": "form",
        "colab": {
          "base_uri": "https://localhost:8080/"
        },
        "id": "iCNmyR4TtNae",
        "outputId": "1dff5517-b746-4ff2-99e0-de309ac550db"
      },
      "outputs": [
        {
          "name": "stdout",
          "output_type": "stream",
          "text": [
            "Drive already mounted at /content/drive; to attempt to forcibly remount, call drive.mount(\"/content/drive\", force_remount=True).\n"
          ]
        }
      ],
      "source": [
        "#@title Run to mount Google Drive\n",
        "from google.colab import drive\n",
        "drive.mount('/content/drive')"
      ]
    },
    {
      "cell_type": "code",
      "execution_count": null,
      "metadata": {
        "cellView": "form",
        "colab": {
          "base_uri": "https://localhost:8080/"
        },
        "id": "TbPGEs8PJk7D",
        "outputId": "d949c4d8-f1cf-42f5-f668-8eaed0ac710b"
      },
      "outputs": [
        {
          "name": "stdout",
          "output_type": "stream",
          "text": [
            "Literature Files: ['P1.fasta', 'P2.fasta', 'P3.fasta', 'P4.fasta', 'P5.fasta', 'P6.fasta', 'P7.fasta', 'P8.fasta', 'P9.fasta', 'P10.fasta', 'P11.fasta', 'P12.fasta', 'P13.fasta', 'P14.fasta', 'P15.fasta', 'P16.fasta', 'P17.fasta', 'P18.fasta', 'P19.fasta', 'P20.fasta', 'P21.fasta', 'P22.fasta', 'P23.fasta', 'P24.fasta', 'P25.fasta', 'P26.fasta', 'P27.fasta', 'P28.fasta', 'P29.fasta', 'P30.fasta', 'P31.fasta', 'P32.fasta', 'P33.fasta', 'P34.fasta', 'P35.fasta', 'P36.fasta', 'P37.fasta', 'P38.fasta', 'P39.fasta', 'P40.fasta', 'P41.fasta', 'P42.fasta', 'P43.fasta', 'P44.fasta', 'P45.fasta']\n",
            "Homologous Files: ['K1.fasta', 'K2.fasta', 'K3.fasta', 'K4.fasta', 'K5.fasta', 'K6.fasta', 'K7.fasta', 'K8.fasta', 'K9.fasta', 'K10.fasta', 'K11.fasta', 'K12.fasta', 'K13.fasta', 'K14.fasta', 'K15.fasta', 'K16.fasta', 'K17.fasta', 'K18.fasta', 'K19.fasta', 'K20.fasta', 'K21.fasta', 'K22.fasta', 'K23.fasta', 'K24.fasta', 'K25.fasta', 'K26.fasta', 'K27.fasta']\n"
          ]
        }
      ],
      "source": [
        "#@title Define directory paths\n",
        "\n",
        "import re\n",
        "from os import listdir\n",
        "from os.path import isfile, join\n",
        "\n",
        "# Define path\n",
        "# Exact path may differ\n",
        "base_path = 'drive/MyDrive/ProtGPT2/'\n",
        "\n",
        "input_folder_dir = 'in'\n",
        "output_folder_dir = 'out'\n",
        "\n",
        "path_to_fasta = f\"{base_path}/{input_folder_dir}/\"\n",
        "\n",
        "def list_and_sort_files(path, pattern):\n",
        "    filenames = [f for f in listdir(path) if isfile(join(path, f)) and pattern.match(f)]\n",
        "    sorted_filenames = sorted(filenames, key=lambda x: int(re.search(r'\\d+', x).group()))\n",
        "    return sorted_filenames\n",
        "\n",
        "literature_pattern = re.compile(r'^P\\d{1,2}\\.fasta$')  # Match filenames like P1.fasta, P45.fasta, etc.\n",
        "homologous_pattern = re.compile(r'^K\\d{1,2}\\.fasta$')  # Match filenames like K1.fasta, K27.fasta, etc.\n",
        "\n",
        "literature_fasta = list_and_sort_files(path_to_fasta, literature_pattern)\n",
        "homologous_fasta = list_and_sort_files(path_to_fasta, homologous_pattern)\n",
        "\n",
        "print(\"Literature Files:\", literature_fasta)\n",
        "print(\"Homologous Files:\", homologous_fasta)"
      ]
    },
    {
      "cell_type": "markdown",
      "metadata": {
        "id": "iVxw2LHagNhM"
      },
      "source": [
        "# De novo protein generation\n",
        "The model will generate the most probable sequences that follow the input.\n",
        "## Parameters\n",
        "*   **input** is a text string used as a seed for protein generation. It can be an existing amino acid sequence or a text string unrelated to biology.\n",
        "*   **max_length** is a parameter controlling the maximum length of the protein sequence generated by the model. If the model generates a sequence longer than this value, the sequence will be truncated after max_length amino acids. Length is expressed in tokens, where each token has an average length of 4 amino acids.\n",
        "*   **do_sample** is a boolean value indicating whether the sampling strategy is used to generate the protein sequence. If True, the model will generate protein sequences randomly based on the model's probability distribution. If False, the model will generate protein sequences deterministically.\n",
        "*   **top_k** is a parameter controlling the number of highest probability tokens considered during sampling if do_sample is True.\n",
        "*   **repetition_penalty** is a parameter used to penalize the repetition of amino acids in the generated sequence. The higher the value of repetition_penalty, the less likely the model will repeat an amino acid in the sequence.\n",
        "*   **num_return_sequences** is a parameter indicating the number of protein sequences generated by the model.\n",
        "*   **eos_token_id** is the ID of the token indicating the end of the protein sequence generated by the model. In this case, a value of 0 is used to indicate the end of the sequence.\n",
        "\n",
        "## Output\n",
        "*   **Generated sequence** The generated sequence is the output of the protein generation model, i.e., the amino acid sequence that the model has synthetically generated based on the input parameters. This sequence can be a completely new protein, not existing in nature, or a variant of an existing protein with minor modifications.\n",
        "\n",
        "*   **Perplexity**: Perplexity is a measure of the quality of the generated sequence and is used to evaluate the language model used for generation. In the context of protein generation, perplexity measures the model's ability to generate coherent amino acid sequences similar to proteins present in nature. Lower perplexity indicates that the model has generated a high-quality sequence, while higher perplexity indicates that the generated sequence is of low quality or implausible. There is no standard threshold as to what perplexity value gives a 'good' or 'bad' sequence, but given the fast inference times, the best is to sample many sequences, order them by perplexity, and select those with the lower values (the lower the better).\n",
        "\n",
        "*   **Hydrophobicity (GRAVY)**: Grand Average of Hydropathicity index (Kyte and Doolittle, 1982) is a measure used to assess the hydrophobicity or hydrophilicity of a protein or peptide. It is calculated as the sum of hydropathy values of all the amino acids, divided by the number of residues in the sequence. Hydropathy values are assigned to each amino acid based on their hydrophobicity or hydrophilicity. The more positive the value, the more hydrophobic the amino acid, and conversely, the more negative the value, the more hydrophilic the amino acid. For a peptide to be considered for therapeutic use, it should ideally have a **balance between hydrophobic and hydrophilic properties**. This balance is crucial for the peptide’s solubility, stability, and ability to interact with its target.\n",
        "\n",
        "*   **Instability index**: Implementation of the method of Guruprasad et al. 1990 to test a protein for stability. Any **value above 40 means the protein is unstable** (has a short half life).\n",
        "\n",
        "*   **Isoelectric point**: pI of a peptide is the pH at which the molecule carries no net electrical charge. It is determined by the composition of amino acids in the peptide, each of which has its own pKa value. At a pH below their pI, peptides carry a net positive charge; above their pI, they carry a net negative charge. It provides insights into protein solubility, stability, and separation conditions. It can help inform which conditions will increase or decrease aggregation potential, or lead to better solubility and generally easier handling. The exact **value depends on the specific use case** of the peptide as a therapeutic."
      ]
    },
    {
      "cell_type": "code",
      "execution_count": null,
      "metadata": {
        "cellView": "form",
        "id": "_XGTnOzhfSX_"
      },
      "outputs": [],
      "source": [
        "#@title Define model parameters\n",
        "\n",
        "max_length = 30 #@param {type:\"number\"}\n",
        "do_sample = True #@param {type:\"boolean\"}\n",
        "top_k = 950 #@param {type:\"number\"}\n",
        "repetition_penalty = 1.2 #@param {type:\"number\"}\n",
        "num_return_sequences = 50 #@param {type:\"number\"}\n",
        "eos_token_id = 0 #@param {type:\"number\"}\n",
        "\n",
        "def generate_sequences(record):\n",
        "\n",
        "  seq_id = record.id\n",
        "  input = str(record.seq).replace(\"X\",\"\") # ignore amino acid X\n",
        "\n",
        "  print(f\"Sequence generation for {seq_id}: {input}\\n\")\n",
        "\n",
        "  sequences = protgpt2(input,\n",
        "                      max_length=max_length,\n",
        "                      do_sample=do_sample,\n",
        "                      top_k=top_k,\n",
        "                      repetition_penalty=repetition_penalty,\n",
        "                      num_return_sequences=num_return_sequences,\n",
        "                      eos_token_id=eos_token_id)\n",
        "\n",
        "  result = {\"seq\": [],\n",
        "            \"mass\": [],\n",
        "            \"pI\": [],\n",
        "            \"instab\": [],\n",
        "            \"gravy\": [],\n",
        "            \"ppl\": [],\n",
        "            \"source\": []}\n",
        "\n",
        "  for seq in sequences:\n",
        "      sequence = (seq['generated_text'].replace(\"\\n\", \"\").replace(\"X\",\"\"))\n",
        "\n",
        "      # Calculate sequence evaluation metrics\n",
        "      mass = molecular_weight(sequence)\n",
        "      pI = isoelectric_point(sequence)\n",
        "      instability = instability_index(sequence)\n",
        "      hydrophobicity = gravy(sequence)\n",
        "      ppl = calculatePerplexity(sequence, model, tokenizer)\n",
        "\n",
        "      # # Print results\n",
        "      # print(f\"Generated sequence:\\n{seq['generated_text']}\")\n",
        "      # print(f\"\\nMolecular weight: {mass}\\n\")\n",
        "      # print(f\"\\nIsoelectric point: {pI}\")\n",
        "      # print(f\"\\nInstability index: {instability}\")\n",
        "      # print(f\"\\nHydrophobicity (GRAVY): {hydrophobicity}\")\n",
        "      # print(f\"\\nPerplexity: {ppl}\")\n",
        "      # print(\"-\" * 80)\n",
        "\n",
        "      # Save results\n",
        "      result[\"seq\"].append(sequence)\n",
        "      result[\"mass\"].append(mass)\n",
        "      result[\"pI\"].append(pI)\n",
        "      result[\"instab\"].append(instability)\n",
        "      result[\"gravy\"].append(hydrophobicity)\n",
        "      result[\"ppl\"].append(ppl)\n",
        "      result[\"source\"].append(seq_id)\n",
        "\n",
        "  return result"
      ]
    },
    {
      "cell_type": "code",
      "execution_count": null,
      "metadata": {
        "cellView": "form",
        "colab": {
          "background_save": true,
          "base_uri": "https://localhost:8080/"
        },
        "id": "E7P3QpMYNy8W",
        "outputId": "d9a980e5-6a3d-43f3-8c22-569b06cb802c"
      },
      "outputs": [
        {
          "name": "stderr",
          "output_type": "stream",
          "text": [
            "Setting `pad_token_id` to `eos_token_id`:0 for open-end generation.\n"
          ]
        },
        {
          "name": "stdout",
          "output_type": "stream",
          "text": [
            "Sequence generation for P1: SVFSGYRK\n",
            "\n"
          ]
        },
        {
          "name": "stderr",
          "output_type": "stream",
          "text": [
            "Setting `pad_token_id` to `eos_token_id`:0 for open-end generation.\n"
          ]
        },
        {
          "name": "stdout",
          "output_type": "stream",
          "text": [
            "Sequence generation for P2: CLANGMIMY\n",
            "\n"
          ]
        },
        {
          "name": "stderr",
          "output_type": "stream",
          "text": [
            "Setting `pad_token_id` to `eos_token_id`:0 for open-end generation.\n"
          ]
        },
        {
          "name": "stdout",
          "output_type": "stream",
          "text": [
            "Sequence generation for P3: RQQPGKGPRY\n",
            "\n"
          ]
        },
        {
          "name": "stderr",
          "output_type": "stream",
          "text": [
            "Setting `pad_token_id` to `eos_token_id`:0 for open-end generation.\n"
          ]
        },
        {
          "name": "stdout",
          "output_type": "stream",
          "text": [
            "Sequence generation for P4: ALEATCKSL\n",
            "\n"
          ]
        },
        {
          "name": "stderr",
          "output_type": "stream",
          "text": [
            "Setting `pad_token_id` to `eos_token_id`:0 for open-end generation.\n"
          ]
        },
        {
          "name": "stdout",
          "output_type": "stream",
          "text": [
            "Sequence generation for P5: LDAQSAPLRV\n",
            "\n"
          ]
        },
        {
          "name": "stderr",
          "output_type": "stream",
          "text": [
            "Setting `pad_token_id` to `eos_token_id`:0 for open-end generation.\n"
          ]
        },
        {
          "name": "stdout",
          "output_type": "stream",
          "text": [
            "Sequence generation for P6: FLRQNEVL\n",
            "\n"
          ]
        },
        {
          "name": "stderr",
          "output_type": "stream",
          "text": [
            "Setting `pad_token_id` to `eos_token_id`:0 for open-end generation.\n"
          ]
        },
        {
          "name": "stdout",
          "output_type": "stream",
          "text": [
            "Sequence generation for P7: IDALNENK\n",
            "\n"
          ]
        },
        {
          "name": "stderr",
          "output_type": "stream",
          "text": [
            "Setting `pad_token_id` to `eos_token_id`:0 for open-end generation.\n"
          ]
        },
        {
          "name": "stdout",
          "output_type": "stream",
          "text": [
            "Sequence generation for P8: DIEQLRSQL\n",
            "\n"
          ]
        },
        {
          "name": "stderr",
          "output_type": "stream",
          "text": [
            "Setting `pad_token_id` to `eos_token_id`:0 for open-end generation.\n"
          ]
        },
        {
          "name": "stdout",
          "output_type": "stream",
          "text": [
            "Sequence generation for P9: IQKVAGTW\n",
            "\n"
          ]
        },
        {
          "name": "stderr",
          "output_type": "stream",
          "text": [
            "Setting `pad_token_id` to `eos_token_id`:0 for open-end generation.\n"
          ]
        },
        {
          "name": "stdout",
          "output_type": "stream",
          "text": [
            "Sequence generation for P10: TLPFHSVIY\n",
            "\n"
          ]
        },
        {
          "name": "stderr",
          "output_type": "stream",
          "text": [
            "Setting `pad_token_id` to `eos_token_id`:0 for open-end generation.\n"
          ]
        },
        {
          "name": "stdout",
          "output_type": "stream",
          "text": [
            "Sequence generation for P11: VLEKYKDVI\n",
            "\n"
          ]
        },
        {
          "name": "stderr",
          "output_type": "stream",
          "text": [
            "Setting `pad_token_id` to `eos_token_id`:0 for open-end generation.\n"
          ]
        },
        {
          "name": "stdout",
          "output_type": "stream",
          "text": [
            "Sequence generation for P12: LVGPTIWR\n",
            "\n"
          ]
        },
        {
          "name": "stderr",
          "output_type": "stream",
          "text": [
            "Setting `pad_token_id` to `eos_token_id`:0 for open-end generation.\n"
          ]
        },
        {
          "name": "stdout",
          "output_type": "stream",
          "text": [
            "Sequence generation for P13: RFPRPVY\n",
            "\n"
          ]
        },
        {
          "name": "stderr",
          "output_type": "stream",
          "text": [
            "Setting `pad_token_id` to `eos_token_id`:0 for open-end generation.\n"
          ]
        },
        {
          "name": "stdout",
          "output_type": "stream",
          "text": [
            "Sequence generation for P14: DFVCRAFQY\n",
            "\n"
          ]
        },
        {
          "name": "stderr",
          "output_type": "stream",
          "text": [
            "Setting `pad_token_id` to `eos_token_id`:0 for open-end generation.\n"
          ]
        },
        {
          "name": "stdout",
          "output_type": "stream",
          "text": [
            "Sequence generation for P15: YLYQGPIVL\n",
            "\n"
          ]
        },
        {
          "name": "stderr",
          "output_type": "stream",
          "text": [
            "Setting `pad_token_id` to `eos_token_id`:0 for open-end generation.\n"
          ]
        },
        {
          "name": "stdout",
          "output_type": "stream",
          "text": [
            "Sequence generation for P16: HMWPGDIK\n",
            "\n"
          ]
        },
        {
          "name": "stderr",
          "output_type": "stream",
          "text": [
            "Setting `pad_token_id` to `eos_token_id`:0 for open-end generation.\n"
          ]
        },
        {
          "name": "stdout",
          "output_type": "stream",
          "text": [
            "Sequence generation for P17: ALKIPISKIY\n",
            "\n"
          ]
        },
        {
          "name": "stderr",
          "output_type": "stream",
          "text": [
            "Setting `pad_token_id` to `eos_token_id`:0 for open-end generation.\n"
          ]
        },
        {
          "name": "stdout",
          "output_type": "stream",
          "text": [
            "Sequence generation for P18: LTFQHNF\n",
            "\n"
          ]
        },
        {
          "name": "stderr",
          "output_type": "stream",
          "text": [
            "Setting `pad_token_id` to `eos_token_id`:0 for open-end generation.\n"
          ]
        },
        {
          "name": "stdout",
          "output_type": "stream",
          "text": [
            "Sequence generation for P19: ALTEGLPEL\n",
            "\n"
          ]
        },
        {
          "name": "stderr",
          "output_type": "stream",
          "text": [
            "Setting `pad_token_id` to `eos_token_id`:0 for open-end generation.\n"
          ]
        },
        {
          "name": "stdout",
          "output_type": "stream",
          "text": [
            "Sequence generation for P20: VLMKDVQEI\n",
            "\n"
          ]
        },
        {
          "name": "stderr",
          "output_type": "stream",
          "text": [
            "Setting `pad_token_id` to `eos_token_id`:0 for open-end generation.\n"
          ]
        },
        {
          "name": "stdout",
          "output_type": "stream",
          "text": [
            "Sequence generation for P21: KLTCNLTR\n",
            "\n"
          ]
        },
        {
          "name": "stderr",
          "output_type": "stream",
          "text": [
            "Setting `pad_token_id` to `eos_token_id`:0 for open-end generation.\n"
          ]
        },
        {
          "name": "stdout",
          "output_type": "stream",
          "text": [
            "Sequence generation for P22: WVRQAPGKALE\n",
            "\n"
          ]
        },
        {
          "name": "stderr",
          "output_type": "stream",
          "text": [
            "Setting `pad_token_id` to `eos_token_id`:0 for open-end generation.\n"
          ]
        },
        {
          "name": "stdout",
          "output_type": "stream",
          "text": [
            "Sequence generation for P23: SYFSGLDPYL\n",
            "\n"
          ]
        },
        {
          "name": "stderr",
          "output_type": "stream",
          "text": [
            "Setting `pad_token_id` to `eos_token_id`:0 for open-end generation.\n"
          ]
        },
        {
          "name": "stdout",
          "output_type": "stream",
          "text": [
            "Sequence generation for P24: IIVTQTMK\n",
            "\n"
          ]
        },
        {
          "name": "stderr",
          "output_type": "stream",
          "text": [
            "Setting `pad_token_id` to `eos_token_id`:0 for open-end generation.\n"
          ]
        },
        {
          "name": "stdout",
          "output_type": "stream",
          "text": [
            "Sequence generation for P25: LWGYTDPFL\n",
            "\n"
          ]
        },
        {
          "name": "stderr",
          "output_type": "stream",
          "text": [
            "Setting `pad_token_id` to `eos_token_id`:0 for open-end generation.\n"
          ]
        },
        {
          "name": "stdout",
          "output_type": "stream",
          "text": [
            "Sequence generation for P26: ILGFHANE\n",
            "\n"
          ]
        },
        {
          "name": "stderr",
          "output_type": "stream",
          "text": [
            "Setting `pad_token_id` to `eos_token_id`:0 for open-end generation.\n"
          ]
        },
        {
          "name": "stdout",
          "output_type": "stream",
          "text": [
            "Sequence generation for P27: QIPTVNNL\n",
            "\n"
          ]
        },
        {
          "name": "stderr",
          "output_type": "stream",
          "text": [
            "Setting `pad_token_id` to `eos_token_id`:0 for open-end generation.\n"
          ]
        },
        {
          "name": "stdout",
          "output_type": "stream",
          "text": [
            "Sequence generation for P28: AIKIPLL\n",
            "\n"
          ]
        },
        {
          "name": "stderr",
          "output_type": "stream",
          "text": [
            "Setting `pad_token_id` to `eos_token_id`:0 for open-end generation.\n"
          ]
        },
        {
          "name": "stdout",
          "output_type": "stream",
          "text": [
            "Sequence generation for P29: ALQDIIGSL\n",
            "\n"
          ]
        },
        {
          "name": "stderr",
          "output_type": "stream",
          "text": [
            "Setting `pad_token_id` to `eos_token_id`:0 for open-end generation.\n"
          ]
        },
        {
          "name": "stdout",
          "output_type": "stream",
          "text": [
            "Sequence generation for P30: ILFYVKEF\n",
            "\n"
          ]
        },
        {
          "name": "stderr",
          "output_type": "stream",
          "text": [
            "Setting `pad_token_id` to `eos_token_id`:0 for open-end generation.\n"
          ]
        },
        {
          "name": "stdout",
          "output_type": "stream",
          "text": [
            "Sequence generation for P31: ITGFYPEE\n",
            "\n"
          ]
        },
        {
          "name": "stderr",
          "output_type": "stream",
          "text": [
            "Setting `pad_token_id` to `eos_token_id`:0 for open-end generation.\n"
          ]
        },
        {
          "name": "stdout",
          "output_type": "stream",
          "text": [
            "Sequence generation for P32: GLKAVFPLL\n",
            "\n"
          ]
        },
        {
          "name": "stderr",
          "output_type": "stream",
          "text": [
            "Setting `pad_token_id` to `eos_token_id`:0 for open-end generation.\n"
          ]
        },
        {
          "name": "stdout",
          "output_type": "stream",
          "text": [
            "Sequence generation for P33: EIIESPLF\n",
            "\n"
          ]
        },
        {
          "name": "stderr",
          "output_type": "stream",
          "text": [
            "Setting `pad_token_id` to `eos_token_id`:0 for open-end generation.\n"
          ]
        },
        {
          "name": "stdout",
          "output_type": "stream",
          "text": [
            "Sequence generation for P34: GYFYPIQI\n",
            "\n"
          ]
        },
        {
          "name": "stderr",
          "output_type": "stream",
          "text": [
            "Setting `pad_token_id` to `eos_token_id`:0 for open-end generation.\n"
          ]
        },
        {
          "name": "stdout",
          "output_type": "stream",
          "text": [
            "Sequence generation for P35: LSITENGEFK\n",
            "\n"
          ]
        },
        {
          "name": "stderr",
          "output_type": "stream",
          "text": [
            "Setting `pad_token_id` to `eos_token_id`:0 for open-end generation.\n"
          ]
        },
        {
          "name": "stdout",
          "output_type": "stream",
          "text": [
            "Sequence generation for P36: GWLEPLL\n",
            "\n"
          ]
        },
        {
          "name": "stderr",
          "output_type": "stream",
          "text": [
            "Setting `pad_token_id` to `eos_token_id`:0 for open-end generation.\n"
          ]
        },
        {
          "name": "stdout",
          "output_type": "stream",
          "text": [
            "Sequence generation for P37: SLPYPFI\n",
            "\n"
          ]
        },
        {
          "name": "stderr",
          "output_type": "stream",
          "text": [
            "Setting `pad_token_id` to `eos_token_id`:0 for open-end generation.\n"
          ]
        },
        {
          "name": "stdout",
          "output_type": "stream",
          "text": [
            "Sequence generation for P38: YVHPFHL\n",
            "\n"
          ]
        },
        {
          "name": "stderr",
          "output_type": "stream",
          "text": [
            "Setting `pad_token_id` to `eos_token_id`:0 for open-end generation.\n"
          ]
        },
        {
          "name": "stdout",
          "output_type": "stream",
          "text": [
            "Sequence generation for P39: GLLPGLMVY\n",
            "\n"
          ]
        },
        {
          "name": "stderr",
          "output_type": "stream",
          "text": [
            "Setting `pad_token_id` to `eos_token_id`:0 for open-end generation.\n"
          ]
        },
        {
          "name": "stdout",
          "output_type": "stream",
          "text": [
            "Sequence generation for P40: GLDIQK\n",
            "\n"
          ]
        },
        {
          "name": "stderr",
          "output_type": "stream",
          "text": [
            "Setting `pad_token_id` to `eos_token_id`:0 for open-end generation.\n"
          ]
        },
        {
          "name": "stdout",
          "output_type": "stream",
          "text": [
            "Sequence generation for P41: HLSPNDPIF\n",
            "\n"
          ]
        },
        {
          "name": "stderr",
          "output_type": "stream",
          "text": [
            "Setting `pad_token_id` to `eos_token_id`:0 for open-end generation.\n"
          ]
        },
        {
          "name": "stdout",
          "output_type": "stream",
          "text": [
            "Sequence generation for P42: MIQLDLI\n",
            "\n"
          ]
        },
        {
          "name": "stderr",
          "output_type": "stream",
          "text": [
            "Setting `pad_token_id` to `eos_token_id`:0 for open-end generation.\n"
          ]
        },
        {
          "name": "stdout",
          "output_type": "stream",
          "text": [
            "Sequence generation for P43: SFVSEVPEL\n",
            "\n"
          ]
        },
        {
          "name": "stderr",
          "output_type": "stream",
          "text": [
            "Setting `pad_token_id` to `eos_token_id`:0 for open-end generation.\n"
          ]
        },
        {
          "name": "stdout",
          "output_type": "stream",
          "text": [
            "Sequence generation for P44: GLPFPPEL\n",
            "\n"
          ]
        },
        {
          "name": "stderr",
          "output_type": "stream",
          "text": [
            "Setting `pad_token_id` to `eos_token_id`:0 for open-end generation.\n"
          ]
        },
        {
          "name": "stdout",
          "output_type": "stream",
          "text": [
            "Sequence generation for P45: LHTPLPL\n",
            "\n"
          ]
        },
        {
          "name": "stderr",
          "output_type": "stream",
          "text": [
            "Setting `pad_token_id` to `eos_token_id`:0 for open-end generation.\n"
          ]
        },
        {
          "name": "stdout",
          "output_type": "stream",
          "text": [
            "Sequence generation for K1: CHWLRGDMRRC\n",
            "\n"
          ]
        },
        {
          "name": "stderr",
          "output_type": "stream",
          "text": [
            "Setting `pad_token_id` to `eos_token_id`:0 for open-end generation.\n"
          ]
        },
        {
          "name": "stdout",
          "output_type": "stream",
          "text": [
            "Sequence generation for K2: QHWSYGLRPG\n",
            "\n"
          ]
        },
        {
          "name": "stderr",
          "output_type": "stream",
          "text": [
            "Setting `pad_token_id` to `eos_token_id`:0 for open-end generation.\n"
          ]
        },
        {
          "name": "stdout",
          "output_type": "stream",
          "text": [
            "Sequence generation for K3: YCKFEWATFAKSC\n",
            "\n"
          ]
        },
        {
          "name": "stderr",
          "output_type": "stream",
          "text": [
            "Setting `pad_token_id` to `eos_token_id`:0 for open-end generation.\n"
          ]
        },
        {
          "name": "stdout",
          "output_type": "stream",
          "text": [
            "Sequence generation for K4: LEDGRTLSDY\n",
            "\n"
          ]
        },
        {
          "name": "stderr",
          "output_type": "stream",
          "text": [
            "Setting `pad_token_id` to `eos_token_id`:0 for open-end generation.\n"
          ]
        },
        {
          "name": "stdout",
          "output_type": "stream",
          "text": [
            "Sequence generation for K5: YYDPETGTWY\n",
            "\n"
          ]
        },
        {
          "name": "stderr",
          "output_type": "stream",
          "text": [
            "Setting `pad_token_id` to `eos_token_id`:0 for open-end generation.\n"
          ]
        },
        {
          "name": "stdout",
          "output_type": "stream",
          "text": [
            "Sequence generation for K6: GYDPETGTWG\n",
            "\n"
          ]
        },
        {
          "name": "stderr",
          "output_type": "stream",
          "text": [
            "Setting `pad_token_id` to `eos_token_id`:0 for open-end generation.\n"
          ]
        },
        {
          "name": "stdout",
          "output_type": "stream",
          "text": [
            "Sequence generation for K7: LCTASIPPQCY\n",
            "\n"
          ]
        },
        {
          "name": "stderr",
          "output_type": "stream",
          "text": [
            "Setting `pad_token_id` to `eos_token_id`:0 for open-end generation.\n"
          ]
        },
        {
          "name": "stdout",
          "output_type": "stream",
          "text": [
            "Sequence generation for K8: WNPADYGGIK\n",
            "\n"
          ]
        },
        {
          "name": "stderr",
          "output_type": "stream",
          "text": [
            "Setting `pad_token_id` to `eos_token_id`:0 for open-end generation.\n"
          ]
        },
        {
          "name": "stdout",
          "output_type": "stream",
          "text": [
            "Sequence generation for K9: HEGFTSDF\n",
            "\n"
          ]
        },
        {
          "name": "stderr",
          "output_type": "stream",
          "text": [
            "Setting `pad_token_id` to `eos_token_id`:0 for open-end generation.\n"
          ]
        },
        {
          "name": "stdout",
          "output_type": "stream",
          "text": [
            "Sequence generation for K10: GNHWAVGHLM\n",
            "\n"
          ]
        },
        {
          "name": "stderr",
          "output_type": "stream",
          "text": [
            "Setting `pad_token_id` to `eos_token_id`:0 for open-end generation.\n"
          ]
        },
        {
          "name": "stdout",
          "output_type": "stream",
          "text": [
            "Sequence generation for K11: ALLVTAGLVLA\n",
            "\n"
          ]
        },
        {
          "name": "stderr",
          "output_type": "stream",
          "text": [
            "Setting `pad_token_id` to `eos_token_id`:0 for open-end generation.\n"
          ]
        },
        {
          "name": "stdout",
          "output_type": "stream",
          "text": [
            "Sequence generation for K12: CYCSLRGDCYC\n",
            "\n"
          ]
        },
        {
          "name": "stderr",
          "output_type": "stream",
          "text": [
            "Setting `pad_token_id` to `eos_token_id`:0 for open-end generation.\n"
          ]
        },
        {
          "name": "stdout",
          "output_type": "stream",
          "text": [
            "Sequence generation for K13: GCCSDPRCAWRC\n",
            "\n"
          ]
        },
        {
          "name": "stderr",
          "output_type": "stream",
          "text": [
            "Setting `pad_token_id` to `eos_token_id`:0 for open-end generation.\n"
          ]
        },
        {
          "name": "stdout",
          "output_type": "stream",
          "text": [
            "Sequence generation for K14: FATMRYPSDSDE\n",
            "\n"
          ]
        },
        {
          "name": "stderr",
          "output_type": "stream",
          "text": [
            "Setting `pad_token_id` to `eos_token_id`:0 for open-end generation.\n"
          ]
        },
        {
          "name": "stdout",
          "output_type": "stream",
          "text": [
            "Sequence generation for K15: CCELCCNPACTGC\n",
            "\n"
          ]
        },
        {
          "name": "stderr",
          "output_type": "stream",
          "text": [
            "Setting `pad_token_id` to `eos_token_id`:0 for open-end generation.\n"
          ]
        },
        {
          "name": "stdout",
          "output_type": "stream",
          "text": [
            "Sequence generation for K16: CKFFWATYTSC\n",
            "\n"
          ]
        },
        {
          "name": "stderr",
          "output_type": "stream",
          "text": [
            "Setting `pad_token_id` to `eos_token_id`:0 for open-end generation.\n"
          ]
        },
        {
          "name": "stdout",
          "output_type": "stream",
          "text": [
            "Sequence generation for K17: CCDVCCNPACAKC\n",
            "\n"
          ]
        },
        {
          "name": "stderr",
          "output_type": "stream",
          "text": [
            "Setting `pad_token_id` to `eos_token_id`:0 for open-end generation.\n"
          ]
        },
        {
          "name": "stdout",
          "output_type": "stream",
          "text": [
            "Sequence generation for K18: TCEICAYAACTGC\n",
            "\n"
          ]
        },
        {
          "name": "stderr",
          "output_type": "stream",
          "text": [
            "Setting `pad_token_id` to `eos_token_id`:0 for open-end generation.\n"
          ]
        },
        {
          "name": "stdout",
          "output_type": "stream",
          "text": [
            "Sequence generation for K19: CELCCNPGCAGC\n",
            "\n"
          ]
        },
        {
          "name": "stderr",
          "output_type": "stream",
          "text": [
            "Setting `pad_token_id` to `eos_token_id`:0 for open-end generation.\n"
          ]
        },
        {
          "name": "stdout",
          "output_type": "stream",
          "text": [
            "Sequence generation for K20: ICCNPACGPKYSC\n",
            "\n"
          ]
        },
        {
          "name": "stderr",
          "output_type": "stream",
          "text": [
            "Setting `pad_token_id` to `eos_token_id`:0 for open-end generation.\n"
          ]
        },
        {
          "name": "stdout",
          "output_type": "stream",
          "text": [
            "Sequence generation for K21: CGSCYPCSCM\n",
            "\n"
          ]
        },
        {
          "name": "stderr",
          "output_type": "stream",
          "text": [
            "Setting `pad_token_id` to `eos_token_id`:0 for open-end generation.\n"
          ]
        },
        {
          "name": "stdout",
          "output_type": "stream",
          "text": [
            "Sequence generation for K22: CKFAWATYTSC\n",
            "\n"
          ]
        },
        {
          "name": "stderr",
          "output_type": "stream",
          "text": [
            "Setting `pad_token_id` to `eos_token_id`:0 for open-end generation.\n"
          ]
        },
        {
          "name": "stdout",
          "output_type": "stream",
          "text": [
            "Sequence generation for K23: CELCCNPACAGC\n",
            "\n"
          ]
        },
        {
          "name": "stderr",
          "output_type": "stream",
          "text": [
            "Setting `pad_token_id` to `eos_token_id`:0 for open-end generation.\n"
          ]
        },
        {
          "name": "stdout",
          "output_type": "stream",
          "text": [
            "Sequence generation for K24: RFTGHFGGLYPCK\n",
            "\n"
          ]
        },
        {
          "name": "stderr",
          "output_type": "stream",
          "text": [
            "Setting `pad_token_id` to `eos_token_id`:0 for open-end generation.\n"
          ]
        },
        {
          "name": "stdout",
          "output_type": "stream",
          "text": [
            "Sequence generation for K25: GASDPRCAWRC\n",
            "\n"
          ]
        },
        {
          "name": "stderr",
          "output_type": "stream",
          "text": [
            "Setting `pad_token_id` to `eos_token_id`:0 for open-end generation.\n"
          ]
        },
        {
          "name": "stdout",
          "output_type": "stream",
          "text": [
            "Sequence generation for K26: CELCCNPLCAGC\n",
            "\n"
          ]
        },
        {
          "name": "stderr",
          "output_type": "stream",
          "text": [
            "Setting `pad_token_id` to `eos_token_id`:0 for open-end generation.\n"
          ]
        },
        {
          "name": "stdout",
          "output_type": "stream",
          "text": [
            "Sequence generation for K27: GCCSDPLCAWRC\n",
            "\n"
          ]
        },
        {
          "data": {
            "text/html": [
              "\n",
              "  <div id=\"df-c5116c7f-409f-4c84-80ec-9b83b7738733\" class=\"colab-df-container\">\n",
              "    <div>\n",
              "<style scoped>\n",
              "    .dataframe tbody tr th:only-of-type {\n",
              "        vertical-align: middle;\n",
              "    }\n",
              "\n",
              "    .dataframe tbody tr th {\n",
              "        vertical-align: top;\n",
              "    }\n",
              "\n",
              "    .dataframe thead th {\n",
              "        text-align: right;\n",
              "    }\n",
              "</style>\n",
              "<table border=\"1\" class=\"dataframe\">\n",
              "  <thead>\n",
              "    <tr style=\"text-align: right;\">\n",
              "      <th></th>\n",
              "      <th>seq</th>\n",
              "      <th>mass</th>\n",
              "      <th>pI</th>\n",
              "      <th>instab</th>\n",
              "      <th>gravy</th>\n",
              "      <th>ppl</th>\n",
              "      <th>source</th>\n",
              "    </tr>\n",
              "  </thead>\n",
              "  <tbody>\n",
              "    <tr>\n",
              "      <th>0</th>\n",
              "      <td>SVFSGYRKHNRSDPDNYLPTLDNRDMMIYVQARDKFVHFRNCDDPK...</td>\n",
              "      <td>8273.3001</td>\n",
              "      <td>8.887176</td>\n",
              "      <td>21.524286</td>\n",
              "      <td>-0.804286</td>\n",
              "      <td>9622.310717</td>\n",
              "      <td>P1</td>\n",
              "    </tr>\n",
              "    <tr>\n",
              "      <th>1</th>\n",
              "      <td>SVFSGYRKVLKYLNDAGEAVAIDIRNLPASIRLRWRVSLS</td>\n",
              "      <td>4535.2132</td>\n",
              "      <td>10.407857</td>\n",
              "      <td>29.120000</td>\n",
              "      <td>0.040000</td>\n",
              "      <td>1295.329159</td>\n",
              "      <td>P1</td>\n",
              "    </tr>\n",
              "    <tr>\n",
              "      <th>2</th>\n",
              "      <td>SVFSGYRKFEHDVKAKEWILRVRRGFPKV</td>\n",
              "      <td>3536.0960</td>\n",
              "      <td>10.533699</td>\n",
              "      <td>25.941379</td>\n",
              "      <td>-0.627586</td>\n",
              "      <td>1939.887879</td>\n",
              "      <td>P1</td>\n",
              "    </tr>\n",
              "    <tr>\n",
              "      <th>3</th>\n",
              "      <td>SVFSGYRKALLCDWKK</td>\n",
              "      <td>1901.2351</td>\n",
              "      <td>9.626306</td>\n",
              "      <td>5.537500</td>\n",
              "      <td>-0.312500</td>\n",
              "      <td>6312.951410</td>\n",
              "      <td>P1</td>\n",
              "    </tr>\n",
              "    <tr>\n",
              "      <th>4</th>\n",
              "      <td>SVFSGYRKIKPELDPKVAAALKINQITLGKIALGNYNE</td>\n",
              "      <td>4160.8123</td>\n",
              "      <td>9.601486</td>\n",
              "      <td>-14.215789</td>\n",
              "      <td>-0.163158</td>\n",
              "      <td>1456.187453</td>\n",
              "      <td>P1</td>\n",
              "    </tr>\n",
              "  </tbody>\n",
              "</table>\n",
              "</div>\n",
              "    <div class=\"colab-df-buttons\">\n",
              "\n",
              "  <div class=\"colab-df-container\">\n",
              "    <button class=\"colab-df-convert\" onclick=\"convertToInteractive('df-c5116c7f-409f-4c84-80ec-9b83b7738733')\"\n",
              "            title=\"Convert this dataframe to an interactive table.\"\n",
              "            style=\"display:none;\">\n",
              "\n",
              "  <svg xmlns=\"http://www.w3.org/2000/svg\" height=\"24px\" viewBox=\"0 -960 960 960\">\n",
              "    <path d=\"M120-120v-720h720v720H120Zm60-500h600v-160H180v160Zm220 220h160v-160H400v160Zm0 220h160v-160H400v160ZM180-400h160v-160H180v160Zm440 0h160v-160H620v160ZM180-180h160v-160H180v160Zm440 0h160v-160H620v160Z\"/>\n",
              "  </svg>\n",
              "    </button>\n",
              "\n",
              "  <style>\n",
              "    .colab-df-container {\n",
              "      display:flex;\n",
              "      gap: 12px;\n",
              "    }\n",
              "\n",
              "    .colab-df-convert {\n",
              "      background-color: #E8F0FE;\n",
              "      border: none;\n",
              "      border-radius: 50%;\n",
              "      cursor: pointer;\n",
              "      display: none;\n",
              "      fill: #1967D2;\n",
              "      height: 32px;\n",
              "      padding: 0 0 0 0;\n",
              "      width: 32px;\n",
              "    }\n",
              "\n",
              "    .colab-df-convert:hover {\n",
              "      background-color: #E2EBFA;\n",
              "      box-shadow: 0px 1px 2px rgba(60, 64, 67, 0.3), 0px 1px 3px 1px rgba(60, 64, 67, 0.15);\n",
              "      fill: #174EA6;\n",
              "    }\n",
              "\n",
              "    .colab-df-buttons div {\n",
              "      margin-bottom: 4px;\n",
              "    }\n",
              "\n",
              "    [theme=dark] .colab-df-convert {\n",
              "      background-color: #3B4455;\n",
              "      fill: #D2E3FC;\n",
              "    }\n",
              "\n",
              "    [theme=dark] .colab-df-convert:hover {\n",
              "      background-color: #434B5C;\n",
              "      box-shadow: 0px 1px 3px 1px rgba(0, 0, 0, 0.15);\n",
              "      filter: drop-shadow(0px 1px 2px rgba(0, 0, 0, 0.3));\n",
              "      fill: #FFFFFF;\n",
              "    }\n",
              "  </style>\n",
              "\n",
              "    <script>\n",
              "      const buttonEl =\n",
              "        document.querySelector('#df-c5116c7f-409f-4c84-80ec-9b83b7738733 button.colab-df-convert');\n",
              "      buttonEl.style.display =\n",
              "        google.colab.kernel.accessAllowed ? 'block' : 'none';\n",
              "\n",
              "      async function convertToInteractive(key) {\n",
              "        const element = document.querySelector('#df-c5116c7f-409f-4c84-80ec-9b83b7738733');\n",
              "        const dataTable =\n",
              "          await google.colab.kernel.invokeFunction('convertToInteractive',\n",
              "                                                    [key], {});\n",
              "        if (!dataTable) return;\n",
              "\n",
              "        const docLinkHtml = 'Like what you see? Visit the ' +\n",
              "          '<a target=\"_blank\" href=https://colab.research.google.com/notebooks/data_table.ipynb>data table notebook</a>'\n",
              "          + ' to learn more about interactive tables.';\n",
              "        element.innerHTML = '';\n",
              "        dataTable['output_type'] = 'display_data';\n",
              "        await google.colab.output.renderOutput(dataTable, element);\n",
              "        const docLink = document.createElement('div');\n",
              "        docLink.innerHTML = docLinkHtml;\n",
              "        element.appendChild(docLink);\n",
              "      }\n",
              "    </script>\n",
              "  </div>\n",
              "\n",
              "\n",
              "<div id=\"df-784864f5-60d9-412f-a55f-866a9481db22\">\n",
              "  <button class=\"colab-df-quickchart\" onclick=\"quickchart('df-784864f5-60d9-412f-a55f-866a9481db22')\"\n",
              "            title=\"Suggest charts\"\n",
              "            style=\"display:none;\">\n",
              "\n",
              "<svg xmlns=\"http://www.w3.org/2000/svg\" height=\"24px\"viewBox=\"0 0 24 24\"\n",
              "     width=\"24px\">\n",
              "    <g>\n",
              "        <path d=\"M19 3H5c-1.1 0-2 .9-2 2v14c0 1.1.9 2 2 2h14c1.1 0 2-.9 2-2V5c0-1.1-.9-2-2-2zM9 17H7v-7h2v7zm4 0h-2V7h2v10zm4 0h-2v-4h2v4z\"/>\n",
              "    </g>\n",
              "</svg>\n",
              "  </button>\n",
              "\n",
              "<style>\n",
              "  .colab-df-quickchart {\n",
              "      --bg-color: #E8F0FE;\n",
              "      --fill-color: #1967D2;\n",
              "      --hover-bg-color: #E2EBFA;\n",
              "      --hover-fill-color: #174EA6;\n",
              "      --disabled-fill-color: #AAA;\n",
              "      --disabled-bg-color: #DDD;\n",
              "  }\n",
              "\n",
              "  [theme=dark] .colab-df-quickchart {\n",
              "      --bg-color: #3B4455;\n",
              "      --fill-color: #D2E3FC;\n",
              "      --hover-bg-color: #434B5C;\n",
              "      --hover-fill-color: #FFFFFF;\n",
              "      --disabled-bg-color: #3B4455;\n",
              "      --disabled-fill-color: #666;\n",
              "  }\n",
              "\n",
              "  .colab-df-quickchart {\n",
              "    background-color: var(--bg-color);\n",
              "    border: none;\n",
              "    border-radius: 50%;\n",
              "    cursor: pointer;\n",
              "    display: none;\n",
              "    fill: var(--fill-color);\n",
              "    height: 32px;\n",
              "    padding: 0;\n",
              "    width: 32px;\n",
              "  }\n",
              "\n",
              "  .colab-df-quickchart:hover {\n",
              "    background-color: var(--hover-bg-color);\n",
              "    box-shadow: 0 1px 2px rgba(60, 64, 67, 0.3), 0 1px 3px 1px rgba(60, 64, 67, 0.15);\n",
              "    fill: var(--button-hover-fill-color);\n",
              "  }\n",
              "\n",
              "  .colab-df-quickchart-complete:disabled,\n",
              "  .colab-df-quickchart-complete:disabled:hover {\n",
              "    background-color: var(--disabled-bg-color);\n",
              "    fill: var(--disabled-fill-color);\n",
              "    box-shadow: none;\n",
              "  }\n",
              "\n",
              "  .colab-df-spinner {\n",
              "    border: 2px solid var(--fill-color);\n",
              "    border-color: transparent;\n",
              "    border-bottom-color: var(--fill-color);\n",
              "    animation:\n",
              "      spin 1s steps(1) infinite;\n",
              "  }\n",
              "\n",
              "  @keyframes spin {\n",
              "    0% {\n",
              "      border-color: transparent;\n",
              "      border-bottom-color: var(--fill-color);\n",
              "      border-left-color: var(--fill-color);\n",
              "    }\n",
              "    20% {\n",
              "      border-color: transparent;\n",
              "      border-left-color: var(--fill-color);\n",
              "      border-top-color: var(--fill-color);\n",
              "    }\n",
              "    30% {\n",
              "      border-color: transparent;\n",
              "      border-left-color: var(--fill-color);\n",
              "      border-top-color: var(--fill-color);\n",
              "      border-right-color: var(--fill-color);\n",
              "    }\n",
              "    40% {\n",
              "      border-color: transparent;\n",
              "      border-right-color: var(--fill-color);\n",
              "      border-top-color: var(--fill-color);\n",
              "    }\n",
              "    60% {\n",
              "      border-color: transparent;\n",
              "      border-right-color: var(--fill-color);\n",
              "    }\n",
              "    80% {\n",
              "      border-color: transparent;\n",
              "      border-right-color: var(--fill-color);\n",
              "      border-bottom-color: var(--fill-color);\n",
              "    }\n",
              "    90% {\n",
              "      border-color: transparent;\n",
              "      border-bottom-color: var(--fill-color);\n",
              "    }\n",
              "  }\n",
              "</style>\n",
              "\n",
              "  <script>\n",
              "    async function quickchart(key) {\n",
              "      const quickchartButtonEl =\n",
              "        document.querySelector('#' + key + ' button');\n",
              "      quickchartButtonEl.disabled = true;  // To prevent multiple clicks.\n",
              "      quickchartButtonEl.classList.add('colab-df-spinner');\n",
              "      try {\n",
              "        const charts = await google.colab.kernel.invokeFunction(\n",
              "            'suggestCharts', [key], {});\n",
              "      } catch (error) {\n",
              "        console.error('Error during call to suggestCharts:', error);\n",
              "      }\n",
              "      quickchartButtonEl.classList.remove('colab-df-spinner');\n",
              "      quickchartButtonEl.classList.add('colab-df-quickchart-complete');\n",
              "    }\n",
              "    (() => {\n",
              "      let quickchartButtonEl =\n",
              "        document.querySelector('#df-784864f5-60d9-412f-a55f-866a9481db22 button');\n",
              "      quickchartButtonEl.style.display =\n",
              "        google.colab.kernel.accessAllowed ? 'block' : 'none';\n",
              "    })();\n",
              "  </script>\n",
              "</div>\n",
              "    </div>\n",
              "  </div>\n"
            ],
            "text/plain": [
              "                                                 seq       mass         pI  \\\n",
              "0  SVFSGYRKHNRSDPDNYLPTLDNRDMMIYVQARDKFVHFRNCDDPK...  8273.3001   8.887176   \n",
              "1           SVFSGYRKVLKYLNDAGEAVAIDIRNLPASIRLRWRVSLS  4535.2132  10.407857   \n",
              "2                      SVFSGYRKFEHDVKAKEWILRVRRGFPKV  3536.0960  10.533699   \n",
              "3                                   SVFSGYRKALLCDWKK  1901.2351   9.626306   \n",
              "4             SVFSGYRKIKPELDPKVAAALKINQITLGKIALGNYNE  4160.8123   9.601486   \n",
              "\n",
              "      instab     gravy          ppl source  \n",
              "0  21.524286 -0.804286  9622.310717     P1  \n",
              "1  29.120000  0.040000  1295.329159     P1  \n",
              "2  25.941379 -0.627586  1939.887879     P1  \n",
              "3   5.537500 -0.312500  6312.951410     P1  \n",
              "4 -14.215789 -0.163158  1456.187453     P1  "
            ]
          },
          "execution_count": 11,
          "metadata": {},
          "output_type": "execute_result"
        }
      ],
      "source": [
        "#@title Generate sequences\n",
        "\n",
        "generated_sequences_dict = {\"seq\": [],\n",
        "            \"mass\": [],\n",
        "            \"pI\": [],\n",
        "            \"instab\": [],\n",
        "            \"gravy\": [],\n",
        "            \"ppl\": [],\n",
        "            \"source\": []}\n",
        "\n",
        "all_fasta = literature_fasta + homologous_fasta\n",
        "\n",
        "for filename in all_fasta:\n",
        "    filepath = join(path_to_fasta, filename)\n",
        "\n",
        "    # Read the single sequence from the fasta file\n",
        "    record = SeqIO.read(filepath, \"fasta\")\n",
        "\n",
        "    result = generate_sequences(record)\n",
        "\n",
        "    # Save results\n",
        "    for col in result.keys():\n",
        "      generated_sequences_dict[col] += result[col]\n",
        "\n",
        "# Convert to pandas DatFrame\n",
        "generated_sequences = pd.DataFrame.from_dict(generated_sequences_dict, orient=\"columns\")\n",
        "generated_sequences.to_csv(f\"{base_path}/{output_folder_dir}/results_all.tsv\", sep=\"\\t\", index=False)\n",
        "generated_sequences.head()"
      ]
    },
    {
      "cell_type": "markdown",
      "metadata": {
        "id": "QImZiiN_tvB4"
      },
      "source": [
        "## Evaluation of the Model and the Generated Peptides"
      ]
    },
    {
      "cell_type": "code",
      "execution_count": null,
      "metadata": {
        "colab": {
          "background_save": true
        },
        "id": "zXxW3l7akXEr",
        "outputId": "a33afb58-79ab-4f0c-88c3-6661387f001a"
      },
      "outputs": [
        {
          "data": {
            "text/html": [
              "\n",
              "  <div id=\"df-80d1b334-189d-4609-9d7f-24bb28ac5eca\" class=\"colab-df-container\">\n",
              "    <div>\n",
              "<style scoped>\n",
              "    .dataframe tbody tr th:only-of-type {\n",
              "        vertical-align: middle;\n",
              "    }\n",
              "\n",
              "    .dataframe tbody tr th {\n",
              "        vertical-align: top;\n",
              "    }\n",
              "\n",
              "    .dataframe thead th {\n",
              "        text-align: right;\n",
              "    }\n",
              "</style>\n",
              "<table border=\"1\" class=\"dataframe\">\n",
              "  <thead>\n",
              "    <tr style=\"text-align: right;\">\n",
              "      <th></th>\n",
              "      <th>seq</th>\n",
              "      <th>mass</th>\n",
              "      <th>pI</th>\n",
              "      <th>instab</th>\n",
              "      <th>gravy</th>\n",
              "      <th>ppl</th>\n",
              "      <th>source</th>\n",
              "    </tr>\n",
              "  </thead>\n",
              "  <tbody>\n",
              "    <tr>\n",
              "      <th>1340</th>\n",
              "      <td>QIPTVNNLDILTGFCWIILYFAIFAVNFLTRYTLTFLFERKYAFFN...</td>\n",
              "      <td>8714.2862</td>\n",
              "      <td>9.807334</td>\n",
              "      <td>23.916216</td>\n",
              "      <td>0.754054</td>\n",
              "      <td>8713.027649</td>\n",
              "      <td>P27</td>\n",
              "    </tr>\n",
              "    <tr>\n",
              "      <th>1601</th>\n",
              "      <td>EIIESPLFAFLDEKLGYERAAKLYHQMTVDERDRLLKKMKDLEKNP...</td>\n",
              "      <td>8803.9847</td>\n",
              "      <td>6.142385</td>\n",
              "      <td>42.980000</td>\n",
              "      <td>-0.693333</td>\n",
              "      <td>10220.668207</td>\n",
              "      <td>P33</td>\n",
              "    </tr>\n",
              "    <tr>\n",
              "      <th>3549</th>\n",
              "      <td>CELCCNPLCAGC</td>\n",
              "      <td>1228.5060</td>\n",
              "      <td>4.050028</td>\n",
              "      <td>6.766667</td>\n",
              "      <td>1.075000</td>\n",
              "      <td>4296.375989</td>\n",
              "      <td>K26</td>\n",
              "    </tr>\n",
              "    <tr>\n",
              "      <th>3575</th>\n",
              "      <td>GCCSDPLCAWRCAPLTPLGSRWACACPRGFFRRSVKAACQGRVATS...</td>\n",
              "      <td>5664.6231</td>\n",
              "      <td>9.193272</td>\n",
              "      <td>83.333333</td>\n",
              "      <td>0.242593</td>\n",
              "      <td>719.164207</td>\n",
              "      <td>K27</td>\n",
              "    </tr>\n",
              "    <tr>\n",
              "      <th>211</th>\n",
              "      <td>LDAQSAPLRVAFGEDRHALLRWLRAEAQAKLPRDESARLMRRVAAE...</td>\n",
              "      <td>8737.8772</td>\n",
              "      <td>11.533797</td>\n",
              "      <td>57.459740</td>\n",
              "      <td>-0.546753</td>\n",
              "      <td>31509.478070</td>\n",
              "      <td>P5</td>\n",
              "    </tr>\n",
              "  </tbody>\n",
              "</table>\n",
              "</div>\n",
              "    <div class=\"colab-df-buttons\">\n",
              "\n",
              "  <div class=\"colab-df-container\">\n",
              "    <button class=\"colab-df-convert\" onclick=\"convertToInteractive('df-80d1b334-189d-4609-9d7f-24bb28ac5eca')\"\n",
              "            title=\"Convert this dataframe to an interactive table.\"\n",
              "            style=\"display:none;\">\n",
              "\n",
              "  <svg xmlns=\"http://www.w3.org/2000/svg\" height=\"24px\" viewBox=\"0 -960 960 960\">\n",
              "    <path d=\"M120-120v-720h720v720H120Zm60-500h600v-160H180v160Zm220 220h160v-160H400v160Zm0 220h160v-160H400v160ZM180-400h160v-160H180v160Zm440 0h160v-160H620v160ZM180-180h160v-160H180v160Zm440 0h160v-160H620v160Z\"/>\n",
              "  </svg>\n",
              "    </button>\n",
              "\n",
              "  <style>\n",
              "    .colab-df-container {\n",
              "      display:flex;\n",
              "      gap: 12px;\n",
              "    }\n",
              "\n",
              "    .colab-df-convert {\n",
              "      background-color: #E8F0FE;\n",
              "      border: none;\n",
              "      border-radius: 50%;\n",
              "      cursor: pointer;\n",
              "      display: none;\n",
              "      fill: #1967D2;\n",
              "      height: 32px;\n",
              "      padding: 0 0 0 0;\n",
              "      width: 32px;\n",
              "    }\n",
              "\n",
              "    .colab-df-convert:hover {\n",
              "      background-color: #E2EBFA;\n",
              "      box-shadow: 0px 1px 2px rgba(60, 64, 67, 0.3), 0px 1px 3px 1px rgba(60, 64, 67, 0.15);\n",
              "      fill: #174EA6;\n",
              "    }\n",
              "\n",
              "    .colab-df-buttons div {\n",
              "      margin-bottom: 4px;\n",
              "    }\n",
              "\n",
              "    [theme=dark] .colab-df-convert {\n",
              "      background-color: #3B4455;\n",
              "      fill: #D2E3FC;\n",
              "    }\n",
              "\n",
              "    [theme=dark] .colab-df-convert:hover {\n",
              "      background-color: #434B5C;\n",
              "      box-shadow: 0px 1px 3px 1px rgba(0, 0, 0, 0.15);\n",
              "      filter: drop-shadow(0px 1px 2px rgba(0, 0, 0, 0.3));\n",
              "      fill: #FFFFFF;\n",
              "    }\n",
              "  </style>\n",
              "\n",
              "    <script>\n",
              "      const buttonEl =\n",
              "        document.querySelector('#df-80d1b334-189d-4609-9d7f-24bb28ac5eca button.colab-df-convert');\n",
              "      buttonEl.style.display =\n",
              "        google.colab.kernel.accessAllowed ? 'block' : 'none';\n",
              "\n",
              "      async function convertToInteractive(key) {\n",
              "        const element = document.querySelector('#df-80d1b334-189d-4609-9d7f-24bb28ac5eca');\n",
              "        const dataTable =\n",
              "          await google.colab.kernel.invokeFunction('convertToInteractive',\n",
              "                                                    [key], {});\n",
              "        if (!dataTable) return;\n",
              "\n",
              "        const docLinkHtml = 'Like what you see? Visit the ' +\n",
              "          '<a target=\"_blank\" href=https://colab.research.google.com/notebooks/data_table.ipynb>data table notebook</a>'\n",
              "          + ' to learn more about interactive tables.';\n",
              "        element.innerHTML = '';\n",
              "        dataTable['output_type'] = 'display_data';\n",
              "        await google.colab.output.renderOutput(dataTable, element);\n",
              "        const docLink = document.createElement('div');\n",
              "        docLink.innerHTML = docLinkHtml;\n",
              "        element.appendChild(docLink);\n",
              "      }\n",
              "    </script>\n",
              "  </div>\n",
              "\n",
              "\n",
              "<div id=\"df-a3cfca34-8409-4ac4-a252-667284d55591\">\n",
              "  <button class=\"colab-df-quickchart\" onclick=\"quickchart('df-a3cfca34-8409-4ac4-a252-667284d55591')\"\n",
              "            title=\"Suggest charts\"\n",
              "            style=\"display:none;\">\n",
              "\n",
              "<svg xmlns=\"http://www.w3.org/2000/svg\" height=\"24px\"viewBox=\"0 0 24 24\"\n",
              "     width=\"24px\">\n",
              "    <g>\n",
              "        <path d=\"M19 3H5c-1.1 0-2 .9-2 2v14c0 1.1.9 2 2 2h14c1.1 0 2-.9 2-2V5c0-1.1-.9-2-2-2zM9 17H7v-7h2v7zm4 0h-2V7h2v10zm4 0h-2v-4h2v4z\"/>\n",
              "    </g>\n",
              "</svg>\n",
              "  </button>\n",
              "\n",
              "<style>\n",
              "  .colab-df-quickchart {\n",
              "      --bg-color: #E8F0FE;\n",
              "      --fill-color: #1967D2;\n",
              "      --hover-bg-color: #E2EBFA;\n",
              "      --hover-fill-color: #174EA6;\n",
              "      --disabled-fill-color: #AAA;\n",
              "      --disabled-bg-color: #DDD;\n",
              "  }\n",
              "\n",
              "  [theme=dark] .colab-df-quickchart {\n",
              "      --bg-color: #3B4455;\n",
              "      --fill-color: #D2E3FC;\n",
              "      --hover-bg-color: #434B5C;\n",
              "      --hover-fill-color: #FFFFFF;\n",
              "      --disabled-bg-color: #3B4455;\n",
              "      --disabled-fill-color: #666;\n",
              "  }\n",
              "\n",
              "  .colab-df-quickchart {\n",
              "    background-color: var(--bg-color);\n",
              "    border: none;\n",
              "    border-radius: 50%;\n",
              "    cursor: pointer;\n",
              "    display: none;\n",
              "    fill: var(--fill-color);\n",
              "    height: 32px;\n",
              "    padding: 0;\n",
              "    width: 32px;\n",
              "  }\n",
              "\n",
              "  .colab-df-quickchart:hover {\n",
              "    background-color: var(--hover-bg-color);\n",
              "    box-shadow: 0 1px 2px rgba(60, 64, 67, 0.3), 0 1px 3px 1px rgba(60, 64, 67, 0.15);\n",
              "    fill: var(--button-hover-fill-color);\n",
              "  }\n",
              "\n",
              "  .colab-df-quickchart-complete:disabled,\n",
              "  .colab-df-quickchart-complete:disabled:hover {\n",
              "    background-color: var(--disabled-bg-color);\n",
              "    fill: var(--disabled-fill-color);\n",
              "    box-shadow: none;\n",
              "  }\n",
              "\n",
              "  .colab-df-spinner {\n",
              "    border: 2px solid var(--fill-color);\n",
              "    border-color: transparent;\n",
              "    border-bottom-color: var(--fill-color);\n",
              "    animation:\n",
              "      spin 1s steps(1) infinite;\n",
              "  }\n",
              "\n",
              "  @keyframes spin {\n",
              "    0% {\n",
              "      border-color: transparent;\n",
              "      border-bottom-color: var(--fill-color);\n",
              "      border-left-color: var(--fill-color);\n",
              "    }\n",
              "    20% {\n",
              "      border-color: transparent;\n",
              "      border-left-color: var(--fill-color);\n",
              "      border-top-color: var(--fill-color);\n",
              "    }\n",
              "    30% {\n",
              "      border-color: transparent;\n",
              "      border-left-color: var(--fill-color);\n",
              "      border-top-color: var(--fill-color);\n",
              "      border-right-color: var(--fill-color);\n",
              "    }\n",
              "    40% {\n",
              "      border-color: transparent;\n",
              "      border-right-color: var(--fill-color);\n",
              "      border-top-color: var(--fill-color);\n",
              "    }\n",
              "    60% {\n",
              "      border-color: transparent;\n",
              "      border-right-color: var(--fill-color);\n",
              "    }\n",
              "    80% {\n",
              "      border-color: transparent;\n",
              "      border-right-color: var(--fill-color);\n",
              "      border-bottom-color: var(--fill-color);\n",
              "    }\n",
              "    90% {\n",
              "      border-color: transparent;\n",
              "      border-bottom-color: var(--fill-color);\n",
              "    }\n",
              "  }\n",
              "</style>\n",
              "\n",
              "  <script>\n",
              "    async function quickchart(key) {\n",
              "      const quickchartButtonEl =\n",
              "        document.querySelector('#' + key + ' button');\n",
              "      quickchartButtonEl.disabled = true;  // To prevent multiple clicks.\n",
              "      quickchartButtonEl.classList.add('colab-df-spinner');\n",
              "      try {\n",
              "        const charts = await google.colab.kernel.invokeFunction(\n",
              "            'suggestCharts', [key], {});\n",
              "      } catch (error) {\n",
              "        console.error('Error during call to suggestCharts:', error);\n",
              "      }\n",
              "      quickchartButtonEl.classList.remove('colab-df-spinner');\n",
              "      quickchartButtonEl.classList.add('colab-df-quickchart-complete');\n",
              "    }\n",
              "    (() => {\n",
              "      let quickchartButtonEl =\n",
              "        document.querySelector('#df-a3cfca34-8409-4ac4-a252-667284d55591 button');\n",
              "      quickchartButtonEl.style.display =\n",
              "        google.colab.kernel.accessAllowed ? 'block' : 'none';\n",
              "    })();\n",
              "  </script>\n",
              "</div>\n",
              "    </div>\n",
              "  </div>\n"
            ],
            "text/plain": [
              "                                                    seq       mass         pI  \\\n",
              "1340  QIPTVNNLDILTGFCWIILYFAIFAVNFLTRYTLTFLFERKYAFFN...  8714.2862   9.807334   \n",
              "1601  EIIESPLFAFLDEKLGYERAAKLYHQMTVDERDRLLKKMKDLEKNP...  8803.9847   6.142385   \n",
              "3549                                       CELCCNPLCAGC  1228.5060   4.050028   \n",
              "3575  GCCSDPLCAWRCAPLTPLGSRWACACPRGFFRRSVKAACQGRVATS...  5664.6231   9.193272   \n",
              "211   LDAQSAPLRVAFGEDRHALLRWLRAEAQAKLPRDESARLMRRVAAE...  8737.8772  11.533797   \n",
              "\n",
              "         instab     gravy           ppl source  \n",
              "1340  23.916216  0.754054   8713.027649    P27  \n",
              "1601  42.980000 -0.693333  10220.668207    P33  \n",
              "3549   6.766667  1.075000   4296.375989    K26  \n",
              "3575  83.333333  0.242593    719.164207    K27  \n",
              "211   57.459740 -0.546753  31509.478070     P5  "
            ]
          },
          "execution_count": 12,
          "metadata": {},
          "output_type": "execute_result"
        }
      ],
      "source": [
        "import pandas as pd\n",
        "\n",
        "# Column names in the dataframe for reference\n",
        "# columns = [\"seq\",\t\"mass\",\t\"pI\",\t\"instab\",\t\"gravy\",\t\"ppl\",\t\"source\"]\n",
        "\n",
        "# Run this line if sequence generation was already conducted\n",
        "# Need to run code cell with directory paths before running this cell\n",
        "generated_sequences = pd.read_csv(f\"{base_path}/{output_folder_dir}/results_all.tsv\", sep=\"\\t\")\n",
        "\n",
        "generated_sequences.sample(n=5) # Display random 5 rows\n"
      ]
    },
    {
      "cell_type": "code",
      "execution_count": null,
      "metadata": {
        "colab": {
          "background_save": true
        },
        "id": "V5Q61MbiR0z6",
        "outputId": "73a1dc4d-0e33-46ec-ea08-2c8c7b92b7b7"
      },
      "outputs": [
        {
          "data": {
            "text/plain": [
              "Index(['mass', 'pI', 'instab', 'gravy', 'ppl', 'seq_length'], dtype='object')"
            ]
          },
          "execution_count": 13,
          "metadata": {},
          "output_type": "execute_result"
        }
      ],
      "source": [
        "import matplotlib.pyplot as plt\n",
        "\n",
        "generated_sequences['seq_length'] = generated_sequences['seq'].apply(len)\n",
        "numerical_columns = generated_sequences.select_dtypes(include='number').columns\n",
        "numerical_columns"
      ]
    },
    {
      "cell_type": "code",
      "execution_count": null,
      "metadata": {
        "colab": {
          "background_save": true
        },
        "id": "6vfMwVw-Sxhs",
        "outputId": "ffb7fb9b-45a4-4159-9861-9dadf85131db"
      },
      "outputs": [
        {
          "data": {
            "image/png": "[encoded data removed]",
            "text/plain": [
              "<Figure size 1500x800 with 6 Axes>"
            ]
          },
          "metadata": {},
          "output_type": "display_data"
        }
      ],
      "source": [
        "import numpy as np\n",
        "\n",
        "fig, axes = plt.subplots(nrows=2, ncols=len(numerical_columns)//2, figsize=(15, 8))\n",
        "fig.suptitle('Histograms of Numerical Columns', y=1.02)\n",
        "\n",
        "for ax, column in zip(axes.flatten(), numerical_columns):\n",
        "\n",
        "    if column == \"ppl\":\n",
        "      # Making perplexity histogram more readable\n",
        "      max_value = 5000 # cap values above this\n",
        "      ax.hist(np.clip(generated_sequences[column], 0, max_value), bins=20, color='blue', edgecolor='black', alpha=0.7)\n",
        "\n",
        "    else:\n",
        "      ax.hist(generated_sequences[column], bins=20, color='blue', edgecolor='black', alpha=0.7)\n",
        "\n",
        "    ax.set_title(column)\n",
        "    ax.set_xlabel(column)\n",
        "    ax.set_ylabel('Frequency')\n",
        "    ax.grid(True)\n",
        "\n",
        "plt.tight_layout()\n",
        "plt.show()"
      ]
    },
    {
      "cell_type": "code",
      "execution_count": null,
      "metadata": {
        "colab": {
          "background_save": true
        },
        "id": "1LmHUrF6MTvi",
        "outputId": "2bd90e83-e59b-4a81-fc8d-3233f400e96a"
      },
      "outputs": [
        {
          "name": "stdout",
          "output_type": "stream",
          "text": [
            "Number of sequences that passed preliminary filtration: 22\n"
          ]
        }
      ],
      "source": [
        "#@title Selecting generated sequences\n",
        "\n",
        "# Filter by sequence length, instability index, hydrophobicity and pI\n",
        "selected_sequences = generated_sequences[\n",
        "    (generated_sequences['seq'].str.len().between(16, 30, inclusive='both')) &\n",
        "    (generated_sequences['instab'] < 40) &\n",
        "    (generated_sequences['gravy'].between(-1., 1., inclusive='both')) &\n",
        "    (generated_sequences['pI'].between(6, 8, inclusive='both'))\n",
        "]\n",
        "\n",
        "print(f\"Number of sequences that passed preliminary filters: {selected_sequences.shape[0]}\")"
      ]
    },
    {
      "cell_type": "code",
      "execution_count": null,
      "metadata": {
        "colab": {
          "background_save": true
        },
        "id": "G7jlDM2TNnHF",
        "outputId": "095f7a7b-b3e2-449d-db6e-7be5a25ced95"
      },
      "outputs": [
        {
          "data": {
            "text/html": [
              "\n",
              "  <div id=\"df-ddcc198f-e332-4547-9e04-582dc8aa0911\" class=\"colab-df-container\">\n",
              "    <div>\n",
              "<style scoped>\n",
              "    .dataframe tbody tr th:only-of-type {\n",
              "        vertical-align: middle;\n",
              "    }\n",
              "\n",
              "    .dataframe tbody tr th {\n",
              "        vertical-align: top;\n",
              "    }\n",
              "\n",
              "    .dataframe thead th {\n",
              "        text-align: right;\n",
              "    }\n",
              "</style>\n",
              "<table border=\"1\" class=\"dataframe\">\n",
              "  <thead>\n",
              "    <tr style=\"text-align: right;\">\n",
              "      <th></th>\n",
              "      <th>seq</th>\n",
              "      <th>mass</th>\n",
              "      <th>pI</th>\n",
              "      <th>instab</th>\n",
              "      <th>gravy</th>\n",
              "      <th>ppl</th>\n",
              "      <th>source</th>\n",
              "      <th>seq_length</th>\n",
              "    </tr>\n",
              "  </thead>\n",
              "  <tbody>\n",
              "    <tr>\n",
              "      <th>1842</th>\n",
              "      <td>SLPYPFIWGNQMWMLTWPDHR</td>\n",
              "      <td>2676.0791</td>\n",
              "      <td>6.460570</td>\n",
              "      <td>21.700000</td>\n",
              "      <td>-0.485714</td>\n",
              "      <td>844.699757</td>\n",
              "      <td>P37</td>\n",
              "      <td>21</td>\n",
              "    </tr>\n",
              "    <tr>\n",
              "      <th>775</th>\n",
              "      <td>HMWPGDIKPAAVSRDLSQ</td>\n",
              "      <td>2008.2608</td>\n",
              "      <td>6.747038</td>\n",
              "      <td>32.638889</td>\n",
              "      <td>-0.566667</td>\n",
              "      <td>868.129357</td>\n",
              "      <td>P16</td>\n",
              "      <td>18</td>\n",
              "    </tr>\n",
              "    <tr>\n",
              "      <th>1165</th>\n",
              "      <td>IIVTQTMKSGDVSVILHQIHYKAD</td>\n",
              "      <td>2697.1135</td>\n",
              "      <td>6.922614</td>\n",
              "      <td>27.304167</td>\n",
              "      <td>0.216667</td>\n",
              "      <td>904.704280</td>\n",
              "      <td>P24</td>\n",
              "      <td>24</td>\n",
              "    </tr>\n",
              "    <tr>\n",
              "      <th>2640</th>\n",
              "      <td>WNPADYGGIKPLLTETNIVGKY</td>\n",
              "      <td>2449.7542</td>\n",
              "      <td>6.067528</td>\n",
              "      <td>19.663636</td>\n",
              "      <td>-0.386364</td>\n",
              "      <td>1007.955175</td>\n",
              "      <td>K8</td>\n",
              "      <td>22</td>\n",
              "    </tr>\n",
              "    <tr>\n",
              "      <th>3592</th>\n",
              "      <td>GCCSDPLCAWRCHAGRCGRD</td>\n",
              "      <td>2166.4707</td>\n",
              "      <td>7.843627</td>\n",
              "      <td>25.800000</td>\n",
              "      <td>-0.415000</td>\n",
              "      <td>1020.435437</td>\n",
              "      <td>K27</td>\n",
              "      <td>20</td>\n",
              "    </tr>\n",
              "    <tr>\n",
              "      <th>3048</th>\n",
              "      <td>CKFFWATYTSCCLSGGNLGIFVPS</td>\n",
              "      <td>2602.0139</td>\n",
              "      <td>7.948775</td>\n",
              "      <td>35.508333</td>\n",
              "      <td>0.741667</td>\n",
              "      <td>1063.468200</td>\n",
              "      <td>K16</td>\n",
              "      <td>24</td>\n",
              "    </tr>\n",
              "    <tr>\n",
              "      <th>1714</th>\n",
              "      <td>LSITENGEFKPLGFQFSQKSIEKV</td>\n",
              "      <td>2727.0716</td>\n",
              "      <td>6.228155</td>\n",
              "      <td>18.454167</td>\n",
              "      <td>-0.375000</td>\n",
              "      <td>1089.335685</td>\n",
              "      <td>P35</td>\n",
              "      <td>24</td>\n",
              "    </tr>\n",
              "    <tr>\n",
              "      <th>558</th>\n",
              "      <td>LVGPTIWRAALLESAPRHAAE</td>\n",
              "      <td>2258.5777</td>\n",
              "      <td>6.772502</td>\n",
              "      <td>29.404762</td>\n",
              "      <td>0.185714</td>\n",
              "      <td>1100.547351</td>\n",
              "      <td>P12</td>\n",
              "      <td>21</td>\n",
              "    </tr>\n",
              "    <tr>\n",
              "      <th>2864</th>\n",
              "      <td>GCCSDPRCAWRCYGCLS</td>\n",
              "      <td>1880.1796</td>\n",
              "      <td>7.826156</td>\n",
              "      <td>11.311765</td>\n",
              "      <td>-0.035294</td>\n",
              "      <td>1200.327451</td>\n",
              "      <td>K13</td>\n",
              "      <td>17</td>\n",
              "    </tr>\n",
              "    <tr>\n",
              "      <th>820</th>\n",
              "      <td>ALKIPISKIYIDSHSVLSPE</td>\n",
              "      <td>2210.5679</td>\n",
              "      <td>6.808766</td>\n",
              "      <td>35.615000</td>\n",
              "      <td>0.295000</td>\n",
              "      <td>1287.759076</td>\n",
              "      <td>P17</td>\n",
              "      <td>20</td>\n",
              "    </tr>\n",
              "    <tr>\n",
              "      <th>2222</th>\n",
              "      <td>LHTPLPLTRRDKALLDDALSLFG</td>\n",
              "      <td>2562.9601</td>\n",
              "      <td>6.750392</td>\n",
              "      <td>35.873913</td>\n",
              "      <td>0.026087</td>\n",
              "      <td>1371.148420</td>\n",
              "      <td>P45</td>\n",
              "      <td>23</td>\n",
              "    </tr>\n",
              "    <tr>\n",
              "      <th>1760</th>\n",
              "      <td>GWLEPLLARPWLIVGRDQRGVMTRPYDEG</td>\n",
              "      <td>3381.8617</td>\n",
              "      <td>6.215139</td>\n",
              "      <td>39.741379</td>\n",
              "      <td>-0.479310</td>\n",
              "      <td>1400.997559</td>\n",
              "      <td>P36</td>\n",
              "      <td>29</td>\n",
              "    </tr>\n",
              "    <tr>\n",
              "      <th>2696</th>\n",
              "      <td>HEGFTSDFRNPQHAFGSLMCRFNT</td>\n",
              "      <td>2800.0509</td>\n",
              "      <td>6.913577</td>\n",
              "      <td>14.870833</td>\n",
              "      <td>-0.712500</td>\n",
              "      <td>1567.138384</td>\n",
              "      <td>K9</td>\n",
              "      <td>24</td>\n",
              "    </tr>\n",
              "    <tr>\n",
              "      <th>890</th>\n",
              "      <td>LTFQHNFQTHRGHEVGSAQGFTAILW</td>\n",
              "      <td>2983.2569</td>\n",
              "      <td>7.025152</td>\n",
              "      <td>27.673077</td>\n",
              "      <td>-0.319231</td>\n",
              "      <td>1689.998160</td>\n",
              "      <td>P18</td>\n",
              "      <td>26</td>\n",
              "    </tr>\n",
              "    <tr>\n",
              "      <th>2358</th>\n",
              "      <td>YCKFEWATFAKSCAFPVDGLSFPFFGI</td>\n",
              "      <td>3079.5444</td>\n",
              "      <td>6.054285</td>\n",
              "      <td>34.962963</td>\n",
              "      <td>0.607407</td>\n",
              "      <td>1731.806953</td>\n",
              "      <td>K3</td>\n",
              "      <td>27</td>\n",
              "    </tr>\n",
              "    <tr>\n",
              "      <th>1332</th>\n",
              "      <td>QIPTVNNLKVSEPFTP</td>\n",
              "      <td>1784.0177</td>\n",
              "      <td>6.001425</td>\n",
              "      <td>33.075000</td>\n",
              "      <td>-0.337500</td>\n",
              "      <td>1800.799451</td>\n",
              "      <td>P27</td>\n",
              "      <td>16</td>\n",
              "    </tr>\n",
              "    <tr>\n",
              "      <th>1952</th>\n",
              "      <td>GLDIQKVKDMEQLLTQVRLSI</td>\n",
              "      <td>2427.8581</td>\n",
              "      <td>6.121184</td>\n",
              "      <td>6.100000</td>\n",
              "      <td>-0.033333</td>\n",
              "      <td>1831.410477</td>\n",
              "      <td>P40</td>\n",
              "      <td>21</td>\n",
              "    </tr>\n",
              "    <tr>\n",
              "      <th>546</th>\n",
              "      <td>VLEKYKDVIMNSSSLLEHIATGIKKFE</td>\n",
              "      <td>3093.5914</td>\n",
              "      <td>6.749483</td>\n",
              "      <td>27.944444</td>\n",
              "      <td>-0.048148</td>\n",
              "      <td>1927.216102</td>\n",
              "      <td>P11</td>\n",
              "      <td>27</td>\n",
              "    </tr>\n",
              "    <tr>\n",
              "      <th>460</th>\n",
              "      <td>TLPFHSVIYVDSATGQTWTGNR</td>\n",
              "      <td>2450.6595</td>\n",
              "      <td>6.406005</td>\n",
              "      <td>3.736364</td>\n",
              "      <td>-0.268182</td>\n",
              "      <td>1964.080366</td>\n",
              "      <td>P10</td>\n",
              "      <td>22</td>\n",
              "    </tr>\n",
              "    <tr>\n",
              "      <th>2507</th>\n",
              "      <td>GYDPETGTWGRRMTLFTPDSRAEVAAR</td>\n",
              "      <td>3041.3133</td>\n",
              "      <td>6.215139</td>\n",
              "      <td>37.618519</td>\n",
              "      <td>-0.892593</td>\n",
              "      <td>2220.561531</td>\n",
              "      <td>K6</td>\n",
              "      <td>27</td>\n",
              "    </tr>\n",
              "  </tbody>\n",
              "</table>\n",
              "</div>\n",
              "    <div class=\"colab-df-buttons\">\n",
              "\n",
              "  <div class=\"colab-df-container\">\n",
              "    <button class=\"colab-df-convert\" onclick=\"convertToInteractive('df-ddcc198f-e332-4547-9e04-582dc8aa0911')\"\n",
              "            title=\"Convert this dataframe to an interactive table.\"\n",
              "            style=\"display:none;\">\n",
              "\n",
              "  <svg xmlns=\"http://www.w3.org/2000/svg\" height=\"24px\" viewBox=\"0 -960 960 960\">\n",
              "    <path d=\"M120-120v-720h720v720H120Zm60-500h600v-160H180v160Zm220 220h160v-160H400v160Zm0 220h160v-160H400v160ZM180-400h160v-160H180v160Zm440 0h160v-160H620v160ZM180-180h160v-160H180v160Zm440 0h160v-160H620v160Z\"/>\n",
              "  </svg>\n",
              "    </button>\n",
              "\n",
              "  <style>\n",
              "    .colab-df-container {\n",
              "      display:flex;\n",
              "      gap: 12px;\n",
              "    }\n",
              "\n",
              "    .colab-df-convert {\n",
              "      background-color: #E8F0FE;\n",
              "      border: none;\n",
              "      border-radius: 50%;\n",
              "      cursor: pointer;\n",
              "      display: none;\n",
              "      fill: #1967D2;\n",
              "      height: 32px;\n",
              "      padding: 0 0 0 0;\n",
              "      width: 32px;\n",
              "    }\n",
              "\n",
              "    .colab-df-convert:hover {\n",
              "      background-color: #E2EBFA;\n",
              "      box-shadow: 0px 1px 2px rgba(60, 64, 67, 0.3), 0px 1px 3px 1px rgba(60, 64, 67, 0.15);\n",
              "      fill: #174EA6;\n",
              "    }\n",
              "\n",
              "    .colab-df-buttons div {\n",
              "      margin-bottom: 4px;\n",
              "    }\n",
              "\n",
              "    [theme=dark] .colab-df-convert {\n",
              "      background-color: #3B4455;\n",
              "      fill: #D2E3FC;\n",
              "    }\n",
              "\n",
              "    [theme=dark] .colab-df-convert:hover {\n",
              "      background-color: #434B5C;\n",
              "      box-shadow: 0px 1px 3px 1px rgba(0, 0, 0, 0.15);\n",
              "      filter: drop-shadow(0px 1px 2px rgba(0, 0, 0, 0.3));\n",
              "      fill: #FFFFFF;\n",
              "    }\n",
              "  </style>\n",
              "\n",
              "    <script>\n",
              "      const buttonEl =\n",
              "        document.querySelector('#df-ddcc198f-e332-4547-9e04-582dc8aa0911 button.colab-df-convert');\n",
              "      buttonEl.style.display =\n",
              "        google.colab.kernel.accessAllowed ? 'block' : 'none';\n",
              "\n",
              "      async function convertToInteractive(key) {\n",
              "        const element = document.querySelector('#df-ddcc198f-e332-4547-9e04-582dc8aa0911');\n",
              "        const dataTable =\n",
              "          await google.colab.kernel.invokeFunction('convertToInteractive',\n",
              "                                                    [key], {});\n",
              "        if (!dataTable) return;\n",
              "\n",
              "        const docLinkHtml = 'Like what you see? Visit the ' +\n",
              "          '<a target=\"_blank\" href=https://colab.research.google.com/notebooks/data_table.ipynb>data table notebook</a>'\n",
              "          + ' to learn more about interactive tables.';\n",
              "        element.innerHTML = '';\n",
              "        dataTable['output_type'] = 'display_data';\n",
              "        await google.colab.output.renderOutput(dataTable, element);\n",
              "        const docLink = document.createElement('div');\n",
              "        docLink.innerHTML = docLinkHtml;\n",
              "        element.appendChild(docLink);\n",
              "      }\n",
              "    </script>\n",
              "  </div>\n",
              "\n",
              "\n",
              "<div id=\"df-3b89e57d-58c8-4582-84ff-d2e09a483f0e\">\n",
              "  <button class=\"colab-df-quickchart\" onclick=\"quickchart('df-3b89e57d-58c8-4582-84ff-d2e09a483f0e')\"\n",
              "            title=\"Suggest charts\"\n",
              "            style=\"display:none;\">\n",
              "\n",
              "<svg xmlns=\"http://www.w3.org/2000/svg\" height=\"24px\"viewBox=\"0 0 24 24\"\n",
              "     width=\"24px\">\n",
              "    <g>\n",
              "        <path d=\"M19 3H5c-1.1 0-2 .9-2 2v14c0 1.1.9 2 2 2h14c1.1 0 2-.9 2-2V5c0-1.1-.9-2-2-2zM9 17H7v-7h2v7zm4 0h-2V7h2v10zm4 0h-2v-4h2v4z\"/>\n",
              "    </g>\n",
              "</svg>\n",
              "  </button>\n",
              "\n",
              "<style>\n",
              "  .colab-df-quickchart {\n",
              "      --bg-color: #E8F0FE;\n",
              "      --fill-color: #1967D2;\n",
              "      --hover-bg-color: #E2EBFA;\n",
              "      --hover-fill-color: #174EA6;\n",
              "      --disabled-fill-color: #AAA;\n",
              "      --disabled-bg-color: #DDD;\n",
              "  }\n",
              "\n",
              "  [theme=dark] .colab-df-quickchart {\n",
              "      --bg-color: #3B4455;\n",
              "      --fill-color: #D2E3FC;\n",
              "      --hover-bg-color: #434B5C;\n",
              "      --hover-fill-color: #FFFFFF;\n",
              "      --disabled-bg-color: #3B4455;\n",
              "      --disabled-fill-color: #666;\n",
              "  }\n",
              "\n",
              "  .colab-df-quickchart {\n",
              "    background-color: var(--bg-color);\n",
              "    border: none;\n",
              "    border-radius: 50%;\n",
              "    cursor: pointer;\n",
              "    display: none;\n",
              "    fill: var(--fill-color);\n",
              "    height: 32px;\n",
              "    padding: 0;\n",
              "    width: 32px;\n",
              "  }\n",
              "\n",
              "  .colab-df-quickchart:hover {\n",
              "    background-color: var(--hover-bg-color);\n",
              "    box-shadow: 0 1px 2px rgba(60, 64, 67, 0.3), 0 1px 3px 1px rgba(60, 64, 67, 0.15);\n",
              "    fill: var(--button-hover-fill-color);\n",
              "  }\n",
              "\n",
              "  .colab-df-quickchart-complete:disabled,\n",
              "  .colab-df-quickchart-complete:disabled:hover {\n",
              "    background-color: var(--disabled-bg-color);\n",
              "    fill: var(--disabled-fill-color);\n",
              "    box-shadow: none;\n",
              "  }\n",
              "\n",
              "  .colab-df-spinner {\n",
              "    border: 2px solid var(--fill-color);\n",
              "    border-color: transparent;\n",
              "    border-bottom-color: var(--fill-color);\n",
              "    animation:\n",
              "      spin 1s steps(1) infinite;\n",
              "  }\n",
              "\n",
              "  @keyframes spin {\n",
              "    0% {\n",
              "      border-color: transparent;\n",
              "      border-bottom-color: var(--fill-color);\n",
              "      border-left-color: var(--fill-color);\n",
              "    }\n",
              "    20% {\n",
              "      border-color: transparent;\n",
              "      border-left-color: var(--fill-color);\n",
              "      border-top-color: var(--fill-color);\n",
              "    }\n",
              "    30% {\n",
              "      border-color: transparent;\n",
              "      border-left-color: var(--fill-color);\n",
              "      border-top-color: var(--fill-color);\n",
              "      border-right-color: var(--fill-color);\n",
              "    }\n",
              "    40% {\n",
              "      border-color: transparent;\n",
              "      border-right-color: var(--fill-color);\n",
              "      border-top-color: var(--fill-color);\n",
              "    }\n",
              "    60% {\n",
              "      border-color: transparent;\n",
              "      border-right-color: var(--fill-color);\n",
              "    }\n",
              "    80% {\n",
              "      border-color: transparent;\n",
              "      border-right-color: var(--fill-color);\n",
              "      border-bottom-color: var(--fill-color);\n",
              "    }\n",
              "    90% {\n",
              "      border-color: transparent;\n",
              "      border-bottom-color: var(--fill-color);\n",
              "    }\n",
              "  }\n",
              "</style>\n",
              "\n",
              "  <script>\n",
              "    async function quickchart(key) {\n",
              "      const quickchartButtonEl =\n",
              "        document.querySelector('#' + key + ' button');\n",
              "      quickchartButtonEl.disabled = true;  // To prevent multiple clicks.\n",
              "      quickchartButtonEl.classList.add('colab-df-spinner');\n",
              "      try {\n",
              "        const charts = await google.colab.kernel.invokeFunction(\n",
              "            'suggestCharts', [key], {});\n",
              "      } catch (error) {\n",
              "        console.error('Error during call to suggestCharts:', error);\n",
              "      }\n",
              "      quickchartButtonEl.classList.remove('colab-df-spinner');\n",
              "      quickchartButtonEl.classList.add('colab-df-quickchart-complete');\n",
              "    }\n",
              "    (() => {\n",
              "      let quickchartButtonEl =\n",
              "        document.querySelector('#df-3b89e57d-58c8-4582-84ff-d2e09a483f0e button');\n",
              "      quickchartButtonEl.style.display =\n",
              "        google.colab.kernel.accessAllowed ? 'block' : 'none';\n",
              "    })();\n",
              "  </script>\n",
              "</div>\n",
              "    </div>\n",
              "  </div>\n"
            ],
            "text/plain": [
              "                                seq       mass        pI     instab     gravy  \\\n",
              "1842          SLPYPFIWGNQMWMLTWPDHR  2676.0791  6.460570  21.700000 -0.485714   \n",
              "775              HMWPGDIKPAAVSRDLSQ  2008.2608  6.747038  32.638889 -0.566667   \n",
              "1165       IIVTQTMKSGDVSVILHQIHYKAD  2697.1135  6.922614  27.304167  0.216667   \n",
              "2640         WNPADYGGIKPLLTETNIVGKY  2449.7542  6.067528  19.663636 -0.386364   \n",
              "3592           GCCSDPLCAWRCHAGRCGRD  2166.4707  7.843627  25.800000 -0.415000   \n",
              "3048       CKFFWATYTSCCLSGGNLGIFVPS  2602.0139  7.948775  35.508333  0.741667   \n",
              "1714       LSITENGEFKPLGFQFSQKSIEKV  2727.0716  6.228155  18.454167 -0.375000   \n",
              "558           LVGPTIWRAALLESAPRHAAE  2258.5777  6.772502  29.404762  0.185714   \n",
              "2864              GCCSDPRCAWRCYGCLS  1880.1796  7.826156  11.311765 -0.035294   \n",
              "820            ALKIPISKIYIDSHSVLSPE  2210.5679  6.808766  35.615000  0.295000   \n",
              "2222        LHTPLPLTRRDKALLDDALSLFG  2562.9601  6.750392  35.873913  0.026087   \n",
              "1760  GWLEPLLARPWLIVGRDQRGVMTRPYDEG  3381.8617  6.215139  39.741379 -0.479310   \n",
              "2696       HEGFTSDFRNPQHAFGSLMCRFNT  2800.0509  6.913577  14.870833 -0.712500   \n",
              "890      LTFQHNFQTHRGHEVGSAQGFTAILW  2983.2569  7.025152  27.673077 -0.319231   \n",
              "2358    YCKFEWATFAKSCAFPVDGLSFPFFGI  3079.5444  6.054285  34.962963  0.607407   \n",
              "1332               QIPTVNNLKVSEPFTP  1784.0177  6.001425  33.075000 -0.337500   \n",
              "1952          GLDIQKVKDMEQLLTQVRLSI  2427.8581  6.121184   6.100000 -0.033333   \n",
              "546     VLEKYKDVIMNSSSLLEHIATGIKKFE  3093.5914  6.749483  27.944444 -0.048148   \n",
              "460          TLPFHSVIYVDSATGQTWTGNR  2450.6595  6.406005   3.736364 -0.268182   \n",
              "2507    GYDPETGTWGRRMTLFTPDSRAEVAAR  3041.3133  6.215139  37.618519 -0.892593   \n",
              "\n",
              "              ppl source  seq_length  \n",
              "1842   844.699757    P37          21  \n",
              "775    868.129357    P16          18  \n",
              "1165   904.704280    P24          24  \n",
              "2640  1007.955175     K8          22  \n",
              "3592  1020.435437    K27          20  \n",
              "3048  1063.468200    K16          24  \n",
              "1714  1089.335685    P35          24  \n",
              "558   1100.547351    P12          21  \n",
              "2864  1200.327451    K13          17  \n",
              "820   1287.759076    P17          20  \n",
              "2222  1371.148420    P45          23  \n",
              "1760  1400.997559    P36          29  \n",
              "2696  1567.138384     K9          24  \n",
              "890   1689.998160    P18          26  \n",
              "2358  1731.806953     K3          27  \n",
              "1332  1800.799451    P27          16  \n",
              "1952  1831.410477    P40          21  \n",
              "546   1927.216102    P11          27  \n",
              "460   1964.080366    P10          22  \n",
              "2507  2220.561531     K6          27  "
            ]
          },
          "execution_count": 16,
          "metadata": {},
          "output_type": "execute_result"
        }
      ],
      "source": [
        "# Selection by perplexity and unique source\n",
        "final_selection = selected_sequences.sort_values(by='ppl', ascending=True).drop_duplicates(subset='source', keep='first').head(20)\n",
        "final_selection"
      ]
    },
    {
      "cell_type": "code",
      "execution_count": null,
      "metadata": {
        "colab": {
          "background_save": true
        },
        "id": "40xwlfE_UQlf",
        "outputId": "986740c1-d678-4a08-eea5-208cbee7292f"
      },
      "outputs": [
        {
          "name": "stdout",
          "output_type": "stream",
          "text": [
            "Sequence G1 saved to G1.fasta\n",
            "Sequence G2 saved to G2.fasta\n",
            "Sequence G3 saved to G3.fasta\n",
            "Sequence G4 saved to G4.fasta\n",
            "Sequence G5 saved to G5.fasta\n",
            "Sequence G6 saved to G6.fasta\n",
            "Sequence G7 saved to G7.fasta\n",
            "Sequence G8 saved to G8.fasta\n",
            "Sequence G9 saved to G9.fasta\n",
            "Sequence G10 saved to G10.fasta\n",
            "Sequence G11 saved to G11.fasta\n",
            "Sequence G12 saved to G12.fasta\n",
            "Sequence G13 saved to G13.fasta\n",
            "Sequence G14 saved to G14.fasta\n",
            "Sequence G15 saved to G15.fasta\n",
            "Sequence G16 saved to G16.fasta\n",
            "Sequence G17 saved to G17.fasta\n",
            "Sequence G18 saved to G18.fasta\n",
            "Sequence G19 saved to G19.fasta\n",
            "Sequence G20 saved to G20.fasta\n"
          ]
        }
      ],
      "source": [
        "#@title Save results\n",
        "\n",
        "try:\n",
        "  import Bio\n",
        "except:\n",
        "  !pip install biopython\n",
        "\n",
        "from Bio import SeqIO, Seq\n",
        "\n",
        "final_selection.to_csv(f\"{base_path}/{output_folder_dir}/results_final.tsv\", sep=\"\\t\", index=False)\n",
        "\n",
        "n = 1\n",
        "# Save each sequence to a separate FASTA file\n",
        "for i, row in final_selection.iterrows():\n",
        "    identifier = f'G{n}'\n",
        "    n += 1\n",
        "    sequence = row['seq']\n",
        "\n",
        "    # Create a SeqRecord\n",
        "    seq_record = SeqIO.SeqRecord(Seq.Seq(sequence), id=identifier, description=\"\")\n",
        "\n",
        "    # Save to a FASTA file\n",
        "    output_filename = f'{identifier}.fasta'\n",
        "    with open(f\"{base_path}/{output_folder_dir}/{output_filename}\", 'w') as output_file:\n",
        "        SeqIO.write(seq_record, output_file, 'fasta')\n",
        "\n",
        "    print(f'Sequence {identifier} saved to {output_filename}')"
      ]
    },
    {
      "cell_type": "markdown",
      "metadata": {
        "id": "_HqV2uINd7fR"
      },
      "source": [
        "## Further reading\n",
        "\n",
        "[ProtGPT2 Hugging Face](https://huggingface.co/nferruz/ProtGPT2)\n",
        "\n",
        "[ProtGPT2 training data - Uniref50 (UR50) dataset version 2021/04](https://huggingface.co/datasets/nferruz/UR50_2021_04)\n",
        "\n",
        "[ProtGPT2 is a deep unsupervised language model for protein design](https://pubmed.ncbi.nlm.nih.gov/35896542/)"
      ]
    }
  ],
  "metadata": {
    "colab": {
      "provenance": []
    },
    "kernelspec": {
      "display_name": "Python 3",
      "name": "python3"
    },
    "language_info": {
      "name": "python"
    },
    "widgets": {
      "application/vnd.jupyter.widget-state+json": {
        "054274cb76ac461cac61522705204728": {
          "model_module": "@jupyter-widgets/base",
          "model_module_version": "1.2.0",
          "model_name": "LayoutModel",
          "state": {
            "_model_module": "@jupyter-widgets/base",
            "_model_module_version": "1.2.0",
            "_model_name": "LayoutModel",
            "_view_count": null,
            "_view_module": "@jupyter-widgets/base",
            "_view_module_version": "1.2.0",
            "_view_name": "LayoutView",
            "align_content": null,
            "align_items": null,
            "align_self": null,
            "border": null,
            "bottom": null,
            "display": null,
            "flex": null,
            "flex_flow": null,
            "grid_area": null,
            "grid_auto_columns": null,
            "grid_auto_flow": null,
            "grid_auto_rows": null,
            "grid_column": null,
            "grid_gap": null,
            "grid_row": null,
            "grid_template_areas": null,
            "grid_template_columns": null,
            "grid_template_rows": null,
            "height": null,
            "justify_content": null,
            "justify_items": null,
            "left": null,
            "margin": null,
            "max_height": null,
            "max_width": null,
            "min_height": null,
            "min_width": null,
            "object_fit": null,
            "object_position": null,
            "order": null,
            "overflow": null,
            "overflow_x": null,
            "overflow_y": null,
            "padding": null,
            "right": null,
            "top": null,
            "visibility": null,
            "width": null
          }
        },
        "058908761fa246dea61ba456d906f2b7": {
          "model_module": "@jupyter-widgets/base",
          "model_module_version": "1.2.0",
          "model_name": "LayoutModel",
          "state": {
            "_model_module": "@jupyter-widgets/base",
            "_model_module_version": "1.2.0",
            "_model_name": "LayoutModel",
            "_view_count": null,
            "_view_module": "@jupyter-widgets/base",
            "_view_module_version": "1.2.0",
            "_view_name": "LayoutView",
            "align_content": null,
            "align_items": null,
            "align_self": null,
            "border": null,
            "bottom": null,
            "display": null,
            "flex": null,
            "flex_flow": null,
            "grid_area": null,
            "grid_auto_columns": null,
            "grid_auto_flow": null,
            "grid_auto_rows": null,
            "grid_column": null,
            "grid_gap": null,
            "grid_row": null,
            "grid_template_areas": null,
            "grid_template_columns": null,
            "grid_template_rows": null,
            "height": null,
            "justify_content": null,
            "justify_items": null,
            "left": null,
            "margin": null,
            "max_height": null,
            "max_width": null,
            "min_height": null,
            "min_width": null,
            "object_fit": null,
            "object_position": null,
            "order": null,
            "overflow": null,
            "overflow_x": null,
            "overflow_y": null,
            "padding": null,
            "right": null,
            "top": null,
            "visibility": null,
            "width": null
          }
        },
        "0f02912f0d2440848bc19c7c1c368ec8": {
          "model_module": "@jupyter-widgets/base",
          "model_module_version": "1.2.0",
          "model_name": "LayoutModel",
          "state": {
            "_model_module": "@jupyter-widgets/base",
            "_model_module_version": "1.2.0",
            "_model_name": "LayoutModel",
            "_view_count": null,
            "_view_module": "@jupyter-widgets/base",
            "_view_module_version": "1.2.0",
            "_view_name": "LayoutView",
            "align_content": null,
            "align_items": null,
            "align_self": null,
            "border": null,
            "bottom": null,
            "display": null,
            "flex": null,
            "flex_flow": null,
            "grid_area": null,
            "grid_auto_columns": null,
            "grid_auto_flow": null,
            "grid_auto_rows": null,
            "grid_column": null,
            "grid_gap": null,
            "grid_row": null,
            "grid_template_areas": null,
            "grid_template_columns": null,
            "grid_template_rows": null,
            "height": null,
            "justify_content": null,
            "justify_items": null,
            "left": null,
            "margin": null,
            "max_height": null,
            "max_width": null,
            "min_height": null,
            "min_width": null,
            "object_fit": null,
            "object_position": null,
            "order": null,
            "overflow": null,
            "overflow_x": null,
            "overflow_y": null,
            "padding": null,
            "right": null,
            "top": null,
            "visibility": null,
            "width": null
          }
        },
        "11036dfa0d8f41b2a140c5e1284d20c9": {
          "model_module": "@jupyter-widgets/controls",
          "model_module_version": "1.5.0",
          "model_name": "DescriptionStyleModel",
          "state": {
            "_model_module": "@jupyter-widgets/controls",
            "_model_module_version": "1.5.0",
            "_model_name": "DescriptionStyleModel",
            "_view_count": null,
            "_view_module": "@jupyter-widgets/base",
            "_view_module_version": "1.2.0",
            "_view_name": "StyleView",
            "description_width": ""
          }
        },
        "182d27b4b9f54f5faa339edd4bdb84c3": {
          "model_module": "@jupyter-widgets/controls",
          "model_module_version": "1.5.0",
          "model_name": "DescriptionStyleModel",
          "state": {
            "_model_module": "@jupyter-widgets/controls",
            "_model_module_version": "1.5.0",
            "_model_name": "DescriptionStyleModel",
            "_view_count": null,
            "_view_module": "@jupyter-widgets/base",
            "_view_module_version": "1.2.0",
            "_view_name": "StyleView",
            "description_width": ""
          }
        },
        "19c126eef07942e995e2c23d11e3cbc2": {
          "model_module": "@jupyter-widgets/controls",
          "model_module_version": "1.5.0",
          "model_name": "ProgressStyleModel",
          "state": {
            "_model_module": "@jupyter-widgets/controls",
            "_model_module_version": "1.5.0",
            "_model_name": "ProgressStyleModel",
            "_view_count": null,
            "_view_module": "@jupyter-widgets/base",
            "_view_module_version": "1.2.0",
            "_view_name": "StyleView",
            "bar_color": null,
            "description_width": ""
          }
        },
        "1a5073d4297645f2be80da6bd8bd5c67": {
          "model_module": "@jupyter-widgets/controls",
          "model_module_version": "1.5.0",
          "model_name": "ProgressStyleModel",
          "state": {
            "_model_module": "@jupyter-widgets/controls",
            "_model_module_version": "1.5.0",
            "_model_name": "ProgressStyleModel",
            "_view_count": null,
            "_view_module": "@jupyter-widgets/base",
            "_view_module_version": "1.2.0",
            "_view_name": "StyleView",
            "bar_color": null,
            "description_width": ""
          }
        },
        "1abf6e9db1c54408be085d254b5a24e3": {
          "model_module": "@jupyter-widgets/controls",
          "model_module_version": "1.5.0",
          "model_name": "HTMLModel",
          "state": {
            "_dom_classes": [],
            "_model_module": "@jupyter-widgets/controls",
            "_model_module_version": "1.5.0",
            "_model_name": "HTMLModel",
            "_view_count": null,
            "_view_module": "@jupyter-widgets/controls",
            "_view_module_version": "1.5.0",
            "_view_name": "HTMLView",
            "description": "",
            "description_tooltip": null,
            "layout": "IPY_MODEL_a423a6fab7d541cd9cd7b654ecda7ee9",
            "placeholder": "​",
            "style": "IPY_MODEL_5820a425b1a14d9b90a3d7a895ee4744",
            "value": "pytorch_model.bin: 100%"
          }
        },
        "1b1ff77b05a3400680ef0b78b1101189": {
          "model_module": "@jupyter-widgets/base",
          "model_module_version": "1.2.0",
          "model_name": "LayoutModel",
          "state": {
            "_model_module": "@jupyter-widgets/base",
            "_model_module_version": "1.2.0",
            "_model_name": "LayoutModel",
            "_view_count": null,
            "_view_module": "@jupyter-widgets/base",
            "_view_module_version": "1.2.0",
            "_view_name": "LayoutView",
            "align_content": null,
            "align_items": null,
            "align_self": null,
            "border": null,
            "bottom": null,
            "display": null,
            "flex": null,
            "flex_flow": null,
            "grid_area": null,
            "grid_auto_columns": null,
            "grid_auto_flow": null,
            "grid_auto_rows": null,
            "grid_column": null,
            "grid_gap": null,
            "grid_row": null,
            "grid_template_areas": null,
            "grid_template_columns": null,
            "grid_template_rows": null,
            "height": null,
            "justify_content": null,
            "justify_items": null,
            "left": null,
            "margin": null,
            "max_height": null,
            "max_width": null,
            "min_height": null,
            "min_width": null,
            "object_fit": null,
            "object_position": null,
            "order": null,
            "overflow": null,
            "overflow_x": null,
            "overflow_y": null,
            "padding": null,
            "right": null,
            "top": null,
            "visibility": null,
            "width": null
          }
        },
        "20030598aa014bb7ad9a4b030c1435df": {
          "model_module": "@jupyter-widgets/base",
          "model_module_version": "1.2.0",
          "model_name": "LayoutModel",
          "state": {
            "_model_module": "@jupyter-widgets/base",
            "_model_module_version": "1.2.0",
            "_model_name": "LayoutModel",
            "_view_count": null,
            "_view_module": "@jupyter-widgets/base",
            "_view_module_version": "1.2.0",
            "_view_name": "LayoutView",
            "align_content": null,
            "align_items": null,
            "align_self": null,
            "border": null,
            "bottom": null,
            "display": null,
            "flex": null,
            "flex_flow": null,
            "grid_area": null,
            "grid_auto_columns": null,
            "grid_auto_flow": null,
            "grid_auto_rows": null,
            "grid_column": null,
            "grid_gap": null,
            "grid_row": null,
            "grid_template_areas": null,
            "grid_template_columns": null,
            "grid_template_rows": null,
            "height": null,
            "justify_content": null,
            "justify_items": null,
            "left": null,
            "margin": null,
            "max_height": null,
            "max_width": null,
            "min_height": null,
            "min_width": null,
            "object_fit": null,
            "object_position": null,
            "order": null,
            "overflow": null,
            "overflow_x": null,
            "overflow_y": null,
            "padding": null,
            "right": null,
            "top": null,
            "visibility": null,
            "width": null
          }
        },
        "254886ccc2ae40d1b942e09dc97d676f": {
          "model_module": "@jupyter-widgets/base",
          "model_module_version": "1.2.0",
          "model_name": "LayoutModel",
          "state": {
            "_model_module": "@jupyter-widgets/base",
            "_model_module_version": "1.2.0",
            "_model_name": "LayoutModel",
            "_view_count": null,
            "_view_module": "@jupyter-widgets/base",
            "_view_module_version": "1.2.0",
            "_view_name": "LayoutView",
            "align_content": null,
            "align_items": null,
            "align_self": null,
            "border": null,
            "bottom": null,
            "display": null,
            "flex": null,
            "flex_flow": null,
            "grid_area": null,
            "grid_auto_columns": null,
            "grid_auto_flow": null,
            "grid_auto_rows": null,
            "grid_column": null,
            "grid_gap": null,
            "grid_row": null,
            "grid_template_areas": null,
            "grid_template_columns": null,
            "grid_template_rows": null,
            "height": null,
            "justify_content": null,
            "justify_items": null,
            "left": null,
            "margin": null,
            "max_height": null,
            "max_width": null,
            "min_height": null,
            "min_width": null,
            "object_fit": null,
            "object_position": null,
            "order": null,
            "overflow": null,
            "overflow_x": null,
            "overflow_y": null,
            "padding": null,
            "right": null,
            "top": null,
            "visibility": null,
            "width": null
          }
        },
        "27c0ce5f9b5f4d18823dad81e7be742d": {
          "model_module": "@jupyter-widgets/controls",
          "model_module_version": "1.5.0",
          "model_name": "HTMLModel",
          "state": {
            "_dom_classes": [],
            "_model_module": "@jupyter-widgets/controls",
            "_model_module_version": "1.5.0",
            "_model_name": "HTMLModel",
            "_view_count": null,
            "_view_module": "@jupyter-widgets/controls",
            "_view_module_version": "1.5.0",
            "_view_name": "HTMLView",
            "description": "",
            "description_tooltip": null,
            "layout": "IPY_MODEL_b5b36eecd2e34dcc934f492efea70b21",
            "placeholder": "​",
            "style": "IPY_MODEL_5444467a50ca4b39ad48cb16fdc2b458",
            "value": " 850/850 [00:00&lt;00:00, 28.2kB/s]"
          }
        },
        "27cc51404929439bb86fb8515b77dc9a": {
          "model_module": "@jupyter-widgets/controls",
          "model_module_version": "1.5.0",
          "model_name": "HTMLModel",
          "state": {
            "_dom_classes": [],
            "_model_module": "@jupyter-widgets/controls",
            "_model_module_version": "1.5.0",
            "_model_name": "HTMLModel",
            "_view_count": null,
            "_view_module": "@jupyter-widgets/controls",
            "_view_module_version": "1.5.0",
            "_view_name": "HTMLView",
            "description": "",
            "description_tooltip": null,
            "layout": "IPY_MODEL_64bd1a4e0627491d9803fb822ef04204",
            "placeholder": "​",
            "style": "IPY_MODEL_2f29b3c2beed4c339a3e83d1ecb9f065",
            "value": "config.json: 100%"
          }
        },
        "294266ba292f466ab3b362977426eacc": {
          "model_module": "@jupyter-widgets/base",
          "model_module_version": "1.2.0",
          "model_name": "LayoutModel",
          "state": {
            "_model_module": "@jupyter-widgets/base",
            "_model_module_version": "1.2.0",
            "_model_name": "LayoutModel",
            "_view_count": null,
            "_view_module": "@jupyter-widgets/base",
            "_view_module_version": "1.2.0",
            "_view_name": "LayoutView",
            "align_content": null,
            "align_items": null,
            "align_self": null,
            "border": null,
            "bottom": null,
            "display": null,
            "flex": null,
            "flex_flow": null,
            "grid_area": null,
            "grid_auto_columns": null,
            "grid_auto_flow": null,
            "grid_auto_rows": null,
            "grid_column": null,
            "grid_gap": null,
            "grid_row": null,
            "grid_template_areas": null,
            "grid_template_columns": null,
            "grid_template_rows": null,
            "height": null,
            "justify_content": null,
            "justify_items": null,
            "left": null,
            "margin": null,
            "max_height": null,
            "max_width": null,
            "min_height": null,
            "min_width": null,
            "object_fit": null,
            "object_position": null,
            "order": null,
            "overflow": null,
            "overflow_x": null,
            "overflow_y": null,
            "padding": null,
            "right": null,
            "top": null,
            "visibility": null,
            "width": null
          }
        },
        "2cef4d52fd3f495ebe3ec35d3567645a": {
          "model_module": "@jupyter-widgets/controls",
          "model_module_version": "1.5.0",
          "model_name": "DescriptionStyleModel",
          "state": {
            "_model_module": "@jupyter-widgets/controls",
            "_model_module_version": "1.5.0",
            "_model_name": "DescriptionStyleModel",
            "_view_count": null,
            "_view_module": "@jupyter-widgets/base",
            "_view_module_version": "1.2.0",
            "_view_name": "StyleView",
            "description_width": ""
          }
        },
        "2f29b3c2beed4c339a3e83d1ecb9f065": {
          "model_module": "@jupyter-widgets/controls",
          "model_module_version": "1.5.0",
          "model_name": "DescriptionStyleModel",
          "state": {
            "_model_module": "@jupyter-widgets/controls",
            "_model_module_version": "1.5.0",
            "_model_name": "DescriptionStyleModel",
            "_view_count": null,
            "_view_module": "@jupyter-widgets/base",
            "_view_module_version": "1.2.0",
            "_view_name": "StyleView",
            "description_width": ""
          }
        },
        "3755fbc3a531466aa5ae2a09a13d0143": {
          "model_module": "@jupyter-widgets/base",
          "model_module_version": "1.2.0",
          "model_name": "LayoutModel",
          "state": {
            "_model_module": "@jupyter-widgets/base",
            "_model_module_version": "1.2.0",
            "_model_name": "LayoutModel",
            "_view_count": null,
            "_view_module": "@jupyter-widgets/base",
            "_view_module_version": "1.2.0",
            "_view_name": "LayoutView",
            "align_content": null,
            "align_items": null,
            "align_self": null,
            "border": null,
            "bottom": null,
            "display": null,
            "flex": null,
            "flex_flow": null,
            "grid_area": null,
            "grid_auto_columns": null,
            "grid_auto_flow": null,
            "grid_auto_rows": null,
            "grid_column": null,
            "grid_gap": null,
            "grid_row": null,
            "grid_template_areas": null,
            "grid_template_columns": null,
            "grid_template_rows": null,
            "height": null,
            "justify_content": null,
            "justify_items": null,
            "left": null,
            "margin": null,
            "max_height": null,
            "max_width": null,
            "min_height": null,
            "min_width": null,
            "object_fit": null,
            "object_position": null,
            "order": null,
            "overflow": null,
            "overflow_x": null,
            "overflow_y": null,
            "padding": null,
            "right": null,
            "top": null,
            "visibility": null,
            "width": null
          }
        },
        "39ca4aa61a344670954dbe9c8ae31176": {
          "model_module": "@jupyter-widgets/base",
          "model_module_version": "1.2.0",
          "model_name": "LayoutModel",
          "state": {
            "_model_module": "@jupyter-widgets/base",
            "_model_module_version": "1.2.0",
            "_model_name": "LayoutModel",
            "_view_count": null,
            "_view_module": "@jupyter-widgets/base",
            "_view_module_version": "1.2.0",
            "_view_name": "LayoutView",
            "align_content": null,
            "align_items": null,
            "align_self": null,
            "border": null,
            "bottom": null,
            "display": null,
            "flex": null,
            "flex_flow": null,
            "grid_area": null,
            "grid_auto_columns": null,
            "grid_auto_flow": null,
            "grid_auto_rows": null,
            "grid_column": null,
            "grid_gap": null,
            "grid_row": null,
            "grid_template_areas": null,
            "grid_template_columns": null,
            "grid_template_rows": null,
            "height": null,
            "justify_content": null,
            "justify_items": null,
            "left": null,
            "margin": null,
            "max_height": null,
            "max_width": null,
            "min_height": null,
            "min_width": null,
            "object_fit": null,
            "object_position": null,
            "order": null,
            "overflow": null,
            "overflow_x": null,
            "overflow_y": null,
            "padding": null,
            "right": null,
            "top": null,
            "visibility": null,
            "width": null
          }
        },
        "3e38e1286ca74052866dcd9163c4bf5d": {
          "model_module": "@jupyter-widgets/controls",
          "model_module_version": "1.5.0",
          "model_name": "HTMLModel",
          "state": {
            "_dom_classes": [],
            "_model_module": "@jupyter-widgets/controls",
            "_model_module_version": "1.5.0",
            "_model_name": "HTMLModel",
            "_view_count": null,
            "_view_module": "@jupyter-widgets/controls",
            "_view_module_version": "1.5.0",
            "_view_name": "HTMLView",
            "description": "",
            "description_tooltip": null,
            "layout": "IPY_MODEL_058908761fa246dea61ba456d906f2b7",
            "placeholder": "​",
            "style": "IPY_MODEL_2cef4d52fd3f495ebe3ec35d3567645a",
            "value": " 655k/655k [00:00&lt;00:00, 3.96MB/s]"
          }
        },
        "3fadcd0b6c0e46a2a85365e23147cc0d": {
          "model_module": "@jupyter-widgets/base",
          "model_module_version": "1.2.0",
          "model_name": "LayoutModel",
          "state": {
            "_model_module": "@jupyter-widgets/base",
            "_model_module_version": "1.2.0",
            "_model_name": "LayoutModel",
            "_view_count": null,
            "_view_module": "@jupyter-widgets/base",
            "_view_module_version": "1.2.0",
            "_view_name": "LayoutView",
            "align_content": null,
            "align_items": null,
            "align_self": null,
            "border": null,
            "bottom": null,
            "display": null,
            "flex": null,
            "flex_flow": null,
            "grid_area": null,
            "grid_auto_columns": null,
            "grid_auto_flow": null,
            "grid_auto_rows": null,
            "grid_column": null,
            "grid_gap": null,
            "grid_row": null,
            "grid_template_areas": null,
            "grid_template_columns": null,
            "grid_template_rows": null,
            "height": null,
            "justify_content": null,
            "justify_items": null,
            "left": null,
            "margin": null,
            "max_height": null,
            "max_width": null,
            "min_height": null,
            "min_width": null,
            "object_fit": null,
            "object_position": null,
            "order": null,
            "overflow": null,
            "overflow_x": null,
            "overflow_y": null,
            "padding": null,
            "right": null,
            "top": null,
            "visibility": null,
            "width": null
          }
        },
        "4459de47c7354b34be684b866d030d69": {
          "model_module": "@jupyter-widgets/base",
          "model_module_version": "1.2.0",
          "model_name": "LayoutModel",
          "state": {
            "_model_module": "@jupyter-widgets/base",
            "_model_module_version": "1.2.0",
            "_model_name": "LayoutModel",
            "_view_count": null,
            "_view_module": "@jupyter-widgets/base",
            "_view_module_version": "1.2.0",
            "_view_name": "LayoutView",
            "align_content": null,
            "align_items": null,
            "align_self": null,
            "border": null,
            "bottom": null,
            "display": null,
            "flex": null,
            "flex_flow": null,
            "grid_area": null,
            "grid_auto_columns": null,
            "grid_auto_flow": null,
            "grid_auto_rows": null,
            "grid_column": null,
            "grid_gap": null,
            "grid_row": null,
            "grid_template_areas": null,
            "grid_template_columns": null,
            "grid_template_rows": null,
            "height": null,
            "justify_content": null,
            "justify_items": null,
            "left": null,
            "margin": null,
            "max_height": null,
            "max_width": null,
            "min_height": null,
            "min_width": null,
            "object_fit": null,
            "object_position": null,
            "order": null,
            "overflow": null,
            "overflow_x": null,
            "overflow_y": null,
            "padding": null,
            "right": null,
            "top": null,
            "visibility": null,
            "width": null
          }
        },
        "48744597d9ab46919eb4dcb07e87220d": {
          "model_module": "@jupyter-widgets/controls",
          "model_module_version": "1.5.0",
          "model_name": "HBoxModel",
          "state": {
            "_dom_classes": [],
            "_model_module": "@jupyter-widgets/controls",
            "_model_module_version": "1.5.0",
            "_model_name": "HBoxModel",
            "_view_count": null,
            "_view_module": "@jupyter-widgets/controls",
            "_view_module_version": "1.5.0",
            "_view_name": "HBoxView",
            "box_style": "",
            "children": [
              "IPY_MODEL_27cc51404929439bb86fb8515b77dc9a",
              "IPY_MODEL_74dcf0c20bb148b399a422fcf7c1df0e",
              "IPY_MODEL_27c0ce5f9b5f4d18823dad81e7be742d"
            ],
            "layout": "IPY_MODEL_39ca4aa61a344670954dbe9c8ae31176"
          }
        },
        "5444467a50ca4b39ad48cb16fdc2b458": {
          "model_module": "@jupyter-widgets/controls",
          "model_module_version": "1.5.0",
          "model_name": "DescriptionStyleModel",
          "state": {
            "_model_module": "@jupyter-widgets/controls",
            "_model_module_version": "1.5.0",
            "_model_name": "DescriptionStyleModel",
            "_view_count": null,
            "_view_module": "@jupyter-widgets/base",
            "_view_module_version": "1.2.0",
            "_view_name": "StyleView",
            "description_width": ""
          }
        },
        "5820a425b1a14d9b90a3d7a895ee4744": {
          "model_module": "@jupyter-widgets/controls",
          "model_module_version": "1.5.0",
          "model_name": "DescriptionStyleModel",
          "state": {
            "_model_module": "@jupyter-widgets/controls",
            "_model_module_version": "1.5.0",
            "_model_name": "DescriptionStyleModel",
            "_view_count": null,
            "_view_module": "@jupyter-widgets/base",
            "_view_module_version": "1.2.0",
            "_view_name": "StyleView",
            "description_width": ""
          }
        },
        "58f4adbc450244dba12046c39d8df9a9": {
          "model_module": "@jupyter-widgets/base",
          "model_module_version": "1.2.0",
          "model_name": "LayoutModel",
          "state": {
            "_model_module": "@jupyter-widgets/base",
            "_model_module_version": "1.2.0",
            "_model_name": "LayoutModel",
            "_view_count": null,
            "_view_module": "@jupyter-widgets/base",
            "_view_module_version": "1.2.0",
            "_view_name": "LayoutView",
            "align_content": null,
            "align_items": null,
            "align_self": null,
            "border": null,
            "bottom": null,
            "display": null,
            "flex": null,
            "flex_flow": null,
            "grid_area": null,
            "grid_auto_columns": null,
            "grid_auto_flow": null,
            "grid_auto_rows": null,
            "grid_column": null,
            "grid_gap": null,
            "grid_row": null,
            "grid_template_areas": null,
            "grid_template_columns": null,
            "grid_template_rows": null,
            "height": null,
            "justify_content": null,
            "justify_items": null,
            "left": null,
            "margin": null,
            "max_height": null,
            "max_width": null,
            "min_height": null,
            "min_width": null,
            "object_fit": null,
            "object_position": null,
            "order": null,
            "overflow": null,
            "overflow_x": null,
            "overflow_y": null,
            "padding": null,
            "right": null,
            "top": null,
            "visibility": null,
            "width": null
          }
        },
        "59938e9e235e41c9b930a757d12eece7": {
          "model_module": "@jupyter-widgets/controls",
          "model_module_version": "1.5.0",
          "model_name": "HTMLModel",
          "state": {
            "_dom_classes": [],
            "_model_module": "@jupyter-widgets/controls",
            "_model_module_version": "1.5.0",
            "_model_name": "HTMLModel",
            "_view_count": null,
            "_view_module": "@jupyter-widgets/controls",
            "_view_module_version": "1.5.0",
            "_view_name": "HTMLView",
            "description": "",
            "description_tooltip": null,
            "layout": "IPY_MODEL_3fadcd0b6c0e46a2a85365e23147cc0d",
            "placeholder": "​",
            "style": "IPY_MODEL_e4a896f8a1d84627a00197081b91f5bb",
            "value": "tokenizer.json: 100%"
          }
        },
        "5a63cb46b12f445d8cc166f7366bd9a2": {
          "model_module": "@jupyter-widgets/controls",
          "model_module_version": "1.5.0",
          "model_name": "HBoxModel",
          "state": {
            "_dom_classes": [],
            "_model_module": "@jupyter-widgets/controls",
            "_model_module_version": "1.5.0",
            "_model_name": "HBoxModel",
            "_view_count": null,
            "_view_module": "@jupyter-widgets/controls",
            "_view_module_version": "1.5.0",
            "_view_name": "HBoxView",
            "box_style": "",
            "children": [
              "IPY_MODEL_ce4f2ec3e5354c8bb7af63a8efc29429",
              "IPY_MODEL_f63b6e8618b34ae7bd9cc5aaff9a834b",
              "IPY_MODEL_3e38e1286ca74052866dcd9163c4bf5d"
            ],
            "layout": "IPY_MODEL_d7af5783fee247a68bb828073be4a944"
          }
        },
        "64bd1a4e0627491d9803fb822ef04204": {
          "model_module": "@jupyter-widgets/base",
          "model_module_version": "1.2.0",
          "model_name": "LayoutModel",
          "state": {
            "_model_module": "@jupyter-widgets/base",
            "_model_module_version": "1.2.0",
            "_model_name": "LayoutModel",
            "_view_count": null,
            "_view_module": "@jupyter-widgets/base",
            "_view_module_version": "1.2.0",
            "_view_name": "LayoutView",
            "align_content": null,
            "align_items": null,
            "align_self": null,
            "border": null,
            "bottom": null,
            "display": null,
            "flex": null,
            "flex_flow": null,
            "grid_area": null,
            "grid_auto_columns": null,
            "grid_auto_flow": null,
            "grid_auto_rows": null,
            "grid_column": null,
            "grid_gap": null,
            "grid_row": null,
            "grid_template_areas": null,
            "grid_template_columns": null,
            "grid_template_rows": null,
            "height": null,
            "justify_content": null,
            "justify_items": null,
            "left": null,
            "margin": null,
            "max_height": null,
            "max_width": null,
            "min_height": null,
            "min_width": null,
            "object_fit": null,
            "object_position": null,
            "order": null,
            "overflow": null,
            "overflow_x": null,
            "overflow_y": null,
            "padding": null,
            "right": null,
            "top": null,
            "visibility": null,
            "width": null
          }
        },
        "74dcf0c20bb148b399a422fcf7c1df0e": {
          "model_module": "@jupyter-widgets/controls",
          "model_module_version": "1.5.0",
          "model_name": "FloatProgressModel",
          "state": {
            "_dom_classes": [],
            "_model_module": "@jupyter-widgets/controls",
            "_model_module_version": "1.5.0",
            "_model_name": "FloatProgressModel",
            "_view_count": null,
            "_view_module": "@jupyter-widgets/controls",
            "_view_module_version": "1.5.0",
            "_view_name": "ProgressView",
            "bar_style": "success",
            "description": "",
            "description_tooltip": null,
            "layout": "IPY_MODEL_054274cb76ac461cac61522705204728",
            "max": 850,
            "min": 0,
            "orientation": "horizontal",
            "style": "IPY_MODEL_9f8931438a974801a80f1f7a6c0924e6",
            "value": 850
          }
        },
        "750d74e621574f1ba572587ff0143804": {
          "model_module": "@jupyter-widgets/base",
          "model_module_version": "1.2.0",
          "model_name": "LayoutModel",
          "state": {
            "_model_module": "@jupyter-widgets/base",
            "_model_module_version": "1.2.0",
            "_model_name": "LayoutModel",
            "_view_count": null,
            "_view_module": "@jupyter-widgets/base",
            "_view_module_version": "1.2.0",
            "_view_name": "LayoutView",
            "align_content": null,
            "align_items": null,
            "align_self": null,
            "border": null,
            "bottom": null,
            "display": null,
            "flex": null,
            "flex_flow": null,
            "grid_area": null,
            "grid_auto_columns": null,
            "grid_auto_flow": null,
            "grid_auto_rows": null,
            "grid_column": null,
            "grid_gap": null,
            "grid_row": null,
            "grid_template_areas": null,
            "grid_template_columns": null,
            "grid_template_rows": null,
            "height": null,
            "justify_content": null,
            "justify_items": null,
            "left": null,
            "margin": null,
            "max_height": null,
            "max_width": null,
            "min_height": null,
            "min_width": null,
            "object_fit": null,
            "object_position": null,
            "order": null,
            "overflow": null,
            "overflow_x": null,
            "overflow_y": null,
            "padding": null,
            "right": null,
            "top": null,
            "visibility": null,
            "width": null
          }
        },
        "80daedebe4254b3da0c615c1cd9a36c4": {
          "model_module": "@jupyter-widgets/base",
          "model_module_version": "1.2.0",
          "model_name": "LayoutModel",
          "state": {
            "_model_module": "@jupyter-widgets/base",
            "_model_module_version": "1.2.0",
            "_model_name": "LayoutModel",
            "_view_count": null,
            "_view_module": "@jupyter-widgets/base",
            "_view_module_version": "1.2.0",
            "_view_name": "LayoutView",
            "align_content": null,
            "align_items": null,
            "align_self": null,
            "border": null,
            "bottom": null,
            "display": null,
            "flex": null,
            "flex_flow": null,
            "grid_area": null,
            "grid_auto_columns": null,
            "grid_auto_flow": null,
            "grid_auto_rows": null,
            "grid_column": null,
            "grid_gap": null,
            "grid_row": null,
            "grid_template_areas": null,
            "grid_template_columns": null,
            "grid_template_rows": null,
            "height": null,
            "justify_content": null,
            "justify_items": null,
            "left": null,
            "margin": null,
            "max_height": null,
            "max_width": null,
            "min_height": null,
            "min_width": null,
            "object_fit": null,
            "object_position": null,
            "order": null,
            "overflow": null,
            "overflow_x": null,
            "overflow_y": null,
            "padding": null,
            "right": null,
            "top": null,
            "visibility": null,
            "width": null
          }
        },
        "8210b254d6414005b90448a137b508b0": {
          "model_module": "@jupyter-widgets/controls",
          "model_module_version": "1.5.0",
          "model_name": "HBoxModel",
          "state": {
            "_dom_classes": [],
            "_model_module": "@jupyter-widgets/controls",
            "_model_module_version": "1.5.0",
            "_model_name": "HBoxModel",
            "_view_count": null,
            "_view_module": "@jupyter-widgets/controls",
            "_view_module_version": "1.5.0",
            "_view_name": "HBoxView",
            "box_style": "",
            "children": [
              "IPY_MODEL_1abf6e9db1c54408be085d254b5a24e3",
              "IPY_MODEL_ab65e3c1db974830a7ec2e5f3429aa20",
              "IPY_MODEL_882fb8f338bc45a398ba2edc6ca36b13"
            ],
            "layout": "IPY_MODEL_a0adf8d7d45247f993eb167ccb595126"
          }
        },
        "873f8920b7ba4b269404fa49ef006287": {
          "model_module": "@jupyter-widgets/controls",
          "model_module_version": "1.5.0",
          "model_name": "ProgressStyleModel",
          "state": {
            "_model_module": "@jupyter-widgets/controls",
            "_model_module_version": "1.5.0",
            "_model_name": "ProgressStyleModel",
            "_view_count": null,
            "_view_module": "@jupyter-widgets/base",
            "_view_module_version": "1.2.0",
            "_view_name": "StyleView",
            "bar_color": null,
            "description_width": ""
          }
        },
        "882fb8f338bc45a398ba2edc6ca36b13": {
          "model_module": "@jupyter-widgets/controls",
          "model_module_version": "1.5.0",
          "model_name": "HTMLModel",
          "state": {
            "_dom_classes": [],
            "_model_module": "@jupyter-widgets/controls",
            "_model_module_version": "1.5.0",
            "_model_name": "HTMLModel",
            "_view_count": null,
            "_view_module": "@jupyter-widgets/controls",
            "_view_module_version": "1.5.0",
            "_view_name": "HTMLView",
            "description": "",
            "description_tooltip": null,
            "layout": "IPY_MODEL_0f02912f0d2440848bc19c7c1c368ec8",
            "placeholder": "​",
            "style": "IPY_MODEL_b6a971f0bd5e47669cba7d06cb94799d",
            "value": " 3.13G/3.13G [00:24&lt;00:00, 49.4MB/s]"
          }
        },
        "8a67ef9d8d2c4a73b0190cfe4e18bde9": {
          "model_module": "@jupyter-widgets/controls",
          "model_module_version": "1.5.0",
          "model_name": "HTMLModel",
          "state": {
            "_dom_classes": [],
            "_model_module": "@jupyter-widgets/controls",
            "_model_module_version": "1.5.0",
            "_model_name": "HTMLModel",
            "_view_count": null,
            "_view_module": "@jupyter-widgets/controls",
            "_view_module_version": "1.5.0",
            "_view_name": "HTMLView",
            "description": "",
            "description_tooltip": null,
            "layout": "IPY_MODEL_58f4adbc450244dba12046c39d8df9a9",
            "placeholder": "​",
            "style": "IPY_MODEL_cd044f97b01a4e129444daeee8da8038",
            "value": "merges.txt: 100%"
          }
        },
        "8d9827651158432f9b722ef5e45c6ce5": {
          "model_module": "@jupyter-widgets/base",
          "model_module_version": "1.2.0",
          "model_name": "LayoutModel",
          "state": {
            "_model_module": "@jupyter-widgets/base",
            "_model_module_version": "1.2.0",
            "_model_name": "LayoutModel",
            "_view_count": null,
            "_view_module": "@jupyter-widgets/base",
            "_view_module_version": "1.2.0",
            "_view_name": "LayoutView",
            "align_content": null,
            "align_items": null,
            "align_self": null,
            "border": null,
            "bottom": null,
            "display": null,
            "flex": null,
            "flex_flow": null,
            "grid_area": null,
            "grid_auto_columns": null,
            "grid_auto_flow": null,
            "grid_auto_rows": null,
            "grid_column": null,
            "grid_gap": null,
            "grid_row": null,
            "grid_template_areas": null,
            "grid_template_columns": null,
            "grid_template_rows": null,
            "height": null,
            "justify_content": null,
            "justify_items": null,
            "left": null,
            "margin": null,
            "max_height": null,
            "max_width": null,
            "min_height": null,
            "min_width": null,
            "object_fit": null,
            "object_position": null,
            "order": null,
            "overflow": null,
            "overflow_x": null,
            "overflow_y": null,
            "padding": null,
            "right": null,
            "top": null,
            "visibility": null,
            "width": null
          }
        },
        "8fdcee832cd94527a8ea685cfb8833f3": {
          "model_module": "@jupyter-widgets/controls",
          "model_module_version": "1.5.0",
          "model_name": "HBoxModel",
          "state": {
            "_dom_classes": [],
            "_model_module": "@jupyter-widgets/controls",
            "_model_module_version": "1.5.0",
            "_model_name": "HBoxModel",
            "_view_count": null,
            "_view_module": "@jupyter-widgets/controls",
            "_view_module_version": "1.5.0",
            "_view_name": "HBoxView",
            "box_style": "",
            "children": [
              "IPY_MODEL_59938e9e235e41c9b930a757d12eece7",
              "IPY_MODEL_e4baa69e1aa94d959ac7d976763d3396",
              "IPY_MODEL_9668c224ff4f48cb875673d792c0f085"
            ],
            "layout": "IPY_MODEL_254886ccc2ae40d1b942e09dc97d676f"
          }
        },
        "9090769a979f49a48c89daa395f6343f": {
          "model_module": "@jupyter-widgets/controls",
          "model_module_version": "1.5.0",
          "model_name": "ProgressStyleModel",
          "state": {
            "_model_module": "@jupyter-widgets/controls",
            "_model_module_version": "1.5.0",
            "_model_name": "ProgressStyleModel",
            "_view_count": null,
            "_view_module": "@jupyter-widgets/base",
            "_view_module_version": "1.2.0",
            "_view_name": "StyleView",
            "bar_color": null,
            "description_width": ""
          }
        },
        "9668c224ff4f48cb875673d792c0f085": {
          "model_module": "@jupyter-widgets/controls",
          "model_module_version": "1.5.0",
          "model_name": "HTMLModel",
          "state": {
            "_dom_classes": [],
            "_model_module": "@jupyter-widgets/controls",
            "_model_module_version": "1.5.0",
            "_model_name": "HTMLModel",
            "_view_count": null,
            "_view_module": "@jupyter-widgets/controls",
            "_view_module_version": "1.5.0",
            "_view_name": "HTMLView",
            "description": "",
            "description_tooltip": null,
            "layout": "IPY_MODEL_20030598aa014bb7ad9a4b030c1435df",
            "placeholder": "​",
            "style": "IPY_MODEL_a758fcf9ba444c6aba2d763fa1a65307",
            "value": " 1.07M/1.07M [00:00&lt;00:00, 6.34MB/s]"
          }
        },
        "9f8931438a974801a80f1f7a6c0924e6": {
          "model_module": "@jupyter-widgets/controls",
          "model_module_version": "1.5.0",
          "model_name": "ProgressStyleModel",
          "state": {
            "_model_module": "@jupyter-widgets/controls",
            "_model_module_version": "1.5.0",
            "_model_name": "ProgressStyleModel",
            "_view_count": null,
            "_view_module": "@jupyter-widgets/base",
            "_view_module_version": "1.2.0",
            "_view_name": "StyleView",
            "bar_color": null,
            "description_width": ""
          }
        },
        "a0adf8d7d45247f993eb167ccb595126": {
          "model_module": "@jupyter-widgets/base",
          "model_module_version": "1.2.0",
          "model_name": "LayoutModel",
          "state": {
            "_model_module": "@jupyter-widgets/base",
            "_model_module_version": "1.2.0",
            "_model_name": "LayoutModel",
            "_view_count": null,
            "_view_module": "@jupyter-widgets/base",
            "_view_module_version": "1.2.0",
            "_view_name": "LayoutView",
            "align_content": null,
            "align_items": null,
            "align_self": null,
            "border": null,
            "bottom": null,
            "display": null,
            "flex": null,
            "flex_flow": null,
            "grid_area": null,
            "grid_auto_columns": null,
            "grid_auto_flow": null,
            "grid_auto_rows": null,
            "grid_column": null,
            "grid_gap": null,
            "grid_row": null,
            "grid_template_areas": null,
            "grid_template_columns": null,
            "grid_template_rows": null,
            "height": null,
            "justify_content": null,
            "justify_items": null,
            "left": null,
            "margin": null,
            "max_height": null,
            "max_width": null,
            "min_height": null,
            "min_width": null,
            "object_fit": null,
            "object_position": null,
            "order": null,
            "overflow": null,
            "overflow_x": null,
            "overflow_y": null,
            "padding": null,
            "right": null,
            "top": null,
            "visibility": null,
            "width": null
          }
        },
        "a423a6fab7d541cd9cd7b654ecda7ee9": {
          "model_module": "@jupyter-widgets/base",
          "model_module_version": "1.2.0",
          "model_name": "LayoutModel",
          "state": {
            "_model_module": "@jupyter-widgets/base",
            "_model_module_version": "1.2.0",
            "_model_name": "LayoutModel",
            "_view_count": null,
            "_view_module": "@jupyter-widgets/base",
            "_view_module_version": "1.2.0",
            "_view_name": "LayoutView",
            "align_content": null,
            "align_items": null,
            "align_self": null,
            "border": null,
            "bottom": null,
            "display": null,
            "flex": null,
            "flex_flow": null,
            "grid_area": null,
            "grid_auto_columns": null,
            "grid_auto_flow": null,
            "grid_auto_rows": null,
            "grid_column": null,
            "grid_gap": null,
            "grid_row": null,
            "grid_template_areas": null,
            "grid_template_columns": null,
            "grid_template_rows": null,
            "height": null,
            "justify_content": null,
            "justify_items": null,
            "left": null,
            "margin": null,
            "max_height": null,
            "max_width": null,
            "min_height": null,
            "min_width": null,
            "object_fit": null,
            "object_position": null,
            "order": null,
            "overflow": null,
            "overflow_x": null,
            "overflow_y": null,
            "padding": null,
            "right": null,
            "top": null,
            "visibility": null,
            "width": null
          }
        },
        "a758fcf9ba444c6aba2d763fa1a65307": {
          "model_module": "@jupyter-widgets/controls",
          "model_module_version": "1.5.0",
          "model_name": "DescriptionStyleModel",
          "state": {
            "_model_module": "@jupyter-widgets/controls",
            "_model_module_version": "1.5.0",
            "_model_name": "DescriptionStyleModel",
            "_view_count": null,
            "_view_module": "@jupyter-widgets/base",
            "_view_module_version": "1.2.0",
            "_view_name": "StyleView",
            "description_width": ""
          }
        },
        "a8216b88b0af4975b4e1e090a26e2b94": {
          "model_module": "@jupyter-widgets/controls",
          "model_module_version": "1.5.0",
          "model_name": "ProgressStyleModel",
          "state": {
            "_model_module": "@jupyter-widgets/controls",
            "_model_module_version": "1.5.0",
            "_model_name": "ProgressStyleModel",
            "_view_count": null,
            "_view_module": "@jupyter-widgets/base",
            "_view_module_version": "1.2.0",
            "_view_name": "StyleView",
            "bar_color": null,
            "description_width": ""
          }
        },
        "ab65e3c1db974830a7ec2e5f3429aa20": {
          "model_module": "@jupyter-widgets/controls",
          "model_module_version": "1.5.0",
          "model_name": "FloatProgressModel",
          "state": {
            "_dom_classes": [],
            "_model_module": "@jupyter-widgets/controls",
            "_model_module_version": "1.5.0",
            "_model_name": "FloatProgressModel",
            "_view_count": null,
            "_view_module": "@jupyter-widgets/controls",
            "_view_module_version": "1.5.0",
            "_view_name": "ProgressView",
            "bar_style": "success",
            "description": "",
            "description_tooltip": null,
            "layout": "IPY_MODEL_294266ba292f466ab3b362977426eacc",
            "max": 3134053001,
            "min": 0,
            "orientation": "horizontal",
            "style": "IPY_MODEL_19c126eef07942e995e2c23d11e3cbc2",
            "value": 3134053001
          }
        },
        "b5b36eecd2e34dcc934f492efea70b21": {
          "model_module": "@jupyter-widgets/base",
          "model_module_version": "1.2.0",
          "model_name": "LayoutModel",
          "state": {
            "_model_module": "@jupyter-widgets/base",
            "_model_module_version": "1.2.0",
            "_model_name": "LayoutModel",
            "_view_count": null,
            "_view_module": "@jupyter-widgets/base",
            "_view_module_version": "1.2.0",
            "_view_name": "LayoutView",
            "align_content": null,
            "align_items": null,
            "align_self": null,
            "border": null,
            "bottom": null,
            "display": null,
            "flex": null,
            "flex_flow": null,
            "grid_area": null,
            "grid_auto_columns": null,
            "grid_auto_flow": null,
            "grid_auto_rows": null,
            "grid_column": null,
            "grid_gap": null,
            "grid_row": null,
            "grid_template_areas": null,
            "grid_template_columns": null,
            "grid_template_rows": null,
            "height": null,
            "justify_content": null,
            "justify_items": null,
            "left": null,
            "margin": null,
            "max_height": null,
            "max_width": null,
            "min_height": null,
            "min_width": null,
            "object_fit": null,
            "object_position": null,
            "order": null,
            "overflow": null,
            "overflow_x": null,
            "overflow_y": null,
            "padding": null,
            "right": null,
            "top": null,
            "visibility": null,
            "width": null
          }
        },
        "b6a971f0bd5e47669cba7d06cb94799d": {
          "model_module": "@jupyter-widgets/controls",
          "model_module_version": "1.5.0",
          "model_name": "DescriptionStyleModel",
          "state": {
            "_model_module": "@jupyter-widgets/controls",
            "_model_module_version": "1.5.0",
            "_model_name": "DescriptionStyleModel",
            "_view_count": null,
            "_view_module": "@jupyter-widgets/base",
            "_view_module_version": "1.2.0",
            "_view_name": "StyleView",
            "description_width": ""
          }
        },
        "b6cf75c375e243e3a05f09d4fa1b9ee3": {
          "model_module": "@jupyter-widgets/controls",
          "model_module_version": "1.5.0",
          "model_name": "HTMLModel",
          "state": {
            "_dom_classes": [],
            "_model_module": "@jupyter-widgets/controls",
            "_model_module_version": "1.5.0",
            "_model_name": "HTMLModel",
            "_view_count": null,
            "_view_module": "@jupyter-widgets/controls",
            "_view_module_version": "1.5.0",
            "_view_name": "HTMLView",
            "description": "",
            "description_tooltip": null,
            "layout": "IPY_MODEL_eba3de2fa75743ddb806bc51c996e63b",
            "placeholder": "​",
            "style": "IPY_MODEL_182d27b4b9f54f5faa339edd4bdb84c3",
            "value": " 314k/314k [00:00&lt;00:00, 950kB/s]"
          }
        },
        "bac9daa7d3b14641b4052b047c122a88": {
          "model_module": "@jupyter-widgets/controls",
          "model_module_version": "1.5.0",
          "model_name": "FloatProgressModel",
          "state": {
            "_dom_classes": [],
            "_model_module": "@jupyter-widgets/controls",
            "_model_module_version": "1.5.0",
            "_model_name": "FloatProgressModel",
            "_view_count": null,
            "_view_module": "@jupyter-widgets/controls",
            "_view_module_version": "1.5.0",
            "_view_name": "ProgressView",
            "bar_style": "success",
            "description": "",
            "description_tooltip": null,
            "layout": "IPY_MODEL_750d74e621574f1ba572587ff0143804",
            "max": 313855,
            "min": 0,
            "orientation": "horizontal",
            "style": "IPY_MODEL_a8216b88b0af4975b4e1e090a26e2b94",
            "value": 313855
          }
        },
        "bc33c68f2a31431883d17e798e88a41d": {
          "model_module": "@jupyter-widgets/controls",
          "model_module_version": "1.5.0",
          "model_name": "FloatProgressModel",
          "state": {
            "_dom_classes": [],
            "_model_module": "@jupyter-widgets/controls",
            "_model_module_version": "1.5.0",
            "_model_name": "FloatProgressModel",
            "_view_count": null,
            "_view_module": "@jupyter-widgets/controls",
            "_view_module_version": "1.5.0",
            "_view_name": "ProgressView",
            "bar_style": "success",
            "description": "",
            "description_tooltip": null,
            "layout": "IPY_MODEL_fab415d4a3574062bb4b21d13961d970",
            "max": 357,
            "min": 0,
            "orientation": "horizontal",
            "style": "IPY_MODEL_9090769a979f49a48c89daa395f6343f",
            "value": 357
          }
        },
        "ca52ee5750874674bd5ebebe005feace": {
          "model_module": "@jupyter-widgets/controls",
          "model_module_version": "1.5.0",
          "model_name": "HTMLModel",
          "state": {
            "_dom_classes": [],
            "_model_module": "@jupyter-widgets/controls",
            "_model_module_version": "1.5.0",
            "_model_name": "HTMLModel",
            "_view_count": null,
            "_view_module": "@jupyter-widgets/controls",
            "_view_module_version": "1.5.0",
            "_view_name": "HTMLView",
            "description": "",
            "description_tooltip": null,
            "layout": "IPY_MODEL_80daedebe4254b3da0c615c1cd9a36c4",
            "placeholder": "​",
            "style": "IPY_MODEL_f1dfd1e5175242a2afc9adcc05263d77",
            "value": "special_tokens_map.json: 100%"
          }
        },
        "ca844b74a02d466bb0af70bcf624f7cb": {
          "model_module": "@jupyter-widgets/base",
          "model_module_version": "1.2.0",
          "model_name": "LayoutModel",
          "state": {
            "_model_module": "@jupyter-widgets/base",
            "_model_module_version": "1.2.0",
            "_model_name": "LayoutModel",
            "_view_count": null,
            "_view_module": "@jupyter-widgets/base",
            "_view_module_version": "1.2.0",
            "_view_name": "LayoutView",
            "align_content": null,
            "align_items": null,
            "align_self": null,
            "border": null,
            "bottom": null,
            "display": null,
            "flex": null,
            "flex_flow": null,
            "grid_area": null,
            "grid_auto_columns": null,
            "grid_auto_flow": null,
            "grid_auto_rows": null,
            "grid_column": null,
            "grid_gap": null,
            "grid_row": null,
            "grid_template_areas": null,
            "grid_template_columns": null,
            "grid_template_rows": null,
            "height": null,
            "justify_content": null,
            "justify_items": null,
            "left": null,
            "margin": null,
            "max_height": null,
            "max_width": null,
            "min_height": null,
            "min_width": null,
            "object_fit": null,
            "object_position": null,
            "order": null,
            "overflow": null,
            "overflow_x": null,
            "overflow_y": null,
            "padding": null,
            "right": null,
            "top": null,
            "visibility": null,
            "width": null
          }
        },
        "cd044f97b01a4e129444daeee8da8038": {
          "model_module": "@jupyter-widgets/controls",
          "model_module_version": "1.5.0",
          "model_name": "DescriptionStyleModel",
          "state": {
            "_model_module": "@jupyter-widgets/controls",
            "_model_module_version": "1.5.0",
            "_model_name": "DescriptionStyleModel",
            "_view_count": null,
            "_view_module": "@jupyter-widgets/base",
            "_view_module_version": "1.2.0",
            "_view_name": "StyleView",
            "description_width": ""
          }
        },
        "ce4f2ec3e5354c8bb7af63a8efc29429": {
          "model_module": "@jupyter-widgets/controls",
          "model_module_version": "1.5.0",
          "model_name": "HTMLModel",
          "state": {
            "_dom_classes": [],
            "_model_module": "@jupyter-widgets/controls",
            "_model_module_version": "1.5.0",
            "_model_name": "HTMLModel",
            "_view_count": null,
            "_view_module": "@jupyter-widgets/controls",
            "_view_module_version": "1.5.0",
            "_view_name": "HTMLView",
            "description": "",
            "description_tooltip": null,
            "layout": "IPY_MODEL_4459de47c7354b34be684b866d030d69",
            "placeholder": "​",
            "style": "IPY_MODEL_11036dfa0d8f41b2a140c5e1284d20c9",
            "value": "vocab.json: 100%"
          }
        },
        "d7af5783fee247a68bb828073be4a944": {
          "model_module": "@jupyter-widgets/base",
          "model_module_version": "1.2.0",
          "model_name": "LayoutModel",
          "state": {
            "_model_module": "@jupyter-widgets/base",
            "_model_module_version": "1.2.0",
            "_model_name": "LayoutModel",
            "_view_count": null,
            "_view_module": "@jupyter-widgets/base",
            "_view_module_version": "1.2.0",
            "_view_name": "LayoutView",
            "align_content": null,
            "align_items": null,
            "align_self": null,
            "border": null,
            "bottom": null,
            "display": null,
            "flex": null,
            "flex_flow": null,
            "grid_area": null,
            "grid_auto_columns": null,
            "grid_auto_flow": null,
            "grid_auto_rows": null,
            "grid_column": null,
            "grid_gap": null,
            "grid_row": null,
            "grid_template_areas": null,
            "grid_template_columns": null,
            "grid_template_rows": null,
            "height": null,
            "justify_content": null,
            "justify_items": null,
            "left": null,
            "margin": null,
            "max_height": null,
            "max_width": null,
            "min_height": null,
            "min_width": null,
            "object_fit": null,
            "object_position": null,
            "order": null,
            "overflow": null,
            "overflow_x": null,
            "overflow_y": null,
            "padding": null,
            "right": null,
            "top": null,
            "visibility": null,
            "width": null
          }
        },
        "e1aa59f8ddb549dfafb0863fcbc43c7a": {
          "model_module": "@jupyter-widgets/controls",
          "model_module_version": "1.5.0",
          "model_name": "HBoxModel",
          "state": {
            "_dom_classes": [],
            "_model_module": "@jupyter-widgets/controls",
            "_model_module_version": "1.5.0",
            "_model_name": "HBoxModel",
            "_view_count": null,
            "_view_module": "@jupyter-widgets/controls",
            "_view_module_version": "1.5.0",
            "_view_name": "HBoxView",
            "box_style": "",
            "children": [
              "IPY_MODEL_ca52ee5750874674bd5ebebe005feace",
              "IPY_MODEL_bc33c68f2a31431883d17e798e88a41d",
              "IPY_MODEL_f6a5e01ff92c4582b2f2535655ea51bf"
            ],
            "layout": "IPY_MODEL_3755fbc3a531466aa5ae2a09a13d0143"
          }
        },
        "e4a896f8a1d84627a00197081b91f5bb": {
          "model_module": "@jupyter-widgets/controls",
          "model_module_version": "1.5.0",
          "model_name": "DescriptionStyleModel",
          "state": {
            "_model_module": "@jupyter-widgets/controls",
            "_model_module_version": "1.5.0",
            "_model_name": "DescriptionStyleModel",
            "_view_count": null,
            "_view_module": "@jupyter-widgets/base",
            "_view_module_version": "1.2.0",
            "_view_name": "StyleView",
            "description_width": ""
          }
        },
        "e4baa69e1aa94d959ac7d976763d3396": {
          "model_module": "@jupyter-widgets/controls",
          "model_module_version": "1.5.0",
          "model_name": "FloatProgressModel",
          "state": {
            "_dom_classes": [],
            "_model_module": "@jupyter-widgets/controls",
            "_model_module_version": "1.5.0",
            "_model_name": "FloatProgressModel",
            "_view_count": null,
            "_view_module": "@jupyter-widgets/controls",
            "_view_module_version": "1.5.0",
            "_view_name": "ProgressView",
            "bar_style": "success",
            "description": "",
            "description_tooltip": null,
            "layout": "IPY_MODEL_ca844b74a02d466bb0af70bcf624f7cb",
            "max": 1069833,
            "min": 0,
            "orientation": "horizontal",
            "style": "IPY_MODEL_873f8920b7ba4b269404fa49ef006287",
            "value": 1069833
          }
        },
        "e4e7aabdb44343e0b5a6bf32fb15d829": {
          "model_module": "@jupyter-widgets/base",
          "model_module_version": "1.2.0",
          "model_name": "LayoutModel",
          "state": {
            "_model_module": "@jupyter-widgets/base",
            "_model_module_version": "1.2.0",
            "_model_name": "LayoutModel",
            "_view_count": null,
            "_view_module": "@jupyter-widgets/base",
            "_view_module_version": "1.2.0",
            "_view_name": "LayoutView",
            "align_content": null,
            "align_items": null,
            "align_self": null,
            "border": null,
            "bottom": null,
            "display": null,
            "flex": null,
            "flex_flow": null,
            "grid_area": null,
            "grid_auto_columns": null,
            "grid_auto_flow": null,
            "grid_auto_rows": null,
            "grid_column": null,
            "grid_gap": null,
            "grid_row": null,
            "grid_template_areas": null,
            "grid_template_columns": null,
            "grid_template_rows": null,
            "height": null,
            "justify_content": null,
            "justify_items": null,
            "left": null,
            "margin": null,
            "max_height": null,
            "max_width": null,
            "min_height": null,
            "min_width": null,
            "object_fit": null,
            "object_position": null,
            "order": null,
            "overflow": null,
            "overflow_x": null,
            "overflow_y": null,
            "padding": null,
            "right": null,
            "top": null,
            "visibility": null,
            "width": null
          }
        },
        "e7db157030f44835a78fb5212c79c9a8": {
          "model_module": "@jupyter-widgets/controls",
          "model_module_version": "1.5.0",
          "model_name": "DescriptionStyleModel",
          "state": {
            "_model_module": "@jupyter-widgets/controls",
            "_model_module_version": "1.5.0",
            "_model_name": "DescriptionStyleModel",
            "_view_count": null,
            "_view_module": "@jupyter-widgets/base",
            "_view_module_version": "1.2.0",
            "_view_name": "StyleView",
            "description_width": ""
          }
        },
        "eba3de2fa75743ddb806bc51c996e63b": {
          "model_module": "@jupyter-widgets/base",
          "model_module_version": "1.2.0",
          "model_name": "LayoutModel",
          "state": {
            "_model_module": "@jupyter-widgets/base",
            "_model_module_version": "1.2.0",
            "_model_name": "LayoutModel",
            "_view_count": null,
            "_view_module": "@jupyter-widgets/base",
            "_view_module_version": "1.2.0",
            "_view_name": "LayoutView",
            "align_content": null,
            "align_items": null,
            "align_self": null,
            "border": null,
            "bottom": null,
            "display": null,
            "flex": null,
            "flex_flow": null,
            "grid_area": null,
            "grid_auto_columns": null,
            "grid_auto_flow": null,
            "grid_auto_rows": null,
            "grid_column": null,
            "grid_gap": null,
            "grid_row": null,
            "grid_template_areas": null,
            "grid_template_columns": null,
            "grid_template_rows": null,
            "height": null,
            "justify_content": null,
            "justify_items": null,
            "left": null,
            "margin": null,
            "max_height": null,
            "max_width": null,
            "min_height": null,
            "min_width": null,
            "object_fit": null,
            "object_position": null,
            "order": null,
            "overflow": null,
            "overflow_x": null,
            "overflow_y": null,
            "padding": null,
            "right": null,
            "top": null,
            "visibility": null,
            "width": null
          }
        },
        "ee23483cd09846c0aa8c296fd919f2a9": {
          "model_module": "@jupyter-widgets/controls",
          "model_module_version": "1.5.0",
          "model_name": "HBoxModel",
          "state": {
            "_dom_classes": [],
            "_model_module": "@jupyter-widgets/controls",
            "_model_module_version": "1.5.0",
            "_model_name": "HBoxModel",
            "_view_count": null,
            "_view_module": "@jupyter-widgets/controls",
            "_view_module_version": "1.5.0",
            "_view_name": "HBoxView",
            "box_style": "",
            "children": [
              "IPY_MODEL_8a67ef9d8d2c4a73b0190cfe4e18bde9",
              "IPY_MODEL_bac9daa7d3b14641b4052b047c122a88",
              "IPY_MODEL_b6cf75c375e243e3a05f09d4fa1b9ee3"
            ],
            "layout": "IPY_MODEL_e4e7aabdb44343e0b5a6bf32fb15d829"
          }
        },
        "f1dfd1e5175242a2afc9adcc05263d77": {
          "model_module": "@jupyter-widgets/controls",
          "model_module_version": "1.5.0",
          "model_name": "DescriptionStyleModel",
          "state": {
            "_model_module": "@jupyter-widgets/controls",
            "_model_module_version": "1.5.0",
            "_model_name": "DescriptionStyleModel",
            "_view_count": null,
            "_view_module": "@jupyter-widgets/base",
            "_view_module_version": "1.2.0",
            "_view_name": "StyleView",
            "description_width": ""
          }
        },
        "f63b6e8618b34ae7bd9cc5aaff9a834b": {
          "model_module": "@jupyter-widgets/controls",
          "model_module_version": "1.5.0",
          "model_name": "FloatProgressModel",
          "state": {
            "_dom_classes": [],
            "_model_module": "@jupyter-widgets/controls",
            "_model_module_version": "1.5.0",
            "_model_name": "FloatProgressModel",
            "_view_count": null,
            "_view_module": "@jupyter-widgets/controls",
            "_view_module_version": "1.5.0",
            "_view_name": "ProgressView",
            "bar_style": "success",
            "description": "",
            "description_tooltip": null,
            "layout": "IPY_MODEL_1b1ff77b05a3400680ef0b78b1101189",
            "max": 655440,
            "min": 0,
            "orientation": "horizontal",
            "style": "IPY_MODEL_1a5073d4297645f2be80da6bd8bd5c67",
            "value": 655440
          }
        },
        "f6a5e01ff92c4582b2f2535655ea51bf": {
          "model_module": "@jupyter-widgets/controls",
          "model_module_version": "1.5.0",
          "model_name": "HTMLModel",
          "state": {
            "_dom_classes": [],
            "_model_module": "@jupyter-widgets/controls",
            "_model_module_version": "1.5.0",
            "_model_name": "HTMLModel",
            "_view_count": null,
            "_view_module": "@jupyter-widgets/controls",
            "_view_module_version": "1.5.0",
            "_view_name": "HTMLView",
            "description": "",
            "description_tooltip": null,
            "layout": "IPY_MODEL_8d9827651158432f9b722ef5e45c6ce5",
            "placeholder": "​",
            "style": "IPY_MODEL_e7db157030f44835a78fb5212c79c9a8",
            "value": " 357/357 [00:00&lt;00:00, 17.6kB/s]"
          }
        },
        "fab415d4a3574062bb4b21d13961d970": {
          "model_module": "@jupyter-widgets/base",
          "model_module_version": "1.2.0",
          "model_name": "LayoutModel",
          "state": {
            "_model_module": "@jupyter-widgets/base",
            "_model_module_version": "1.2.0",
            "_model_name": "LayoutModel",
            "_view_count": null,
            "_view_module": "@jupyter-widgets/base",
            "_view_module_version": "1.2.0",
            "_view_name": "LayoutView",
            "align_content": null,
            "align_items": null,
            "align_self": null,
            "border": null,
            "bottom": null,
            "display": null,
            "flex": null,
            "flex_flow": null,
            "grid_area": null,
            "grid_auto_columns": null,
            "grid_auto_flow": null,
            "grid_auto_rows": null,
            "grid_column": null,
            "grid_gap": null,
            "grid_row": null,
            "grid_template_areas": null,
            "grid_template_columns": null,
            "grid_template_rows": null,
            "height": null,
            "justify_content": null,
            "justify_items": null,
            "left": null,
            "margin": null,
            "max_height": null,
            "max_width": null,
            "min_height": null,
            "min_width": null,
            "object_fit": null,
            "object_position": null,
            "order": null,
            "overflow": null,
            "overflow_x": null,
            "overflow_y": null,
            "padding": null,
            "right": null,
            "top": null,
            "visibility": null,
            "width": null
          }
        }
      }
    }
  },
  "nbformat": 4,
  "nbformat_minor": 0
}