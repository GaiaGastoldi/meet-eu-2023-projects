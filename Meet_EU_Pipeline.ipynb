{
 "cells": [
  {
   "cell_type": "markdown",
   "id": "c1110f3e",
   "metadata": {},
   "source": [
    "# MEET-EU 2023/2024\n",
    "\n",
    "### Henri Guilhon, Lorenzo Ballestra, Mathys Delattre, Quentin Despretz"
   ]
  },
  {
   "cell_type": "markdown",
   "id": "de23fc4f",
   "metadata": {},
   "source": [
    "The aim of our project was to train a Graph Convolutional Network on the docking of selected ligands.\n",
    "To prepare our data, we used Autodock Vina to obtain multiple affinity score of the docking of every ligand on the ATP pocket of the {name of enzyme}.\n",
    "\n",
    "Our project strongly depend on a dataset wich was given to us :\n",
    "explain dataset"
   ]
  },
  {
   "cell_type": "markdown",
   "id": "b3956b24",
   "metadata": {},
   "source": [
    "Every file we used is on the GitHub repository :\n",
    "- <pre>Data/datasets     : the folder containing the results of our pre-precessed data put into datasets.csv </pre>\n",
    "- <pre>Data/library      : the folder containing the source dataset with pre-selected potential ligands </pre>\n",
    "- <pre>Data/train_test   : the folder containing a save of the training and testing sets that were used for the    <pre>                 corresponding models </pre>\n",
    "- <pre>Models/           : the folder containing a save of every model we trained</pre>\n",
    "- <pre>GCN.py            : the file countaining the functions related to the Graph Convolutional Network</pre>"
   ]
  },
  {
   "cell_type": "markdown",
   "id": "2a9fce2b",
   "metadata": {},
   "source": [
    "The aim of this Notebook is to implement the Graph Convolutional Network that we made on given data.\n",
    "The data comes from {specifier dataset} "
   ]
  },
  {
   "cell_type": "markdown",
   "id": "abbaeb7e",
   "metadata": {},
   "source": [
    "## 0 - Imports"
   ]
  },
  {
   "cell_type": "code",
   "execution_count": 19,
   "id": "4e689ab6",
   "metadata": {},
   "outputs": [],
   "source": [
    "import pandas as pd\n",
    "import numpy as np\n",
    "\n",
    "#Model and useful functions\n",
    "from GCN import *\n",
    "\n",
    "#Deep Learning libraries\n",
    "from torch import nn, optim\n",
    "from torch_geometric.loader import DataLoader\n",
    "\n",
    "#Data visualization\n",
    "import matplotlib.pyplot as plt\n",
    "import seaborn as sns\n",
    "\n",
    "#Split data into train and test sets\n",
    "from sklearn.model_selection import train_test_split"
   ]
  },
  {
   "cell_type": "code",
   "execution_count": 6,
   "id": "487d9d09",
   "metadata": {},
   "outputs": [],
   "source": [
    "DATASETS_PATH  = \"./Data/datasets/\"   #the path where the full preprocessed datasets are stored\n",
    "MODELS_PATH    = \"./Models/\"            #the path where the models' parameters are stored\n",
    "TRAINTEST_PATH = \"./Data/train_test/\"  #the path where the corresponding train and test datasets are stored\n",
    "LIBRARY_PATH   = \"./Data/library/\""
   ]
  },
  {
   "cell_type": "markdown",
   "id": "6f3bec72",
   "metadata": {},
   "source": [
    "## I - Import the data"
   ]
  },
  {
   "cell_type": "code",
   "execution_count": 11,
   "id": "78325a3e",
   "metadata": {},
   "outputs": [],
   "source": [
    "#The file where we saved the ligands where we predicted 9 conformations (and took the best one)\n",
    "#NB : We used this file for the training/test of the model and ignored conformations.\n",
    "file_9 = DATASETS_PATH + \"Data_Vina_9.csv\"\n",
    "\n",
    "#The file where we saved the ligands where we predicted 9 conformations (and took the best one)\n",
    "#NB : We used this file afterwards to assess our model's reliability\n",
    "file_20 = DATASETS_PATH + \"Data_Vina_20.csv\"\n",
    "\n",
    "#Import the data as DataFrames\n",
    "data_9  = pd.read_csv(file_9)\n",
    "data_20 = pd.read_csv(file_20)"
   ]
  },
  {
   "cell_type": "markdown",
   "id": "d372efe7",
   "metadata": {},
   "source": [
    "## II - Import the GCN Model\n",
    "We have already trained the model, thus we only need to import its parameters.\n",
    "If you want to train a model we added a section at the end of this notebook\n",
    "##### II.a) Initiate Model, Loss and Optimizer\n",
    "Note that each model to import has its own specific parameters, see in the readme for more information. "
   ]
  },
  {
   "cell_type": "code",
   "execution_count": 12,
   "id": "5f8e26f3",
   "metadata": {},
   "outputs": [],
   "source": [
    "nimputs = 4   #number of features per atome, see 'atom_features' function in GCN.py\n",
    "nlayer1 = 16  #number of weights in each Convolutional layer\n",
    "nlayer2 = 32  #                \"        \"\n",
    "nlayer3 = 8   #                \"        \"\n",
    "\n",
    "#Creation of the Model\n",
    "Model   =  GCN(nimputs,nlayer1,nlayer2,nlayer3)\n",
    "\n",
    "#Creation of the Loss Function\n",
    "Loss_fn = nn.MSELoss() #Mean Square Error"
   ]
  },
  {
   "cell_type": "markdown",
   "id": "f068f729",
   "metadata": {},
   "source": [
    "##### II.b) Load the trained model's parameters\n",
    "Models's name format : \"model_type_split_batch_hydrogen.pth\"\n",
    "\n",
    "types : \n",
    "- 9       : the data came from the datasets where we took the best affinity from 9 docked conformations  \n",
    "- 20      : the data came from the datasets where we took the best affinity from 20 docked conformations\n",
    "- catconf : the data came from the dataset where we took into account the \"pocket occupation\" to choose the conformation docked\n",
    "\n",
    "split :\n",
    "- 0.3 : The data were split with a fraction of 0.3 for the test data\n",
    "\n",
    "batch :\n",
    "- nobatch : We did not make any batch\n",
    "- 32: We took a batch size of 32\n",
    "- 16: We took a batch size of 16\n",
    "\n",
    "hydrogen :\n",
    "- addhs : We added hydrogens to the graphs\n",
    "- noH : We did not add hydrogens to the graphs"
   ]
  },
  {
   "cell_type": "code",
   "execution_count": 16,
   "id": "d6ea6691",
   "metadata": {},
   "outputs": [
    {
     "data": {
      "text/plain": [
       "<All keys matched successfully>"
      ]
     },
     "execution_count": 16,
     "metadata": {},
     "output_type": "execute_result"
    }
   ],
   "source": [
    "\n",
    "MODEL       = \"model_9_0.3_nobatch_addhs.pth\"   #the model you want to load\n",
    "ADDHS       = True                                    #if the model has \"noH\" in its name, then put this to false. \n",
    "                                                      #If it has \"addhs\" put this to True.\n",
    "\n",
    "Model.load_state_dict(torch.load(MODELS_PATH+MODEL))  #Load the parameters"
   ]
  },
  {
   "cell_type": "markdown",
   "id": "4efc767d",
   "metadata": {},
   "source": [
    "##### II.c) Load the corresponding train and test data"
   ]
  },
  {
   "cell_type": "code",
   "execution_count": 17,
   "id": "eef73058",
   "metadata": {},
   "outputs": [],
   "source": [
    "#Recover the train and test dataset we used to evaluate the model properly\n",
    "data_train = pd.read_csv(TRAINTEST_PATH + MODEL + \"_train.csv\")\n",
    "data_test  = pd.read_csv(TRAINTEST_PATH + MODEL + \"_test.csv\")"
   ]
  },
  {
   "cell_type": "markdown",
   "id": "9daf7076",
   "metadata": {},
   "source": [
    "## III - Test the model's performance"
   ]
  },
  {
   "cell_type": "code",
   "execution_count": 18,
   "id": "df048391",
   "metadata": {},
   "outputs": [
    {
     "name": "stdout",
     "output_type": "stream",
     "text": [
      "Train Mean Squared Error :  tensor(0.1709)\n",
      "Test Mean Squared Error  :  tensor(0.1715)\n"
     ]
    }
   ],
   "source": [
    "#Convert the data to a list of graphs, a graph is a torch_geometric.data.Data object\n",
    "graphs_train = df_to_graphs(data_train, KnownScores=True, addHs = ADDHS)\n",
    "graphs_test  = df_to_graphs(data_test, KnownScores=True, addHs = ADDHS)\n",
    "\n",
    "#Fill every graph in a loader\n",
    "loader_train = DataLoader(graphs_train, batch_size=len(graphs_train), shuffle=False) #Shuffle to false\n",
    "loader_test  = DataLoader(graphs_test , batch_size=len(graphs_test),  shuffle=False)\n",
    "\n",
    "#Predict on the train dataset \n",
    "with torch.no_grad() :\n",
    "    for data in loader_train :               # only way to get the loader\n",
    "        y_pred_train = Model(data).flatten() # make it a vector\n",
    "        y_val_train  = data.target\n",
    "        print(\"Train Mean Squared Error : \", Loss_fn(y_pred_train, y_val_train))\n",
    "        \n",
    "#Predict on the test dataset \n",
    "with torch.no_grad() :\n",
    "    for data in loader_test :               \n",
    "        y_pred_test = Model(data).flatten() \n",
    "        y_val_test  = data.target\n",
    "        print(\"Test Mean Squared Error  : \", Loss_fn(y_pred_test, y_val_test))\n"
   ]
  },
  {
   "cell_type": "markdown",
   "id": "8c055285",
   "metadata": {},
   "source": [
    "## IV - Check if the best predicted ligands are also the ground truth best \n",
    "To do so we tried to sort the affinities scores that we predicted from best to worst. We did the same on the validation data and checked if the molecules were set in the same order. If they are, it would allow to pick the top predicted molecules to find the best possible ligands."
   ]
  },
  {
   "cell_type": "code",
   "execution_count": 36,
   "id": "413fe574",
   "metadata": {},
   "outputs": [
    {
     "name": "stdout",
     "output_type": "stream",
     "text": [
      "Mean Squared Error  :  tensor(0.2081)\n"
     ]
    }
   ],
   "source": [
    "#Same steps on the data_20 dataset\n",
    "graphs_20 = df_to_graphs(data_20, KnownScores=True, addHs = ADDHS)\n",
    "loader_20 = DataLoader(graphs_20, batch_size=len(graphs_20), shuffle=False) \n",
    "\n",
    "with torch.no_grad() :\n",
    "    for data in loader_20 :               \n",
    "        y_pred_20 = Model(data).flatten() \n",
    "        y_val_20  = data.target\n",
    "        print(\"Mean Squared Error  : \", Loss_fn(y_pred_20, y_val_20))\n",
    "\n",
    "data_20[\"pred\"] = y_pred_20"
   ]
  },
  {
   "cell_type": "code",
   "execution_count": 27,
   "id": "ea06e71d",
   "metadata": {},
   "outputs": [
    {
     "data": {
      "text/plain": [
       "Text(0.5, 1.0, 'Relationship between\\n predicted and docking affinity')"
      ]
     },
     "execution_count": 27,
     "metadata": {},
     "output_type": "execute_result"
    },
    {
     "data": {
      "image/png": "[encoded data removed]",
      "text/plain": [
       "<Figure size 640x480 with 1 Axes>"
      ]
     },
     "metadata": {},
     "output_type": "display_data"
    }
   ],
   "source": [
    "#Plot the relationship between predicted and ground truth affinity on the data_20 dataset\n",
    "plt.scatter(data_20[\"Affinity\"], data_20[\"pred\"])\n",
    "plt.plot(np.arange(-9,-5,1), np.arange(-9,-5,1), color='r')\n",
    "plt.xlabel(\"True affinity\")\n",
    "plt.ylabel(\"Predicted affinity\")\n",
    "plt.title(\"Relationship between\\n predicted and docking affinity\")"
   ]
  },
  {
   "cell_type": "code",
   "execution_count": 29,
   "id": "1254d3d2",
   "metadata": {},
   "outputs": [
    {
     "name": "stdout",
     "output_type": "stream",
     "text": [
      "Standard deviation of predicted affinities = 0.48809183\n",
      "Standard deviation of docking affinities = 0.6595620629649959\n",
      "Mean of predicted affinities = -7.270136\n",
      "Mean of docking affinities = -7.303228070175439\n"
     ]
    },
    {
     "data": {
      "image/png": "[encoded data removed]",
      "text/plain": [
       "<Figure size 640x480 with 1 Axes>"
      ]
     },
     "metadata": {},
     "output_type": "display_data"
    }
   ],
   "source": [
    "#Plot the relationship distribution of predicted and true affinity on the data_20 dataset\n",
    "min_value = min(data_20[\"Affinity\"].min(), data_20[\"pred\"].min())\n",
    "max_value = max(data_20[\"Affinity\"].max(), data_20[\"pred\"].max())\n",
    "bins = np.linspace(min_value, max_value, 50)\n",
    "\n",
    "sns.histplot(data_20[\"pred\"], bins=bins, color='blue', alpha=0.5, label=\"Predicted affinity\")\n",
    "sns.histplot(data_20[\"Affinity\"], bins=bins, color='orange', alpha=0.5, label=\"Docking affinity\")\n",
    "\n",
    "plt.legend()\n",
    "plt.ylabel(\"Count\")\n",
    "plt.xlabel(\"Affinity score\")\n",
    "plt.title(\"Distribution of the predicted and docking affinities\")\n",
    "\n",
    "pred_std = data_20[\"pred\"].std()\n",
    "dock_std = data_20[\"Affinity\"].std()\n",
    "pred_mean = data_20[\"pred\"].mean()\n",
    "dock_mean = data_20[\"Affinity\"].mean()\n",
    "\n",
    "print(\"Standard deviation of predicted affinities\", \"=\", pred_std)\n",
    "print(\"Standard deviation of docking affinities\", \"=\", dock_std)\n",
    "print(\"Mean of predicted affinities\", \"=\", pred_mean)\n",
    "print(\"Mean of docking affinities\", \"=\", dock_mean)"
   ]
  },
  {
   "cell_type": "code",
   "execution_count": 56,
   "id": "e397d597",
   "metadata": {},
   "outputs": [
    {
     "name": "stdout",
     "output_type": "stream",
     "text": [
      "76.89035087719299\n"
     ]
    }
   ],
   "source": [
    "#Predict the average gap between the predicted and true prosition of the molecule's score \n",
    "sorted_pred = data_20.sort_values(\"pred\")\n",
    "sorted_docked = data_20.sort_values(\"Affinity\")\n",
    "sorted_pred[\"indexes\"] = np.arange(0, len(sorted_pred))\n",
    "sorted_docked[\"indexes\"] = np.arange(0, len(sorted_docked))\n",
    "\n",
    "total_error = 0\n",
    "\n",
    "for eos in data_20[\"EOS\"]:\n",
    "    line_pred = sorted_pred[sorted_pred[\"EOS\"]==eos]\n",
    "    line_dock = sorted_docked[sorted_docked[\"EOS\"]==eos]\n",
    "    total_error += int(np.abs(line_pred[\"indexes\"].iloc[0]-line_dock[\"indexes\"].iloc[0]))\n",
    "    \n",
    "print(total_error/len(sorted_pred))"
   ]
  },
  {
   "cell_type": "code",
   "execution_count": 57,
   "id": "2b0d7f70",
   "metadata": {},
   "outputs": [
    {
     "data": {
      "text/plain": [
       "Text(0.5, 1.0, 'Relative error position\\nbetween docking and prediction')"
      ]
     },
     "execution_count": 57,
     "metadata": {},
     "output_type": "execute_result"
    },
    {
     "data": {
      "image/png": "[encoded data removed]",
      "text/plain": [
       "<Figure size 640x480 with 1 Axes>"
      ]
     },
     "metadata": {},
     "output_type": "display_data"
    }
   ],
   "source": [
    "#Try to see if most of the predicted ligands are close to their true place\n",
    "error = []\n",
    "line = sorted_pred[sorted_pred[\"EOS\"]==eos]\n",
    "\n",
    "for eos in data_20[\"EOS\"]:\n",
    "    line_pred = sorted_pred[sorted_pred[\"EOS\"]==eos]\n",
    "    line_dock = sorted_docked[sorted_docked[\"EOS\"]==eos]\n",
    "    error.append(int(np.abs(line_pred[\"indexes\"].iloc[0]-line_dock[\"indexes\"].iloc[0])))\n",
    "    \n",
    "\n",
    "sns.histplot(error)\n",
    "plt.xlabel(\"Relative error position\")\n",
    "plt.title(\"Relative error position\\nbetween docking and prediction\")"
   ]
  },
  {
   "cell_type": "markdown",
   "id": "b5fd57fa",
   "metadata": {},
   "source": [
    "## V - Predict the most promising ligands on the source complete dataset\n",
    "Now we will try our algorithm on all of the data (containing docked and non docked molecules)."
   ]
  },
  {
   "cell_type": "code",
   "execution_count": 40,
   "id": "b9045710",
   "metadata": {},
   "outputs": [],
   "source": [
    "# creating dataframe from the pilot library\n",
    "data_Full = pd.read_csv(LIBRARY_PATH + \"pilot_library.csv\")\n",
    "data_Full.rename(columns={'smiles': 'Smile'}, inplace=True)\n",
    "data_Full.rename(columns={'eos': 'EOS'}, inplace=True)\n",
    "\n",
    "# creating the list of graphs\n",
    "graphs_Full = df_to_graphs(data_Full,KnownScores=False, addHs = True) #Turns knownscores to False\n",
    "loader_Full = DataLoader(graphs_Full, batch_size=len(graphs_Full),  shuffle=False) #important shuffle = false\n",
    "\n",
    "with torch.no_grad() :\n",
    "    for data in loader_Full :\n",
    "        y_pred_Full = Model(data).flatten()"
   ]
  },
  {
   "cell_type": "code",
   "execution_count": 46,
   "id": "1b5ae802",
   "metadata": {},
   "outputs": [
    {
     "name": "stdout",
     "output_type": "stream",
     "text": [
      "The promising ligands are :  ['EOS101357' 'EOS102307' 'EOS101186' 'EOS100233' 'EOS101072' 'EOS100046'\n",
      " 'EOS1354' 'EOS101472' 'EOS93' 'EOS1195' 'EOS100814' 'EOS101803' 'EOS1389'\n",
      " 'EOS100245' 'EOS264' 'EOS100811' 'EOS1824' 'EOS100687' 'EOS101096'\n",
      " 'EOS98622']\n"
     ]
    }
   ],
   "source": [
    "score20 = y_pred_Full.sort()[0][:20]\n",
    "id20 = y_pred_Full.sort()[1][:20]\n",
    "\n",
    "eos = data_Full[\"EOS\"].values[id20]\n",
    "\n",
    "#The predicted promising ligands\n",
    "print(\"The promising ligands are : \", eos)"
   ]
  },
  {
   "cell_type": "markdown",
   "id": "4613ce5f",
   "metadata": {},
   "source": [
    "After that we docked those ligands to see if their affinity scores were interesting. We obtained the following results :"
   ]
  },
  {
   "cell_type": "code",
   "execution_count": 49,
   "id": "65faeab0",
   "metadata": {},
   "outputs": [
    {
     "name": "stdout",
     "output_type": "stream",
     "text": [
      "Validation scores : tensor([ -9.6310,  -7.5070,  -6.5590,  -8.0480,  -8.5130,  -8.0830,  -9.2470,\n",
      "        -10.1800,  -7.5600,  -8.0260,  -8.7800,  -7.9930,  -7.3040,  -7.7080,\n",
      "         -8.1890,  -8.4500])\n",
      "tensor(-8.2361)\n"
     ]
    }
   ],
   "source": [
    "#NB : Four ligands were not successfully docked so we only have 16 scores.\n",
    "VALIDATION = torch.tensor([-9.631, -7.507, -6.559, -8.048, -8.513,-8.083,-9.247,-10.18,-7.56 ,-8.026,-8.78,-7.993,-7.304,-7.708,-8.189,-8.45 ])\n",
    "print(\"Validation scores :\", VALIDATION)\n",
    "print(VALIDATION.mean())\n"
   ]
  },
  {
   "cell_type": "markdown",
   "id": "858b84e6",
   "metadata": {},
   "source": [
    "## Bonus - Train the Model\n"
   ]
  },
  {
   "cell_type": "code",
   "execution_count": 50,
   "id": "0255ccf3",
   "metadata": {},
   "outputs": [],
   "source": [
    "SIZEBATCH = 1000       #Size of one batch in DataLoader, 1000 means no batch\n",
    "LEARNING_RATE = 0.001  #learning rate\n",
    "ADDHS = True           #Whether or not to add hydrogens to the molecule"
   ]
  },
  {
   "cell_type": "markdown",
   "id": "bfd7699f",
   "metadata": {},
   "source": [
    "#### B.a) Import the data"
   ]
  },
  {
   "cell_type": "code",
   "execution_count": 51,
   "id": "189d4510",
   "metadata": {},
   "outputs": [],
   "source": [
    "#The file where we saved the ligands where we predicted 9 conformations (and took the best one)\n",
    "file_9 = DATASETS_PATH + \"Data_Vina_9.csv\"\n",
    "\n",
    "#Import the data as DataFrames\n",
    "data_9  = pd.read_csv(file_9)\n",
    "\n",
    "#We separate our dataset between the trained and non trained data\n",
    "data_train, data_test = train_test_split(data_9,test_size=0.3 )\n",
    "data_train = data_train.reset_index(drop=True)\n",
    "data_test  = data_test.reset_index(drop=True)\n",
    "\n",
    "#Convert the data to a list of graphs, a graph is a torch_geometric.data.Data object\n",
    "graphs_train = df_to_graphs(data_train, KnownScores=True, addHs = ADDHS) \n",
    "graphs_test  = df_to_graphs(data_test, KnownScores=True, addHs = ADDHS)\n",
    "\n",
    "#Fill every graph in a loader        NB : Loader impairs speed of learning\n",
    "loader_train = DataLoader(graphs_train, batch_size=SIZEBATCH, shuffle=True) \n",
    "loader_test  = DataLoader(graphs_test , batch_size=len(graphs_test),  shuffle=True) "
   ]
  },
  {
   "cell_type": "markdown",
   "id": "105441d4",
   "metadata": {},
   "source": [
    "#### B.b) Creation of the model"
   ]
  },
  {
   "cell_type": "code",
   "execution_count": 52,
   "id": "9a0157c2",
   "metadata": {},
   "outputs": [],
   "source": [
    "#Creation of the Model\n",
    "Model   =  GCN(4,16,32,8)\n",
    "\n",
    "#Creation of the Loss Function\n",
    "Loss_fn = nn.MSELoss() #Mean Square Error\n",
    "\n",
    "#Creation of the Optimizer\n",
    "Optimizer = optim.Adam(Model.parameters(), lr=LEARNING_RATE) "
   ]
  },
  {
   "cell_type": "code",
   "execution_count": 53,
   "id": "cd973c12",
   "metadata": {},
   "outputs": [],
   "source": [
    "# If necessary : load a model\n",
    "\n",
    "#MODEL = \"model_9_0.3_nobatch_addHs.pth\"  #the model you want to load\n",
    "#Model.load_state_dict(torch.load(MODELS_PATH+MODEL))\n",
    "\n",
    "#Be sure to always have the same train and test sets\n",
    "#data_train = pd.read_csv(TRAINTEST_PATH + MODEL + \"_train.csv\")\n",
    "#data_test  = pd.read_csv(TRAINTEST_PATH + MODEL + \"_test.csv\")"
   ]
  },
  {
   "cell_type": "markdown",
   "id": "b3d93f73",
   "metadata": {},
   "source": [
    "#### B.c) Training the model"
   ]
  },
  {
   "cell_type": "code",
   "execution_count": 153,
   "id": "d181e87e",
   "metadata": {},
   "outputs": [
    {
     "name": "stdout",
     "output_type": "stream",
     "text": [
      "0\n",
      "1000\n",
      "2000\n",
      "3000\n",
      "4000\n",
      "5000\n",
      "6000\n",
      "7000\n",
      "8000\n",
      "9000\n"
     ]
    }
   ],
   "source": [
    "epochs = 10000\n",
    "\n",
    "epoch_count       = []\n",
    "test_score_count  = []\n",
    "\n",
    "for epoch in range(epochs): \n",
    "    if epoch%1000 == 0 :\n",
    "        print(epoch)\n",
    "    epoch_count.append(epoch)\n",
    "       \n",
    "    Model.train() #train mode settles all parameters that need gradients (steepness of the hill i.e. pente)\n",
    "    \n",
    "    for data in loader_train:\n",
    "        \n",
    "        #1: Forward pass\n",
    "        y_pred = Model(data) #forward, goes through the network\n",
    "        \n",
    "        #2: Loss calculation\n",
    "        loss = Loss_fn(y_pred.flatten(),data.target)\n",
    "        \n",
    "        #3: Optimizer zero grad\n",
    "        Optimizer.zero_grad() #when performing gradient descent, the gradient added is not set to zero\n",
    "                              #so we need to make it 0 before every iteration\n",
    "        \n",
    "        #4: Backward propagation\n",
    "        loss.backward()\n",
    "        \n",
    "        #5: step the optimizer (perform gradient descent)\n",
    "        Optimizer.step() \n",
    "       \n",
    "    #evaluate the model :\n",
    "    Model.eval() #turns off unwanted options\n",
    "     \n",
    "    if epoch%1 == 0 :\n",
    "        with torch.no_grad() :\n",
    "            for testdata in loader_test :\n",
    "                y_pred_test = Model(testdata)\n",
    "                test_score_count.append(Loss_fn(y_pred_test.flatten(),testdata.target))\n",
    "    "
   ]
  },
  {
   "cell_type": "markdown",
   "id": "f01b0d2e",
   "metadata": {},
   "source": [
    "#### B.d) Visualize the Loss"
   ]
  },
  {
   "cell_type": "code",
   "execution_count": 54,
   "id": "d471fa0f",
   "metadata": {},
   "outputs": [
    {
     "ename": "NameError",
     "evalue": "name 'test_score_count' is not defined",
     "output_type": "error",
     "traceback": [
      "\u001b[0;31m---------------------------------------------------------------------------\u001b[0m",
      "\u001b[0;31mNameError\u001b[0m                                 Traceback (most recent call last)",
      "Cell \u001b[0;32mIn[54], line 3\u001b[0m\n\u001b[1;32m      1\u001b[0m first \u001b[38;5;241m=\u001b[39m \u001b[38;5;241m0\u001b[39m \u001b[38;5;66;03m#Starting of the array you want to visualize, permits to zoom on selected regions\u001b[39;00m\n\u001b[0;32m----> 3\u001b[0m plt\u001b[38;5;241m.\u001b[39mplot(\u001b[43mtest_score_count\u001b[49m[first:], color \u001b[38;5;241m=\u001b[39m \u001b[38;5;124m\"\u001b[39m\u001b[38;5;124morange\u001b[39m\u001b[38;5;124m\"\u001b[39m, label \u001b[38;5;241m=\u001b[39m \u001b[38;5;124m\"\u001b[39m\u001b[38;5;124mTest Score\u001b[39m\u001b[38;5;124m\"\u001b[39m)\n\u001b[1;32m      4\u001b[0m plt\u001b[38;5;241m.\u001b[39mlegend()\n\u001b[1;32m      6\u001b[0m \u001b[38;5;28mprint\u001b[39m(\u001b[38;5;124m\"\u001b[39m\u001b[38;5;124mtest mean\u001b[39m\u001b[38;5;124m\"\u001b[39m, np\u001b[38;5;241m.\u001b[39marray(test_score_count[first:])\u001b[38;5;241m.\u001b[39mmean())\n",
      "\u001b[0;31mNameError\u001b[0m: name 'test_score_count' is not defined"
     ]
    }
   ],
   "source": [
    "first = 0 #Starting of the array you want to visualize, permits to zoom on selected regions\n",
    "\n",
    "plt.plot(test_score_count[first:], color = \"orange\", label = \"Test Score\")\n",
    "plt.legend()\n",
    "\n",
    "print(\"test mean\", np.array(test_score_count[first:]).mean())"
   ]
  },
  {
   "cell_type": "markdown",
   "id": "9c1217be",
   "metadata": {},
   "source": [
    "#### B.e) Save the model and the corresponding train/test datasets"
   ]
  },
  {
   "cell_type": "code",
   "execution_count": 157,
   "id": "04c011f4",
   "metadata": {},
   "outputs": [],
   "source": [
    "\n",
    "MODEL = \"model_catconf_0.3_nobatch_addhs.pth\"  #model_9or20_testportion_batchsize_Hydrogens.pth\n",
    "\n",
    "#torch.save(obj=Model.state_dict(), f=MODELS_PATH + MODEL )\n",
    "#data_train.to_csv(TRAINTEST_PATH + MODEL+'_train.csv', index=False)\n",
    "#data_test.to_csv(TRAINTEST_PATH + MODEL+'_test.csv', index=False)\n"
   ]
  }
 ],
 "metadata": {
  "kernelspec": {
   "display_name": "Python 3 (ipykernel)",
   "language": "python",
   "name": "python3"
  },
  "language_info": {
   "codemirror_mode": {
    "name": "ipython",
    "version": 3
   },
   "file_extension": ".py",
   "mimetype": "text/x-python",
   "name": "python",
   "nbconvert_exporter": "python",
   "pygments_lexer": "ipython3",
   "version": "3.11.6"
  }
 },
 "nbformat": 4,
 "nbformat_minor": 5
}
