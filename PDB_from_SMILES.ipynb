{
  "nbformat": 4,
  "nbformat_minor": 0,
  "metadata": {
    "colab": {
      "provenance": []
    },
    "kernelspec": {
      "name": "python3",
      "display_name": "Python 3"
    },
    "language_info": {
      "name": "python"
    }
  },
  "cells": [
    {
      "cell_type": "code",
      "execution_count": null,
      "metadata": {
        "id": "Uykt0riO_qi0"
      },
      "outputs": [],
      "source": [
        "import pandas as pd\n",
        "! pip install rdkit-pypi\n",
        "!cat  /etc/lsb-release\n",
        "import rdkit\n",
        "from rdkit import Chem\n",
        "from rdkit.Chem import AllChem\n",
        "from rdkit.Chem.Draw import IPythonConsole\n",
        "IPythonConsole.ipython_3d = True\n",
        "from rdkit.Chem import Draw\n",
        "from IPython.display import display\n",
        "from rdkit.Chem import rdDistGeom\n",
        "try:\n",
        "  import py3Dmol\n",
        "except:\n",
        "  !pip install py3Dmol\n",
        "  import py3Dmol\n",
        "import py3Dmol"
      ]
    },
    {
      "cell_type": "code",
      "source": [
        "# importing data + pre-selection\n",
        "inhib_all=pd.read_csv('pilot_library.csv')\n",
        "inhib_tri=inhib_all[inhib_all ['zinc'].isna()==False]\n",
        "inhib_tri=inhib_tri[inhib_tri['logp']<4]\n",
        "inhib_tri=inhib_tri[inhib_tri['mw']<=470]\n",
        "inhib_tri=inhib_tri[inhib_tri['mw']>=430]\n",
        "inhib_tri.to_csv('curated_library')\n"
      ],
      "metadata": {
        "id": "CzR4zDXGdlHG"
      },
      "execution_count": null,
      "outputs": []
    },
    {
      "cell_type": "code",
      "source": [
        "from google.colab import drive\n",
        "drive.mount('/content/drive')"
      ],
      "metadata": {
        "id": "9tKE1p-qM0Hm"
      },
      "execution_count": null,
      "outputs": []
    },
    {
      "cell_type": "markdown",
      "source": [
        "show(smi, style='stick'):\n",
        "\n",
        "takes SMILES as input\n",
        "and gives 3D conformation as output\n",
        "\n",
        "from github : https://gist.github.com/korakot/98f0bcd92fdcb8a3b8360ceddd6a5332\n"
      ],
      "metadata": {
        "id": "AIM0Ag66ZRhI"
      }
    },
    {
      "cell_type": "code",
      "source": [
        "def show(smi, style='stick'):\n",
        "    mol = Chem.MolFromSmiles(smi)\n",
        "    mol = Chem.AddHs(mol)\n",
        "    AllChem.EmbedMolecule(mol)\n",
        "    AllChem.MMFFOptimizeMolecule(mol, maxIters=200)\n",
        "    mblock = Chem.MolToMolBlock(mol)\n",
        "\n",
        "    view = py3Dmol.view(width=200, height=200)\n",
        "    view.addModel(mblock, 'mol')\n",
        "    view.setStyle({style:{}})\n",
        "    view.zoomTo()\n",
        "    view.show()\n",
        "    Chem.rdmolfiles.MolToPDBFile(mol, \"output.pdb\")\n",
        "\n",
        "# example\n",
        "#show(formula)"
      ],
      "metadata": {
        "id": "no6V1YzxXxB_"
      },
      "execution_count": 9,
      "outputs": []
    },
    {
      "cell_type": "markdown",
      "source": [
        "Similar as 'show' function\n",
        "\n",
        "'show_n_conformers' function takes SMILES, formula and number of conformers n as input and gives a pdb files for each 3D conformers as output\n",
        "\n",
        "Automatically saves the conformers as pdb files in google drive folder of choice\n",
        "\n",
        "Original function from github : https://greglandrum.github.io/rdkit-blog/posts/2023-02-04-working-with-conformers.html\n",
        "(Modified to fit our needs)"
      ],
      "metadata": {
        "id": "a9omXlzAbNhV"
      }
    },
    {
      "cell_type": "code",
      "source": [
        "import shutil\n",
        "def show_n_conformers(smi, formula, n, style='stick'): # str, str, int\n",
        "    mol = Chem.MolFromSmiles(smi)\n",
        "    mol = Chem.AddHs(mol)\n",
        "    rdDistGeom.EmbedMultipleConfs(mol,n, randomSeed=0xf00d) # <- generate n conformers\n",
        "    print(mol.GetNumConformers(),mol.GetConformer().Is3D())\n",
        "    for i in range(n):\n",
        "      mblock = Chem.MolToMolBlock(mol, confId=i)\n",
        "      view = py3Dmol.view()\n",
        "      view.addModel(mblock, 'mol')\n",
        "      view.setStyle({style:{}})\n",
        "      view.zoomTo()\n",
        "      view.show()\n",
        "      filename = formula+\"_confo_\"+str(i)+\".pdb\"\n",
        "      Chem.rdmolfiles.MolToPDBFile(mol, filename,confId=i)\n",
        "      shutil.copy(\"/content/\"+filename, \"/content/drive/MyDrive/MEET-U/conformations_ligands_pdb\") #change directory\n"
      ],
      "metadata": {
        "id": "IFnupj7jbjhv"
      },
      "execution_count": 6,
      "outputs": []
    },
    {
      "cell_type": "code",
      "source": [
        "# test on known inhbitor CID2807230\n",
        "show_n_conformers('C=CCN1C(=NNC1=S)CSC2=CC=CC=C2[N+](=O)[O-]','C12H12N4O2S2',3)"
      ],
      "metadata": {
        "id": "AJ4bQDuA04ED",
        "colab": {
          "base_uri": "https://localhost:8080/",
          "height": 1000
        },
        "outputId": "817ef1f2-1de1-41ef-db5c-f69230afbcb4"
      },
      "execution_count": 8,
      "outputs": [
        {
          "output_type": "stream",
          "name": "stdout",
          "text": [
            "3 True\n"
          ]
        },
        {
          "output_type": "display_data",
          "data": {
            "application/3dmoljs_load.v0": "<div id=\"3dmolviewer_17055210056433413\"  style=\"position: relative; width: 640px; height: 480px;\">\n        <p id=\"3dmolwarning_17055210056433413\" style=\"background-color:#ffcccc;color:black\">You appear to be running in JupyterLab (or JavaScript failed to load for some other reason).  You need to install the 3dmol extension: <br>\n        <tt>jupyter labextension install jupyterlab_3dmol</tt></p>\n        </div>\n<script>\n\nvar loadScriptAsync = function(uri){\n  return new Promise((resolve, reject) => {\n    //this is to ignore the existence of requirejs amd\n    var savedexports, savedmodule;\n    if (typeof exports !== 'undefined') savedexports = exports;\n    else exports = {}\n    if (typeof module !== 'undefined') savedmodule = module;\n    else module = {}\n\n    var tag = document.createElement('script');\n    tag.src = uri;\n    tag.async = true;\n    tag.onload = () => {\n        exports = savedexports;\n        module = savedmodule;\n        resolve();\n    };\n  var firstScriptTag = document.getElementsByTagName('script')[0];\n  firstScriptTag.parentNode.insertBefore(tag, firstScriptTag);\n});\n};\n\nif(typeof $3Dmolpromise === 'undefined') {\n$3Dmolpromise = null;\n  $3Dmolpromise = loadScriptAsync('https://cdnjs.cloudflare.com/ajax/libs/3Dmol/2.0.4/3Dmol-min.js');\n}\n\nvar viewer_17055210056433413 = null;\nvar warn = document.getElementById(\"3dmolwarning_17055210056433413\");\nif(warn) {\n    warn.parentNode.removeChild(warn);\n}\n$3Dmolpromise.then(function() {\nviewer_17055210056433413 = $3Dmol.createViewer(document.getElementById(\"3dmolviewer_17055210056433413\"),{backgroundColor:\"white\"});\nviewer_17055210056433413.zoomTo();\n\tviewer_17055210056433413.addModel(\"\\n     RDKit          3D\\n\\n 32 33  0  0  0  0  0  0  0  0999 V2000\\n    3.4881    1.7610   -1.7596 C   0  0  0  0  0  0  0  0  0  0  0  0\\n    2.5551    0.9871   -1.2871 C   0  0  0  0  0  0  0  0  0  0  0  0\\n    2.4580   -0.4785   -1.5793 C   0  0  0  0  0  0  0  0  0  0  0  0\\n    2.5348   -1.2613   -0.3725 N   0  0  0  0  0  0  0  0  0  0  0  0\\n    1.5325   -1.6615    0.4191 C   0  0  0  0  0  0  0  0  0  0  0  0\\n    2.0982   -2.3691    1.4284 N   0  0  0  0  0  0  0  0  0  0  0  0\\n    3.3937   -2.3866    1.2390 N   0  0  0  0  0  0  0  0  0  0  0  0\\n    3.7214   -1.7060    0.1227 C   0  0  0  0  0  0  0  0  0  0  0  0\\n    5.2176   -1.4691   -0.4979 S   0  0  0  0  0  0  0  0  0  0  0  0\\n    0.1113   -1.3703    0.2028 C   0  0  0  0  0  0  0  0  0  0  0  0\\n   -0.4276    0.1526    0.9862 S   0  0  0  0  0  0  0  0  0  0  0  0\\n   -2.1804    0.3583    0.6385 C   0  0  0  0  0  0  0  0  0  0  0  0\\n   -2.8868   -0.5629   -0.1120 C   0  0  0  0  0  0  0  0  0  0  0  0\\n   -4.2352   -0.3982   -0.3745 C   0  0  0  0  0  0  0  0  0  0  0  0\\n   -4.9124    0.7012    0.1121 C   0  0  0  0  0  0  0  0  0  0  0  0\\n   -4.1857    1.6033    0.8562 C   0  0  0  0  0  0  0  0  0  0  0  0\\n   -2.8496    1.4758    1.1381 C   0  0  0  0  0  0  0  0  0  0  0  0\\n   -2.1138    2.4078    1.9034 N   0  0  0  0  0  4  0  0  0  0  0  0\\n   -2.4842    3.5903    1.9253 O   0  0  0  0  0  0  0  0  0  0  0  0\\n   -1.0058    2.0528    2.6225 O   0  0  0  0  0  1  0  0  0  0  0  0\\n    3.5033    2.8088   -1.5120 H   0  0  0  0  0  0  0  0  0  0  0  0\\n    4.2970    1.4238   -2.4181 H   0  0  0  0  0  0  0  0  0  0  0  0\\n    1.7856    1.3887   -0.6414 H   0  0  0  0  0  0  0  0  0  0  0  0\\n    1.5221   -0.6202   -2.1427 H   0  0  0  0  0  0  0  0  0  0  0  0\\n    3.3057   -0.7095   -2.2532 H   0  0  0  0  0  0  0  0  0  0  0  0\\n    4.1128   -2.8563    1.8514 H   0  0  0  0  0  0  0  0  0  0  0  0\\n   -0.1711   -1.4131   -0.8884 H   0  0  0  0  0  0  0  0  0  0  0  0\\n   -0.4714   -2.2081    0.6689 H   0  0  0  0  0  0  0  0  0  0  0  0\\n   -2.3291   -1.4283   -0.4884 H   0  0  0  0  0  0  0  0  0  0  0  0\\n   -4.7262   -1.1428   -0.9596 H   0  0  0  0  0  0  0  0  0  0  0  0\\n   -5.9703    0.8515   -0.0812 H   0  0  0  0  0  0  0  0  0  0  0  0\\n   -4.6877    2.4787    1.2533 H   0  0  0  0  0  0  0  0  0  0  0  0\\n  1  2  2  3\\n  2  3  1  0\\n  3  4  1  0\\n  4  5  1  0\\n  5  6  2  0\\n  6  7  1  0\\n  7  8  1  0\\n  8  9  2  0\\n  5 10  1  0\\n 10 11  1  0\\n 11 12  1  0\\n 12 13  2  0\\n 13 14  1  0\\n 14 15  2  0\\n 15 16  1  0\\n 16 17  2  0\\n 17 18  1  0\\n 18 19  2  0\\n 18 20  1  0\\n  8  4  1  0\\n 17 12  1  0\\n  1 21  1  0\\n  1 22  1  0\\n  2 23  1  0\\n  3 24  1  0\\n  3 25  1  0\\n  7 26  1  0\\n 10 27  1  0\\n 10 28  1  0\\n 13 29  1  0\\n 14 30  1  0\\n 15 31  1  0\\n 16 32  1  0\\nM  CHG  2  18   1  20  -1\\nM  END\\n\",\"mol\");\n\tviewer_17055210056433413.setStyle({\"stick\": {}});\n\tviewer_17055210056433413.zoomTo();\nviewer_17055210056433413.render();\n});\n</script>",
            "text/html": [
              "<div id=\"3dmolviewer_17055210056433413\"  style=\"position: relative; width: 640px; height: 480px;\">\n",
              "        <p id=\"3dmolwarning_17055210056433413\" style=\"background-color:#ffcccc;color:black\">You appear to be running in JupyterLab (or JavaScript failed to load for some other reason).  You need to install the 3dmol extension: <br>\n",
              "        <tt>jupyter labextension install jupyterlab_3dmol</tt></p>\n",
              "        </div>\n",
              "<script>\n",
              "\n",
              "var loadScriptAsync = function(uri){\n",
              "  return new Promise((resolve, reject) => {\n",
              "    //this is to ignore the existence of requirejs amd\n",
              "    var savedexports, savedmodule;\n",
              "    if (typeof exports !== 'undefined') savedexports = exports;\n",
              "    else exports = {}\n",
              "    if (typeof module !== 'undefined') savedmodule = module;\n",
              "    else module = {}\n",
              "\n",
              "    var tag = document.createElement('script');\n",
              "    tag.src = uri;\n",
              "    tag.async = true;\n",
              "    tag.onload = () => {\n",
              "        exports = savedexports;\n",
              "        module = savedmodule;\n",
              "        resolve();\n",
              "    };\n",
              "  var firstScriptTag = document.getElementsByTagName('script')[0];\n",
              "  firstScriptTag.parentNode.insertBefore(tag, firstScriptTag);\n",
              "});\n",
              "};\n",
              "\n",
              "if(typeof $3Dmolpromise === 'undefined') {\n",
              "$3Dmolpromise = null;\n",
              "  $3Dmolpromise = loadScriptAsync('https://cdnjs.cloudflare.com/ajax/libs/3Dmol/2.0.4/3Dmol-min.js');\n",
              "}\n",
              "\n",
              "var viewer_17055210056433413 = null;\n",
              "var warn = document.getElementById(\"3dmolwarning_17055210056433413\");\n",
              "if(warn) {\n",
              "    warn.parentNode.removeChild(warn);\n",
              "}\n",
              "$3Dmolpromise.then(function() {\n",
              "viewer_17055210056433413 = $3Dmol.createViewer(document.getElementById(\"3dmolviewer_17055210056433413\"),{backgroundColor:\"white\"});\n",
              "viewer_17055210056433413.zoomTo();\n",
              "\tviewer_17055210056433413.addModel(\"\\n     RDKit          3D\\n\\n 32 33  0  0  0  0  0  0  0  0999 V2000\\n    3.4881    1.7610   -1.7596 C   0  0  0  0  0  0  0  0  0  0  0  0\\n    2.5551    0.9871   -1.2871 C   0  0  0  0  0  0  0  0  0  0  0  0\\n    2.4580   -0.4785   -1.5793 C   0  0  0  0  0  0  0  0  0  0  0  0\\n    2.5348   -1.2613   -0.3725 N   0  0  0  0  0  0  0  0  0  0  0  0\\n    1.5325   -1.6615    0.4191 C   0  0  0  0  0  0  0  0  0  0  0  0\\n    2.0982   -2.3691    1.4284 N   0  0  0  0  0  0  0  0  0  0  0  0\\n    3.3937   -2.3866    1.2390 N   0  0  0  0  0  0  0  0  0  0  0  0\\n    3.7214   -1.7060    0.1227 C   0  0  0  0  0  0  0  0  0  0  0  0\\n    5.2176   -1.4691   -0.4979 S   0  0  0  0  0  0  0  0  0  0  0  0\\n    0.1113   -1.3703    0.2028 C   0  0  0  0  0  0  0  0  0  0  0  0\\n   -0.4276    0.1526    0.9862 S   0  0  0  0  0  0  0  0  0  0  0  0\\n   -2.1804    0.3583    0.6385 C   0  0  0  0  0  0  0  0  0  0  0  0\\n   -2.8868   -0.5629   -0.1120 C   0  0  0  0  0  0  0  0  0  0  0  0\\n   -4.2352   -0.3982   -0.3745 C   0  0  0  0  0  0  0  0  0  0  0  0\\n   -4.9124    0.7012    0.1121 C   0  0  0  0  0  0  0  0  0  0  0  0\\n   -4.1857    1.6033    0.8562 C   0  0  0  0  0  0  0  0  0  0  0  0\\n   -2.8496    1.4758    1.1381 C   0  0  0  0  0  0  0  0  0  0  0  0\\n   -2.1138    2.4078    1.9034 N   0  0  0  0  0  4  0  0  0  0  0  0\\n   -2.4842    3.5903    1.9253 O   0  0  0  0  0  0  0  0  0  0  0  0\\n   -1.0058    2.0528    2.6225 O   0  0  0  0  0  1  0  0  0  0  0  0\\n    3.5033    2.8088   -1.5120 H   0  0  0  0  0  0  0  0  0  0  0  0\\n    4.2970    1.4238   -2.4181 H   0  0  0  0  0  0  0  0  0  0  0  0\\n    1.7856    1.3887   -0.6414 H   0  0  0  0  0  0  0  0  0  0  0  0\\n    1.5221   -0.6202   -2.1427 H   0  0  0  0  0  0  0  0  0  0  0  0\\n    3.3057   -0.7095   -2.2532 H   0  0  0  0  0  0  0  0  0  0  0  0\\n    4.1128   -2.8563    1.8514 H   0  0  0  0  0  0  0  0  0  0  0  0\\n   -0.1711   -1.4131   -0.8884 H   0  0  0  0  0  0  0  0  0  0  0  0\\n   -0.4714   -2.2081    0.6689 H   0  0  0  0  0  0  0  0  0  0  0  0\\n   -2.3291   -1.4283   -0.4884 H   0  0  0  0  0  0  0  0  0  0  0  0\\n   -4.7262   -1.1428   -0.9596 H   0  0  0  0  0  0  0  0  0  0  0  0\\n   -5.9703    0.8515   -0.0812 H   0  0  0  0  0  0  0  0  0  0  0  0\\n   -4.6877    2.4787    1.2533 H   0  0  0  0  0  0  0  0  0  0  0  0\\n  1  2  2  3\\n  2  3  1  0\\n  3  4  1  0\\n  4  5  1  0\\n  5  6  2  0\\n  6  7  1  0\\n  7  8  1  0\\n  8  9  2  0\\n  5 10  1  0\\n 10 11  1  0\\n 11 12  1  0\\n 12 13  2  0\\n 13 14  1  0\\n 14 15  2  0\\n 15 16  1  0\\n 16 17  2  0\\n 17 18  1  0\\n 18 19  2  0\\n 18 20  1  0\\n  8  4  1  0\\n 17 12  1  0\\n  1 21  1  0\\n  1 22  1  0\\n  2 23  1  0\\n  3 24  1  0\\n  3 25  1  0\\n  7 26  1  0\\n 10 27  1  0\\n 10 28  1  0\\n 13 29  1  0\\n 14 30  1  0\\n 15 31  1  0\\n 16 32  1  0\\nM  CHG  2  18   1  20  -1\\nM  END\\n\",\"mol\");\n",
              "\tviewer_17055210056433413.setStyle({\"stick\": {}});\n",
              "\tviewer_17055210056433413.zoomTo();\n",
              "viewer_17055210056433413.render();\n",
              "});\n",
              "</script>"
            ]
          },
          "metadata": {}
        },
        {
          "output_type": "display_data",
          "data": {
            "application/3dmoljs_load.v0": "<div id=\"3dmolviewer_17055210056762683\"  style=\"position: relative; width: 640px; height: 480px;\">\n        <p id=\"3dmolwarning_17055210056762683\" style=\"background-color:#ffcccc;color:black\">You appear to be running in JupyterLab (or JavaScript failed to load for some other reason).  You need to install the 3dmol extension: <br>\n        <tt>jupyter labextension install jupyterlab_3dmol</tt></p>\n        </div>\n<script>\n\nvar loadScriptAsync = function(uri){\n  return new Promise((resolve, reject) => {\n    //this is to ignore the existence of requirejs amd\n    var savedexports, savedmodule;\n    if (typeof exports !== 'undefined') savedexports = exports;\n    else exports = {}\n    if (typeof module !== 'undefined') savedmodule = module;\n    else module = {}\n\n    var tag = document.createElement('script');\n    tag.src = uri;\n    tag.async = true;\n    tag.onload = () => {\n        exports = savedexports;\n        module = savedmodule;\n        resolve();\n    };\n  var firstScriptTag = document.getElementsByTagName('script')[0];\n  firstScriptTag.parentNode.insertBefore(tag, firstScriptTag);\n});\n};\n\nif(typeof $3Dmolpromise === 'undefined') {\n$3Dmolpromise = null;\n  $3Dmolpromise = loadScriptAsync('https://cdnjs.cloudflare.com/ajax/libs/3Dmol/2.0.4/3Dmol-min.js');\n}\n\nvar viewer_17055210056762683 = null;\nvar warn = document.getElementById(\"3dmolwarning_17055210056762683\");\nif(warn) {\n    warn.parentNode.removeChild(warn);\n}\n$3Dmolpromise.then(function() {\nviewer_17055210056762683 = $3Dmol.createViewer(document.getElementById(\"3dmolviewer_17055210056762683\"),{backgroundColor:\"white\"});\nviewer_17055210056762683.zoomTo();\n\tviewer_17055210056762683.addModel(\"\\n     RDKit          3D\\n\\n 32 33  0  0  0  0  0  0  0  0999 V2000\\n   -2.0954   -1.5507   -1.6225 C   0  0  0  0  0  0  0  0  0  0  0  0\\n   -2.9381   -0.5897   -1.2840 C   0  0  0  0  0  0  0  0  0  0  0  0\\n   -2.5779    0.8086   -1.5500 C   0  0  0  0  0  0  0  0  0  0  0  0\\n   -2.5262    1.6024   -0.3223 N   0  0  0  0  0  0  0  0  0  0  0  0\\n   -1.4284    1.7599    0.4303 C   0  0  0  0  0  0  0  0  0  0  0  0\\n   -1.7181    2.5448    1.4873 N   0  0  0  0  0  0  0  0  0  0  0  0\\n   -2.9989    2.8615    1.3694 N   0  0  0  0  0  0  0  0  0  0  0  0\\n   -3.4938    2.2883    0.2670 C   0  0  0  0  0  0  0  0  0  0  0  0\\n   -5.0377    2.4071   -0.2738 S   0  0  0  0  0  0  0  0  0  0  0  0\\n   -0.1097    1.1684    0.1454 C   0  0  0  0  0  0  0  0  0  0  0  0\\n    0.0795   -0.4729    0.8978 S   0  0  0  0  0  0  0  0  0  0  0  0\\n    1.7118   -1.0538    0.4766 C   0  0  0  0  0  0  0  0  0  0  0  0\\n    1.9734   -1.7826   -0.6643 C   0  0  0  0  0  0  0  0  0  0  0  0\\n    3.2289   -2.2302   -0.9883 C   0  0  0  0  0  0  0  0  0  0  0  0\\n    4.2993   -1.9674   -0.1758 C   0  0  0  0  0  0  0  0  0  0  0  0\\n    4.0696   -1.2359    0.9808 C   0  0  0  0  0  0  0  0  0  0  0  0\\n    2.7905   -0.7908    1.2925 C   0  0  0  0  0  0  0  0  0  0  0  0\\n    2.5401   -0.0365    2.4828 N   0  0  0  0  0  4  0  0  0  0  0  0\\n    3.4592    0.6566    2.9727 O   0  0  0  0  0  0  0  0  0  0  0  0\\n    1.3327   -0.0329    3.1222 O   0  0  0  0  0  1  0  0  0  0  0  0\\n   -1.1373   -1.3605   -2.0933 H   0  0  0  0  0  0  0  0  0  0  0  0\\n   -2.3525   -2.5956   -1.4298 H   0  0  0  0  0  0  0  0  0  0  0  0\\n   -3.8766   -0.8585   -0.8174 H   0  0  0  0  0  0  0  0  0  0  0  0\\n   -1.6754    0.8981   -2.1562 H   0  0  0  0  0  0  0  0  0  0  0  0\\n   -3.4080    1.2699   -2.1620 H   0  0  0  0  0  0  0  0  0  0  0  0\\n   -3.5073    3.4769    2.0668 H   0  0  0  0  0  0  0  0  0  0  0  0\\n   -0.0157    1.0806   -0.9677 H   0  0  0  0  0  0  0  0  0  0  0  0\\n    0.7314    1.8246    0.4562 H   0  0  0  0  0  0  0  0  0  0  0  0\\n    1.1151   -1.9874   -1.3054 H   0  0  0  0  0  0  0  0  0  0  0  0\\n    3.3547   -2.7919   -1.8937 H   0  0  0  0  0  0  0  0  0  0  0  0\\n    5.3131   -2.3063   -0.3993 H   0  0  0  0  0  0  0  0  0  0  0  0\\n    4.8978   -1.0041    1.6579 H   0  0  0  0  0  0  0  0  0  0  0  0\\n  1  2  2  3\\n  2  3  1  0\\n  3  4  1  0\\n  4  5  1  0\\n  5  6  2  0\\n  6  7  1  0\\n  7  8  1  0\\n  8  9  2  0\\n  5 10  1  0\\n 10 11  1  0\\n 11 12  1  0\\n 12 13  2  0\\n 13 14  1  0\\n 14 15  2  0\\n 15 16  1  0\\n 16 17  2  0\\n 17 18  1  0\\n 18 19  2  0\\n 18 20  1  0\\n  8  4  1  0\\n 17 12  1  0\\n  1 21  1  0\\n  1 22  1  0\\n  2 23  1  0\\n  3 24  1  0\\n  3 25  1  0\\n  7 26  1  0\\n 10 27  1  0\\n 10 28  1  0\\n 13 29  1  0\\n 14 30  1  0\\n 15 31  1  0\\n 16 32  1  0\\nM  CHG  2  18   1  20  -1\\nM  END\\n\",\"mol\");\n\tviewer_17055210056762683.setStyle({\"stick\": {}});\n\tviewer_17055210056762683.zoomTo();\nviewer_17055210056762683.render();\n});\n</script>",
            "text/html": [
              "<div id=\"3dmolviewer_17055210056762683\"  style=\"position: relative; width: 640px; height: 480px;\">\n",
              "        <p id=\"3dmolwarning_17055210056762683\" style=\"background-color:#ffcccc;color:black\">You appear to be running in JupyterLab (or JavaScript failed to load for some other reason).  You need to install the 3dmol extension: <br>\n",
              "        <tt>jupyter labextension install jupyterlab_3dmol</tt></p>\n",
              "        </div>\n",
              "<script>\n",
              "\n",
              "var loadScriptAsync = function(uri){\n",
              "  return new Promise((resolve, reject) => {\n",
              "    //this is to ignore the existence of requirejs amd\n",
              "    var savedexports, savedmodule;\n",
              "    if (typeof exports !== 'undefined') savedexports = exports;\n",
              "    else exports = {}\n",
              "    if (typeof module !== 'undefined') savedmodule = module;\n",
              "    else module = {}\n",
              "\n",
              "    var tag = document.createElement('script');\n",
              "    tag.src = uri;\n",
              "    tag.async = true;\n",
              "    tag.onload = () => {\n",
              "        exports = savedexports;\n",
              "        module = savedmodule;\n",
              "        resolve();\n",
              "    };\n",
              "  var firstScriptTag = document.getElementsByTagName('script')[0];\n",
              "  firstScriptTag.parentNode.insertBefore(tag, firstScriptTag);\n",
              "});\n",
              "};\n",
              "\n",
              "if(typeof $3Dmolpromise === 'undefined') {\n",
              "$3Dmolpromise = null;\n",
              "  $3Dmolpromise = loadScriptAsync('https://cdnjs.cloudflare.com/ajax/libs/3Dmol/2.0.4/3Dmol-min.js');\n",
              "}\n",
              "\n",
              "var viewer_17055210056762683 = null;\n",
              "var warn = document.getElementById(\"3dmolwarning_17055210056762683\");\n",
              "if(warn) {\n",
              "    warn.parentNode.removeChild(warn);\n",
              "}\n",
              "$3Dmolpromise.then(function() {\n",
              "viewer_17055210056762683 = $3Dmol.createViewer(document.getElementById(\"3dmolviewer_17055210056762683\"),{backgroundColor:\"white\"});\n",
              "viewer_17055210056762683.zoomTo();\n",
              "\tviewer_17055210056762683.addModel(\"\\n     RDKit          3D\\n\\n 32 33  0  0  0  0  0  0  0  0999 V2000\\n   -2.0954   -1.5507   -1.6225 C   0  0  0  0  0  0  0  0  0  0  0  0\\n   -2.9381   -0.5897   -1.2840 C   0  0  0  0  0  0  0  0  0  0  0  0\\n   -2.5779    0.8086   -1.5500 C   0  0  0  0  0  0  0  0  0  0  0  0\\n   -2.5262    1.6024   -0.3223 N   0  0  0  0  0  0  0  0  0  0  0  0\\n   -1.4284    1.7599    0.4303 C   0  0  0  0  0  0  0  0  0  0  0  0\\n   -1.7181    2.5448    1.4873 N   0  0  0  0  0  0  0  0  0  0  0  0\\n   -2.9989    2.8615    1.3694 N   0  0  0  0  0  0  0  0  0  0  0  0\\n   -3.4938    2.2883    0.2670 C   0  0  0  0  0  0  0  0  0  0  0  0\\n   -5.0377    2.4071   -0.2738 S   0  0  0  0  0  0  0  0  0  0  0  0\\n   -0.1097    1.1684    0.1454 C   0  0  0  0  0  0  0  0  0  0  0  0\\n    0.0795   -0.4729    0.8978 S   0  0  0  0  0  0  0  0  0  0  0  0\\n    1.7118   -1.0538    0.4766 C   0  0  0  0  0  0  0  0  0  0  0  0\\n    1.9734   -1.7826   -0.6643 C   0  0  0  0  0  0  0  0  0  0  0  0\\n    3.2289   -2.2302   -0.9883 C   0  0  0  0  0  0  0  0  0  0  0  0\\n    4.2993   -1.9674   -0.1758 C   0  0  0  0  0  0  0  0  0  0  0  0\\n    4.0696   -1.2359    0.9808 C   0  0  0  0  0  0  0  0  0  0  0  0\\n    2.7905   -0.7908    1.2925 C   0  0  0  0  0  0  0  0  0  0  0  0\\n    2.5401   -0.0365    2.4828 N   0  0  0  0  0  4  0  0  0  0  0  0\\n    3.4592    0.6566    2.9727 O   0  0  0  0  0  0  0  0  0  0  0  0\\n    1.3327   -0.0329    3.1222 O   0  0  0  0  0  1  0  0  0  0  0  0\\n   -1.1373   -1.3605   -2.0933 H   0  0  0  0  0  0  0  0  0  0  0  0\\n   -2.3525   -2.5956   -1.4298 H   0  0  0  0  0  0  0  0  0  0  0  0\\n   -3.8766   -0.8585   -0.8174 H   0  0  0  0  0  0  0  0  0  0  0  0\\n   -1.6754    0.8981   -2.1562 H   0  0  0  0  0  0  0  0  0  0  0  0\\n   -3.4080    1.2699   -2.1620 H   0  0  0  0  0  0  0  0  0  0  0  0\\n   -3.5073    3.4769    2.0668 H   0  0  0  0  0  0  0  0  0  0  0  0\\n   -0.0157    1.0806   -0.9677 H   0  0  0  0  0  0  0  0  0  0  0  0\\n    0.7314    1.8246    0.4562 H   0  0  0  0  0  0  0  0  0  0  0  0\\n    1.1151   -1.9874   -1.3054 H   0  0  0  0  0  0  0  0  0  0  0  0\\n    3.3547   -2.7919   -1.8937 H   0  0  0  0  0  0  0  0  0  0  0  0\\n    5.3131   -2.3063   -0.3993 H   0  0  0  0  0  0  0  0  0  0  0  0\\n    4.8978   -1.0041    1.6579 H   0  0  0  0  0  0  0  0  0  0  0  0\\n  1  2  2  3\\n  2  3  1  0\\n  3  4  1  0\\n  4  5  1  0\\n  5  6  2  0\\n  6  7  1  0\\n  7  8  1  0\\n  8  9  2  0\\n  5 10  1  0\\n 10 11  1  0\\n 11 12  1  0\\n 12 13  2  0\\n 13 14  1  0\\n 14 15  2  0\\n 15 16  1  0\\n 16 17  2  0\\n 17 18  1  0\\n 18 19  2  0\\n 18 20  1  0\\n  8  4  1  0\\n 17 12  1  0\\n  1 21  1  0\\n  1 22  1  0\\n  2 23  1  0\\n  3 24  1  0\\n  3 25  1  0\\n  7 26  1  0\\n 10 27  1  0\\n 10 28  1  0\\n 13 29  1  0\\n 14 30  1  0\\n 15 31  1  0\\n 16 32  1  0\\nM  CHG  2  18   1  20  -1\\nM  END\\n\",\"mol\");\n",
              "\tviewer_17055210056762683.setStyle({\"stick\": {}});\n",
              "\tviewer_17055210056762683.zoomTo();\n",
              "viewer_17055210056762683.render();\n",
              "});\n",
              "</script>"
            ]
          },
          "metadata": {}
        },
        {
          "output_type": "display_data",
          "data": {
            "application/3dmoljs_load.v0": "<div id=\"3dmolviewer_17055210056862173\"  style=\"position: relative; width: 640px; height: 480px;\">\n        <p id=\"3dmolwarning_17055210056862173\" style=\"background-color:#ffcccc;color:black\">You appear to be running in JupyterLab (or JavaScript failed to load for some other reason).  You need to install the 3dmol extension: <br>\n        <tt>jupyter labextension install jupyterlab_3dmol</tt></p>\n        </div>\n<script>\n\nvar loadScriptAsync = function(uri){\n  return new Promise((resolve, reject) => {\n    //this is to ignore the existence of requirejs amd\n    var savedexports, savedmodule;\n    if (typeof exports !== 'undefined') savedexports = exports;\n    else exports = {}\n    if (typeof module !== 'undefined') savedmodule = module;\n    else module = {}\n\n    var tag = document.createElement('script');\n    tag.src = uri;\n    tag.async = true;\n    tag.onload = () => {\n        exports = savedexports;\n        module = savedmodule;\n        resolve();\n    };\n  var firstScriptTag = document.getElementsByTagName('script')[0];\n  firstScriptTag.parentNode.insertBefore(tag, firstScriptTag);\n});\n};\n\nif(typeof $3Dmolpromise === 'undefined') {\n$3Dmolpromise = null;\n  $3Dmolpromise = loadScriptAsync('https://cdnjs.cloudflare.com/ajax/libs/3Dmol/2.0.4/3Dmol-min.js');\n}\n\nvar viewer_17055210056862173 = null;\nvar warn = document.getElementById(\"3dmolwarning_17055210056862173\");\nif(warn) {\n    warn.parentNode.removeChild(warn);\n}\n$3Dmolpromise.then(function() {\nviewer_17055210056862173 = $3Dmol.createViewer(document.getElementById(\"3dmolviewer_17055210056862173\"),{backgroundColor:\"white\"});\nviewer_17055210056862173.zoomTo();\n\tviewer_17055210056862173.addModel(\"\\n     RDKit          3D\\n\\n 32 33  0  0  0  0  0  0  0  0999 V2000\\n    3.6358    1.4398    1.2461 C   0  0  0  0  0  0  0  0  0  0  0  0\\n    3.3829    0.1375    1.1482 C   0  0  0  0  0  0  0  0  0  0  0  0\\n    3.2542   -0.5655   -0.1029 C   0  0  0  0  0  0  0  0  0  0  0  0\\n    2.0366   -1.2199   -0.3936 N   0  0  0  0  0  0  0  0  0  0  0  0\\n    0.9490   -0.7597   -1.0127 C   0  0  0  0  0  0  0  0  0  0  0  0\\n    0.0566   -1.7662   -1.0437 N   0  0  0  0  0  0  0  0  0  0  0  0\\n    0.5669   -2.8172   -0.4656 N   0  0  0  0  0  0  0  0  0  0  0  0\\n    1.7832   -2.4980   -0.0606 C   0  0  0  0  0  0  0  0  0  0  0  0\\n    2.7995   -3.5371    0.7280 S   0  0  0  0  0  0  0  0  0  0  0  0\\n    0.7289    0.5578   -1.5578 C   0  0  0  0  0  0  0  0  0  0  0  0\\n   -0.0139    1.6148   -0.2546 S   0  0  0  0  0  0  0  0  0  0  0  0\\n   -1.6332    0.9522    0.0874 C   0  0  0  0  0  0  0  0  0  0  0  0\\n   -1.7595   -0.0138    1.0650 C   0  0  0  0  0  0  0  0  0  0  0  0\\n   -2.9790   -0.5660    1.3785 C   0  0  0  0  0  0  0  0  0  0  0  0\\n   -4.1154   -0.1492    0.7021 C   0  0  0  0  0  0  0  0  0  0  0  0\\n   -4.0105    0.8162   -0.2795 C   0  0  0  0  0  0  0  0  0  0  0  0\\n   -2.7706    1.3524   -0.5720 C   0  0  0  0  0  0  0  0  0  0  0  0\\n   -2.6724    2.3369   -1.5747 N   0  0  0  0  0  4  0  0  0  0  0  0\\n   -3.5247    2.3423   -2.5011 O   0  0  0  0  0  0  0  0  0  0  0  0\\n   -1.6745    3.2767   -1.5552 O   0  0  0  0  0  1  0  0  0  0  0  0\\n    3.7495    1.9920    0.3055 H   0  0  0  0  0  0  0  0  0  0  0  0\\n    3.7362    1.9860    2.1530 H   0  0  0  0  0  0  0  0  0  0  0  0\\n    3.2726   -0.3971    2.0878 H   0  0  0  0  0  0  0  0  0  0  0  0\\n    4.0928   -1.3054   -0.1890 H   0  0  0  0  0  0  0  0  0  0  0  0\\n    3.4603    0.1646   -0.9427 H   0  0  0  0  0  0  0  0  0  0  0  0\\n    0.0878   -3.7565   -0.3448 H   0  0  0  0  0  0  0  0  0  0  0  0\\n    1.5841    1.0680   -2.0101 H   0  0  0  0  0  0  0  0  0  0  0  0\\n   -0.0540    0.4969   -2.3420 H   0  0  0  0  0  0  0  0  0  0  0  0\\n   -0.8936   -0.3683    1.6188 H   0  0  0  0  0  0  0  0  0  0  0  0\\n   -3.0981   -1.3365    2.1544 H   0  0  0  0  0  0  0  0  0  0  0  0\\n   -5.0644   -0.6070    0.9752 H   0  0  0  0  0  0  0  0  0  0  0  0\\n   -4.9133    1.1296   -0.7983 H   0  0  0  0  0  0  0  0  0  0  0  0\\n  1  2  2  3\\n  2  3  1  0\\n  3  4  1  0\\n  4  5  1  0\\n  5  6  2  0\\n  6  7  1  0\\n  7  8  1  0\\n  8  9  2  0\\n  5 10  1  0\\n 10 11  1  0\\n 11 12  1  0\\n 12 13  2  0\\n 13 14  1  0\\n 14 15  2  0\\n 15 16  1  0\\n 16 17  2  0\\n 17 18  1  0\\n 18 19  2  0\\n 18 20  1  0\\n  8  4  1  0\\n 17 12  1  0\\n  1 21  1  0\\n  1 22  1  0\\n  2 23  1  0\\n  3 24  1  0\\n  3 25  1  0\\n  7 26  1  0\\n 10 27  1  0\\n 10 28  1  0\\n 13 29  1  0\\n 14 30  1  0\\n 15 31  1  0\\n 16 32  1  0\\nM  CHG  2  18   1  20  -1\\nM  END\\n\",\"mol\");\n\tviewer_17055210056862173.setStyle({\"stick\": {}});\n\tviewer_17055210056862173.zoomTo();\nviewer_17055210056862173.render();\n});\n</script>",
            "text/html": [
              "<div id=\"3dmolviewer_17055210056862173\"  style=\"position: relative; width: 640px; height: 480px;\">\n",
              "        <p id=\"3dmolwarning_17055210056862173\" style=\"background-color:#ffcccc;color:black\">You appear to be running in JupyterLab (or JavaScript failed to load for some other reason).  You need to install the 3dmol extension: <br>\n",
              "        <tt>jupyter labextension install jupyterlab_3dmol</tt></p>\n",
              "        </div>\n",
              "<script>\n",
              "\n",
              "var loadScriptAsync = function(uri){\n",
              "  return new Promise((resolve, reject) => {\n",
              "    //this is to ignore the existence of requirejs amd\n",
              "    var savedexports, savedmodule;\n",
              "    if (typeof exports !== 'undefined') savedexports = exports;\n",
              "    else exports = {}\n",
              "    if (typeof module !== 'undefined') savedmodule = module;\n",
              "    else module = {}\n",
              "\n",
              "    var tag = document.createElement('script');\n",
              "    tag.src = uri;\n",
              "    tag.async = true;\n",
              "    tag.onload = () => {\n",
              "        exports = savedexports;\n",
              "        module = savedmodule;\n",
              "        resolve();\n",
              "    };\n",
              "  var firstScriptTag = document.getElementsByTagName('script')[0];\n",
              "  firstScriptTag.parentNode.insertBefore(tag, firstScriptTag);\n",
              "});\n",
              "};\n",
              "\n",
              "if(typeof $3Dmolpromise === 'undefined') {\n",
              "$3Dmolpromise = null;\n",
              "  $3Dmolpromise = loadScriptAsync('https://cdnjs.cloudflare.com/ajax/libs/3Dmol/2.0.4/3Dmol-min.js');\n",
              "}\n",
              "\n",
              "var viewer_17055210056862173 = null;\n",
              "var warn = document.getElementById(\"3dmolwarning_17055210056862173\");\n",
              "if(warn) {\n",
              "    warn.parentNode.removeChild(warn);\n",
              "}\n",
              "$3Dmolpromise.then(function() {\n",
              "viewer_17055210056862173 = $3Dmol.createViewer(document.getElementById(\"3dmolviewer_17055210056862173\"),{backgroundColor:\"white\"});\n",
              "viewer_17055210056862173.zoomTo();\n",
              "\tviewer_17055210056862173.addModel(\"\\n     RDKit          3D\\n\\n 32 33  0  0  0  0  0  0  0  0999 V2000\\n    3.6358    1.4398    1.2461 C   0  0  0  0  0  0  0  0  0  0  0  0\\n    3.3829    0.1375    1.1482 C   0  0  0  0  0  0  0  0  0  0  0  0\\n    3.2542   -0.5655   -0.1029 C   0  0  0  0  0  0  0  0  0  0  0  0\\n    2.0366   -1.2199   -0.3936 N   0  0  0  0  0  0  0  0  0  0  0  0\\n    0.9490   -0.7597   -1.0127 C   0  0  0  0  0  0  0  0  0  0  0  0\\n    0.0566   -1.7662   -1.0437 N   0  0  0  0  0  0  0  0  0  0  0  0\\n    0.5669   -2.8172   -0.4656 N   0  0  0  0  0  0  0  0  0  0  0  0\\n    1.7832   -2.4980   -0.0606 C   0  0  0  0  0  0  0  0  0  0  0  0\\n    2.7995   -3.5371    0.7280 S   0  0  0  0  0  0  0  0  0  0  0  0\\n    0.7289    0.5578   -1.5578 C   0  0  0  0  0  0  0  0  0  0  0  0\\n   -0.0139    1.6148   -0.2546 S   0  0  0  0  0  0  0  0  0  0  0  0\\n   -1.6332    0.9522    0.0874 C   0  0  0  0  0  0  0  0  0  0  0  0\\n   -1.7595   -0.0138    1.0650 C   0  0  0  0  0  0  0  0  0  0  0  0\\n   -2.9790   -0.5660    1.3785 C   0  0  0  0  0  0  0  0  0  0  0  0\\n   -4.1154   -0.1492    0.7021 C   0  0  0  0  0  0  0  0  0  0  0  0\\n   -4.0105    0.8162   -0.2795 C   0  0  0  0  0  0  0  0  0  0  0  0\\n   -2.7706    1.3524   -0.5720 C   0  0  0  0  0  0  0  0  0  0  0  0\\n   -2.6724    2.3369   -1.5747 N   0  0  0  0  0  4  0  0  0  0  0  0\\n   -3.5247    2.3423   -2.5011 O   0  0  0  0  0  0  0  0  0  0  0  0\\n   -1.6745    3.2767   -1.5552 O   0  0  0  0  0  1  0  0  0  0  0  0\\n    3.7495    1.9920    0.3055 H   0  0  0  0  0  0  0  0  0  0  0  0\\n    3.7362    1.9860    2.1530 H   0  0  0  0  0  0  0  0  0  0  0  0\\n    3.2726   -0.3971    2.0878 H   0  0  0  0  0  0  0  0  0  0  0  0\\n    4.0928   -1.3054   -0.1890 H   0  0  0  0  0  0  0  0  0  0  0  0\\n    3.4603    0.1646   -0.9427 H   0  0  0  0  0  0  0  0  0  0  0  0\\n    0.0878   -3.7565   -0.3448 H   0  0  0  0  0  0  0  0  0  0  0  0\\n    1.5841    1.0680   -2.0101 H   0  0  0  0  0  0  0  0  0  0  0  0\\n   -0.0540    0.4969   -2.3420 H   0  0  0  0  0  0  0  0  0  0  0  0\\n   -0.8936   -0.3683    1.6188 H   0  0  0  0  0  0  0  0  0  0  0  0\\n   -3.0981   -1.3365    2.1544 H   0  0  0  0  0  0  0  0  0  0  0  0\\n   -5.0644   -0.6070    0.9752 H   0  0  0  0  0  0  0  0  0  0  0  0\\n   -4.9133    1.1296   -0.7983 H   0  0  0  0  0  0  0  0  0  0  0  0\\n  1  2  2  3\\n  2  3  1  0\\n  3  4  1  0\\n  4  5  1  0\\n  5  6  2  0\\n  6  7  1  0\\n  7  8  1  0\\n  8  9  2  0\\n  5 10  1  0\\n 10 11  1  0\\n 11 12  1  0\\n 12 13  2  0\\n 13 14  1  0\\n 14 15  2  0\\n 15 16  1  0\\n 16 17  2  0\\n 17 18  1  0\\n 18 19  2  0\\n 18 20  1  0\\n  8  4  1  0\\n 17 12  1  0\\n  1 21  1  0\\n  1 22  1  0\\n  2 23  1  0\\n  3 24  1  0\\n  3 25  1  0\\n  7 26  1  0\\n 10 27  1  0\\n 10 28  1  0\\n 13 29  1  0\\n 14 30  1  0\\n 15 31  1  0\\n 16 32  1  0\\nM  CHG  2  18   1  20  -1\\nM  END\\n\",\"mol\");\n",
              "\tviewer_17055210056862173.setStyle({\"stick\": {}});\n",
              "\tviewer_17055210056862173.zoomTo();\n",
              "viewer_17055210056862173.render();\n",
              "});\n",
              "</script>"
            ]
          },
          "metadata": {}
        }
      ]
    },
    {
      "cell_type": "code",
      "source": [
        "# generating conformations for all ligands\n",
        "for i in inhib_tri.index:\n",
        "  print(i)\n",
        "  smiles = inhib_tri.loc[i]['smiles']\n",
        "  formula = inhib_tri.loc[i]['formula']\n",
        "  show_n_conformers(smiles, formula, 3)"
      ],
      "metadata": {
        "id": "pjmQ1rZtLPeO"
      },
      "execution_count": null,
      "outputs": []
    }
  ]
}