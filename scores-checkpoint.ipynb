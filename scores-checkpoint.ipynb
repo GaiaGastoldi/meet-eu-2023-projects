{
 "cells": [
  {
   "cell_type": "code",
   "execution_count": 1,
   "id": "d809b7f3-f4be-4894-b9cd-e9f3672543d6",
   "metadata": {
    "id": "d809b7f3-f4be-4894-b9cd-e9f3672543d6"
   },
   "outputs": [],
   "source": [
    "import os\n",
    "import pandas"
   ]
  },
  {
   "cell_type": "code",
   "execution_count": 2,
   "id": "3626f585-ad54-4918-963f-ac464b97bc69",
   "metadata": {
    "id": "3626f585-ad54-4918-963f-ac464b97bc69"
   },
   "outputs": [],
   "source": [
    "directory = \"./conformations_ligands_pdb\"\n",
    "scoring=dict()"
   ]
  },
  {
   "cell_type": "code",
   "execution_count": 3,
   "id": "6a214ed6-3ff3-4f79-96f5-0c1dd99d43bb",
   "metadata": {
    "id": "6a214ed6-3ff3-4f79-96f5-0c1dd99d43bb"
   },
   "outputs": [],
   "source": [
    "for filename in os.scandir(directory):\n",
    "    if filename.is_file() and filename.name.endswith('.txt'):\n",
    "        f = open(filename,\"r\")\n",
    "        lines=list(f.readlines()) \t\t# faire une liste de toutes les lignes\n",
    "        f.close()\t\t # fermer parce qu’on en a plus besoin là\n",
    "        score = lines[27][13:17] \t\t\t# le score, à enregistrer dans un dict ou un dataframe pour plus tard\n",
    "       \tscoring[str(filename)]= float(score)"
   ]
  },
  {
   "cell_type": "code",
   "execution_count": 4,
   "id": "59135ab6-337f-467e-b561-a9267394867a",
   "metadata": {
    "id": "59135ab6-337f-467e-b561-a9267394867a"
   },
   "outputs": [],
   "source": [
    "n = 30"
   ]
  },
  {
   "cell_type": "code",
   "execution_count": 5,
   "id": "d5d3153c-0a50-4016-8498-b05eaca3a8a3",
   "metadata": {
    "id": "d5d3153c-0a50-4016-8498-b05eaca3a8a3"
   },
   "outputs": [],
   "source": [
    "top_n_keys = sorted(scoring, key=scoring.get)[:n]"
   ]
  },
  {
   "cell_type": "code",
   "execution_count": 6,
   "id": "3f0cc21e-0e3a-44d9-9a99-c42bbcd303e8",
   "metadata": {
    "id": "3f0cc21e-0e3a-44d9-9a99-c42bbcd303e8"
   },
   "outputs": [],
   "source": [
    "top_n_keys_propre = [key.split(\"_log\")[0] for key in [key.split(\"'\")[1] for key in top_n_keys]]"
   ]
  },
  {
   "cell_type": "code",
   "execution_count": 7,
   "id": "cbe3f343-5af0-4ef9-a4d1-6eb898ea5908",
   "metadata": {
    "id": "cbe3f343-5af0-4ef9-a4d1-6eb898ea5908"
   },
   "outputs": [],
   "source": [
    "scores = [scoring[key] for key in top_n_keys]"
   ]
  },
  {
   "cell_type": "code",
   "execution_count": 8,
   "id": "884ff893-fbfb-41fa-803f-99224d1c0adb",
   "metadata": {
    "id": "884ff893-fbfb-41fa-803f-99224d1c0adb"
   },
   "outputs": [],
   "source": [
    "top_ligands = [[lig,score] for lig,score in zip(top_n_keys_propre,scores)]"
   ]
  },
  {
   "cell_type": "code",
   "execution_count": 9,
   "id": "ac16d3fb-6baf-4606-9b3d-386e8fd253ca",
   "metadata": {
    "id": "ac16d3fb-6baf-4606-9b3d-386e8fd253ca"
   },
   "outputs": [
    {
     "data": {
      "text/plain": [
       "[['C25H23N3O5_confo_2', -9.9],\n",
       " ['C22H25ClN2O5S_confo_2', -9.9],\n",
       " ['C25H19N3O6_confo_1', -9.9],\n",
       " ['C22H25ClN6O2_confo_1', -9.9],\n",
       " ['C22H23N7O3_confo_1', -9.9],\n",
       " ['C22H16N4O4S_confo_2', -9.9],\n",
       " ['C25H23N5O4_confo_0', -9.9],\n",
       " ['C24H28N6O2_confo_2', -9.9],\n",
       " ['C24H29N5O3S_confo_1', -9.9],\n",
       " ['C21H23FN6O3S_confo_0', -9.9],\n",
       " ['C18H15N5O5S2_confo_2', -9.9],\n",
       " ['C21H22FN3O5S_confo_0', -9.9],\n",
       " ['C23H18N4O5_confo_0', -9.9],\n",
       " ['C23H18N4O5_confo_1', -9.9],\n",
       " ['C23H22N6O5_confo_0', -9.9],\n",
       " ['C21H23N3O6S_confo_0', -9.9],\n",
       " ['C21H20FN3O5S_confo_0', -9.9],\n",
       " ['C21H20FN3O5S_confo_2', -9.9],\n",
       " ['C23H26F2N6O_confo_1', -9.9],\n",
       " ['C26H29N5O2_confo_0', -9.9],\n",
       " ['C21H23F3N6O2_confo_2', -9.9],\n",
       " ['C25H31N5O4_confo_0', -9.9],\n",
       " ['C22H18O11_confo_1', -9.9],\n",
       " ['C22H18O11_confo_2', -9.9],\n",
       " ['C25H22N6O2_confo_2', -9.9],\n",
       " ['C21H23N7O2S_confo_1', -9.9],\n",
       " ['C24H29N7O2_confo_2', -9.9],\n",
       " ['C25H32N8O_confo_0', -9.9],\n",
       " ['C24H25F2N3O4_confo_0', -9.9],\n",
       " ['C19H19N3O6S2_confo_0', -9.8]]"
      ]
     },
     "execution_count": 9,
     "metadata": {},
     "output_type": "execute_result"
    }
   ],
   "source": [
    "top_ligands"
   ]
  },
  {
   "cell_type": "code",
   "execution_count": null,
   "id": "f1754be3-09c9-4159-822a-289f8b30bfa2",
   "metadata": {},
   "outputs": [],
   "source": []
  }
 ],
 "metadata": {
  "colab": {
   "provenance": []
  },
  "kernelspec": {
   "display_name": "Python 3 (ipykernel)",
   "language": "python",
   "name": "python3"
  },
  "language_info": {
   "codemirror_mode": {
    "name": "ipython",
    "version": 3
   },
   "file_extension": ".py",
   "mimetype": "text/x-python",
   "name": "python",
   "nbconvert_exporter": "python",
   "pygments_lexer": "ipython3",
   "version": "3.11.5"
  }
 },
 "nbformat": 4,
 "nbformat_minor": 5
}
